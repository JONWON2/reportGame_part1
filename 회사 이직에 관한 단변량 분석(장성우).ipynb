{
 "cells": [
  {
   "cell_type": "markdown",
   "id": "7f8ec2a2",
   "metadata": {
    "id": "fX2If7079Fuh"
   },
   "source": [
    "# [실습] 단변량분석 종합실습 : 직원이직 분석"
   ]
  },
  {
   "cell_type": "markdown",
   "id": "cec7d82e",
   "metadata": {
    "id": "t42CZ_o2iHvT"
   },
   "source": [
    "* 회사 인사팀에서는 AIVLER 들에게 직원의 이직여부과 관련해서 분석을 요청하였습니다.\n",
    "* 최근 이직율이 증가하는 것에 대해 우려를 갖고 있기에, 이직여부에 영향을 주는 요인에 대해 분석하여, 직원들이 회사를 떠나지 않도록 인사 프로그램을 준비하려고 합니다.\n",
    "* 필요하다면, 검색을 통해 '직원이 회사를 떠나는 이유' 등을 찾아보는 것은 데이터 분석을 하는데 도움이 될 것입니다.\n",
    "* 자, 이제 인사팀에서 제공한 데이터를 바탕으로 각각 개별 변수의 분포를 살펴보며, 비즈니스 인사이트를 최대한 도출해 봅시다.\n"
   ]
  },
  {
   "cell_type": "markdown",
   "id": "8a727231",
   "metadata": {
    "id": "8nohOtnU9lo_"
   },
   "source": [
    "**단변량 분석 할 때 확인해야 할 점들**\n",
    "\n",
    "* 개별 변수의 분포로 부터…\n",
    "    * 값의 범위 확인\n",
    "    * 데이터가 모여 있는 구간(혹은 범주)와 희박한 구간(혹은 범주) 확인\n",
    "    * 이상치 확인 및 조치 방안\n",
    "    * 결측치 확인 및 조치 방안\n",
    "    * 가변수화, 스케일링 대상 선별\n",
    "\n",
    "* 비즈니스의 일반 사항과 특이사항을 도출\n",
    "    * 추가 분석 대상 도출.\n"
   ]
  },
  {
   "cell_type": "markdown",
   "id": "6bee71c4",
   "metadata": {
    "id": "DAR82IvULLEt"
   },
   "source": [
    "## 0.환경준비"
   ]
  },
  {
   "cell_type": "code",
   "execution_count": 2,
   "id": "fe322040",
   "metadata": {
    "ExecuteTime": {
     "end_time": "2022-02-12T14:05:52.917586Z",
     "start_time": "2022-02-12T14:05:51.793021Z"
    },
    "id": "bTVrr9iaLNsy"
   },
   "outputs": [],
   "source": [
    "import pandas as pd\n",
    "import numpy as np\n",
    "import matplotlib.pyplot as plt\n",
    "import seaborn as sns"
   ]
  },
  {
   "cell_type": "markdown",
   "id": "f185ce4e",
   "metadata": {
    "id": "k7uydL4kJ4q9"
   },
   "source": [
    "![](https://adoptostaging.blob.core.windows.net/media/employee-attrition-reasons-9LIqMv.jpg)"
   ]
  },
  {
   "cell_type": "markdown",
   "id": "bb6d9d42",
   "metadata": {
    "id": "v50TP8BhMJKx"
   },
   "source": [
    "|\t구분\t|\t변수 명\t|\t내용\t|\ttype\t|\t비고\t|\n",
    "|\t----\t|\t----\t|\t----\t|\t----\t|\t----\t|\n",
    "|\t**Target**\t|\t**Attrition**\t|\t이직여부, \t|\t범주\t|Yes , No\t\t|\n",
    "|\tfeature\t|\tAge\t|\t나이\t|\t숫자\t|\t\t|\n",
    "|\tfeature\t|\tBusinessTravel\t|\t출장빈도\t|\t범주\t|Travel_Rarely, Travel_Frequently, Non-Travel\t\t|\n",
    "|\tfeature\t|\tDepartment\t|\t부서\t|\t범주\t|Research & Development, Sales, Human Resources\t|\n",
    "|\tfeature\t|\tDistanceFromHome\t|\t집-직장 거리\t|\t숫자\t|\t마일\t|\n",
    "|\tfeature\t|\tEmployeeNumber\t|\t사번\t|\t??\t|\t\t|\n",
    "|\tfeature\t|\tGender\t|\t성별\t|\t범주\t| Male, Female\t\t|\n",
    "|\tfeature\t|\tJobSatisfaction\t|\t직무 만족도\t|\t범주\t|\t1 Low, 2 Medium, 3 High, 4 Very High\t|\n",
    "|\tfeature\t|\tMaritalStatus\t|\t결혼상태\t|\t범주\t| Single, Married, Divorced\t\t|\n",
    "|\tfeature\t|\tMonthlyIncome\t|\t월급\t|\t숫자\t| 달러\t|\n",
    "|\tfeature\t|\tOverTime\t|\t야근여부\t|\t범주\t|\tYes, No\t|\n",
    "|\tfeature\t|\tPercentSalaryHike\t|\t전년대비 급여인상율\t|\t숫자\t|\t%\t|\n",
    "|\tfeature\t|\tRelationshipSatisfaction\t|\t관계만족도\t|\t범주\t| 1 Low, 2 Medium, 3 High, 4 Very High|\n",
    "|\tfeature\t|\tStockOptionLevel\t|\t스톡옵션레벨\t|\t범주\t| 0 : 없음, 1~3 (클수록 스톡옵션을 많이 받음|\n",
    "|\tfeature\t|\tTotalWorkingYears\t|\t총 경력 연수\t|\t숫자\t|\t\t|\n",
    "|\tfeature\t|\tWorkLifeBalance\t|\t워라밸\t|\t범주\t| 1 Low, 2 Medium, 3 High, 4 Very High"
   ]
  },
  {
   "cell_type": "code",
   "execution_count": 3,
   "id": "b773c78d",
   "metadata": {
    "ExecuteTime": {
     "end_time": "2022-02-12T14:06:02.188669Z",
     "start_time": "2022-02-12T14:06:01.781050Z"
    },
    "colab": {
     "base_uri": "https://localhost:8080/",
     "height": 322
    },
    "executionInfo": {
     "elapsed": 354,
     "status": "ok",
     "timestamp": 1644493778658,
     "user": {
      "displayName": "한기영",
      "photoUrl": "https://lh3.googleusercontent.com/a/default-user=s64",
      "userId": "13049187003176135487"
     },
     "user_tz": -540
    },
    "id": "BId8Kj4t9Fu5",
    "outputId": "f26c1bc5-d903-4015-e239-52b971e4c900"
   },
   "outputs": [
    {
     "data": {
      "text/html": [
       "<div>\n",
       "<style scoped>\n",
       "    .dataframe tbody tr th:only-of-type {\n",
       "        vertical-align: middle;\n",
       "    }\n",
       "\n",
       "    .dataframe tbody tr th {\n",
       "        vertical-align: top;\n",
       "    }\n",
       "\n",
       "    .dataframe thead th {\n",
       "        text-align: right;\n",
       "    }\n",
       "</style>\n",
       "<table border=\"1\" class=\"dataframe\">\n",
       "  <thead>\n",
       "    <tr style=\"text-align: right;\">\n",
       "      <th></th>\n",
       "      <th>Attrition</th>\n",
       "      <th>Age</th>\n",
       "      <th>BusinessTravel</th>\n",
       "      <th>Department</th>\n",
       "      <th>DistanceFromHome</th>\n",
       "      <th>EmployeeNumber</th>\n",
       "      <th>Gender</th>\n",
       "      <th>JobSatisfaction</th>\n",
       "      <th>MaritalStatus</th>\n",
       "      <th>MonthlyIncome</th>\n",
       "      <th>OverTime</th>\n",
       "      <th>PercentSalaryHike</th>\n",
       "      <th>RelationshipSatisfaction</th>\n",
       "      <th>StockOptionLevel</th>\n",
       "      <th>TotalWorkingYears</th>\n",
       "      <th>WorkLifeBalance</th>\n",
       "    </tr>\n",
       "  </thead>\n",
       "  <tbody>\n",
       "    <tr>\n",
       "      <th>0</th>\n",
       "      <td>No</td>\n",
       "      <td>33</td>\n",
       "      <td>Travel_Rarely</td>\n",
       "      <td>Research &amp; Development</td>\n",
       "      <td>7.0</td>\n",
       "      <td>817</td>\n",
       "      <td>Male</td>\n",
       "      <td>3</td>\n",
       "      <td>Married</td>\n",
       "      <td>11691</td>\n",
       "      <td>No</td>\n",
       "      <td>11</td>\n",
       "      <td>4</td>\n",
       "      <td>0</td>\n",
       "      <td>14</td>\n",
       "      <td>4</td>\n",
       "    </tr>\n",
       "    <tr>\n",
       "      <th>1</th>\n",
       "      <td>No</td>\n",
       "      <td>35</td>\n",
       "      <td>Travel_Frequently</td>\n",
       "      <td>Research &amp; Development</td>\n",
       "      <td>18.0</td>\n",
       "      <td>1412</td>\n",
       "      <td>Male</td>\n",
       "      <td>4</td>\n",
       "      <td>Single</td>\n",
       "      <td>9362</td>\n",
       "      <td>No</td>\n",
       "      <td>11</td>\n",
       "      <td>3</td>\n",
       "      <td>0</td>\n",
       "      <td>10</td>\n",
       "      <td>3</td>\n",
       "    </tr>\n",
       "    <tr>\n",
       "      <th>2</th>\n",
       "      <td>No</td>\n",
       "      <td>42</td>\n",
       "      <td>Travel_Rarely</td>\n",
       "      <td>Research &amp; Development</td>\n",
       "      <td>6.0</td>\n",
       "      <td>1911</td>\n",
       "      <td>Male</td>\n",
       "      <td>1</td>\n",
       "      <td>Married</td>\n",
       "      <td>13348</td>\n",
       "      <td>No</td>\n",
       "      <td>13</td>\n",
       "      <td>2</td>\n",
       "      <td>1</td>\n",
       "      <td>18</td>\n",
       "      <td>4</td>\n",
       "    </tr>\n",
       "    <tr>\n",
       "      <th>3</th>\n",
       "      <td>No</td>\n",
       "      <td>46</td>\n",
       "      <td>Travel_Rarely</td>\n",
       "      <td>Sales</td>\n",
       "      <td>2.0</td>\n",
       "      <td>1204</td>\n",
       "      <td>Female</td>\n",
       "      <td>1</td>\n",
       "      <td>Married</td>\n",
       "      <td>17048</td>\n",
       "      <td>No</td>\n",
       "      <td>23</td>\n",
       "      <td>1</td>\n",
       "      <td>0</td>\n",
       "      <td>28</td>\n",
       "      <td>3</td>\n",
       "    </tr>\n",
       "    <tr>\n",
       "      <th>4</th>\n",
       "      <td>No</td>\n",
       "      <td>39</td>\n",
       "      <td>Travel_Frequently</td>\n",
       "      <td>Sales</td>\n",
       "      <td>NaN</td>\n",
       "      <td>1812</td>\n",
       "      <td>Male</td>\n",
       "      <td>4</td>\n",
       "      <td>Divorced</td>\n",
       "      <td>4127</td>\n",
       "      <td>No</td>\n",
       "      <td>18</td>\n",
       "      <td>4</td>\n",
       "      <td>1</td>\n",
       "      <td>7</td>\n",
       "      <td>3</td>\n",
       "    </tr>\n",
       "  </tbody>\n",
       "</table>\n",
       "</div>"
      ],
      "text/plain": [
       "  Attrition  Age     BusinessTravel              Department  DistanceFromHome  \\\n",
       "0        No   33      Travel_Rarely  Research & Development               7.0   \n",
       "1        No   35  Travel_Frequently  Research & Development              18.0   \n",
       "2        No   42      Travel_Rarely  Research & Development               6.0   \n",
       "3        No   46      Travel_Rarely                   Sales               2.0   \n",
       "4        No   39  Travel_Frequently                   Sales               NaN   \n",
       "\n",
       "   EmployeeNumber  Gender  JobSatisfaction MaritalStatus  MonthlyIncome  \\\n",
       "0             817    Male                3       Married          11691   \n",
       "1            1412    Male                4        Single           9362   \n",
       "2            1911    Male                1       Married          13348   \n",
       "3            1204  Female                1       Married          17048   \n",
       "4            1812    Male                4      Divorced           4127   \n",
       "\n",
       "  OverTime  PercentSalaryHike  RelationshipSatisfaction  StockOptionLevel  \\\n",
       "0       No                 11                         4                 0   \n",
       "1       No                 11                         3                 0   \n",
       "2       No                 13                         2                 1   \n",
       "3       No                 23                         1                 0   \n",
       "4       No                 18                         4                 1   \n",
       "\n",
       "   TotalWorkingYears  WorkLifeBalance  \n",
       "0                 14                4  \n",
       "1                 10                3  \n",
       "2                 18                4  \n",
       "3                 28                3  \n",
       "4                  7                3  "
      ]
     },
     "execution_count": 3,
     "metadata": {},
     "output_type": "execute_result"
    }
   ],
   "source": [
    "# data data\n",
    "path = \"https://raw.githubusercontent.com/DA4BAM/dataset/master/Attrition_NA.CSV\"\n",
    "attrition = pd.read_csv(path)\n",
    "attrition.drop(['Education','EducationField', 'EnvironmentSatisfaction', 'JobRole', 'JobInvolvement','NumCompaniesWorked','TrainingTimesLastYear','YearsAtCompany','YearsInCurrentRole','YearsWithCurrManager']\n",
    "               , axis = 1, inplace = True)\n",
    "attrition.head()"
   ]
  },
  {
   "cell_type": "markdown",
   "id": "e3f21b6c",
   "metadata": {
    "id": "bBRhuVPyf4td"
   },
   "source": [
    "## 숫자형 변수 : "
   ]
  },
  {
   "cell_type": "markdown",
   "id": "bf17342d",
   "metadata": {
    "id": "PNYSvDDBdtZA"
   },
   "source": [
    "### ① Age"
   ]
  },
  {
   "cell_type": "code",
   "execution_count": 4,
   "id": "915682d1",
   "metadata": {
    "ExecuteTime": {
     "end_time": "2022-02-12T14:06:05.299278Z",
     "start_time": "2022-02-12T14:06:05.284911Z"
    },
    "id": "NRIsridhK3el"
   },
   "outputs": [],
   "source": [
    "var= 'Age'"
   ]
  },
  {
   "cell_type": "markdown",
   "id": "16ad0603",
   "metadata": {
    "id": "6H1XUqWEIZ0c"
   },
   "source": [
    "1) 변수의 비즈니스 의미"
   ]
  },
  {
   "cell_type": "markdown",
   "id": "9e506b58",
   "metadata": {
    "id": "i62N9PVRKD5n"
   },
   "source": [
    "> 직원 나이"
   ]
  },
  {
   "cell_type": "markdown",
   "id": "2f600b77",
   "metadata": {
    "id": "o9aiDpJZIZi-"
   },
   "source": [
    "2) 숫자, 범주?"
   ]
  },
  {
   "cell_type": "markdown",
   "id": "8d48b56a",
   "metadata": {
    "id": "Y9p3Tsx6IZdV"
   },
   "source": [
    "> 숫자"
   ]
  },
  {
   "cell_type": "markdown",
   "id": "ac8c0dbe",
   "metadata": {
    "id": "l48kdR5Xfbl1"
   },
   "source": [
    "3) NaN 존재 유무 및 조치방안"
   ]
  },
  {
   "cell_type": "code",
   "execution_count": 5,
   "id": "1f214094",
   "metadata": {
    "ExecuteTime": {
     "end_time": "2022-02-12T14:06:06.811811Z",
     "start_time": "2022-02-12T14:06:06.786993Z"
    },
    "colab": {
     "base_uri": "https://localhost:8080/"
    },
    "executionInfo": {
     "elapsed": 49,
     "status": "ok",
     "timestamp": 1644492196109,
     "user": {
      "displayName": "한기영",
      "photoUrl": "https://lh3.googleusercontent.com/a/default-user=s64",
      "userId": "13049187003176135487"
     },
     "user_tz": -540
    },
    "id": "hCn91k1sIZOO",
    "outputId": "9fc50968-22ee-4094-e090-5a88b4802161"
   },
   "outputs": [
    {
     "data": {
      "text/plain": [
       "0"
      ]
     },
     "execution_count": 5,
     "metadata": {},
     "output_type": "execute_result"
    }
   ],
   "source": [
    "attrition[var].isna().sum()"
   ]
  },
  {
   "cell_type": "markdown",
   "id": "b651ad6f",
   "metadata": {
    "id": "Hp5fgxVIKZ-z"
   },
   "source": [
    "> NaN은 존재하지 않음"
   ]
  },
  {
   "cell_type": "markdown",
   "id": "1d79d3c3",
   "metadata": {
    "id": "5d5JYEBCIZID"
   },
   "source": [
    "4) 기초통계량(수치화)"
   ]
  },
  {
   "cell_type": "code",
   "execution_count": 6,
   "id": "b2c912cb",
   "metadata": {
    "ExecuteTime": {
     "end_time": "2022-02-12T14:06:06.842872Z",
     "start_time": "2022-02-12T14:06:06.813773Z"
    },
    "colab": {
     "base_uri": "https://localhost:8080/"
    },
    "executionInfo": {
     "elapsed": 2,
     "status": "ok",
     "timestamp": 1644492197577,
     "user": {
      "displayName": "한기영",
      "photoUrl": "https://lh3.googleusercontent.com/a/default-user=s64",
      "userId": "13049187003176135487"
     },
     "user_tz": -540
    },
    "id": "F151PJCNIZBU",
    "outputId": "90d70c76-5660-4374-f02a-2a4f233b0dd5"
   },
   "outputs": [
    {
     "data": {
      "text/plain": [
       "count    1250.000000\n",
       "mean       36.931200\n",
       "std         9.122162\n",
       "min        18.000000\n",
       "25%        30.000000\n",
       "50%        36.000000\n",
       "75%        43.000000\n",
       "max        60.000000\n",
       "Name: Age, dtype: float64"
      ]
     },
     "execution_count": 6,
     "metadata": {},
     "output_type": "execute_result"
    }
   ],
   "source": [
    "attrition[var].describe()"
   ]
  },
  {
   "cell_type": "markdown",
   "id": "3dd6096f",
   "metadata": {
    "id": "e1yzg_B8IY5M"
   },
   "source": [
    "5) 분포 확인(시각화)"
   ]
  },
  {
   "cell_type": "code",
   "execution_count": 7,
   "id": "9bf318e5",
   "metadata": {
    "ExecuteTime": {
     "end_time": "2022-02-12T14:06:07.140191Z",
     "start_time": "2022-02-12T14:06:06.844736Z"
    },
    "colab": {
     "base_uri": "https://localhost:8080/",
     "height": 279
    },
    "executionInfo": {
     "elapsed": 1019,
     "status": "ok",
     "timestamp": 1644492202243,
     "user": {
      "displayName": "한기영",
      "photoUrl": "https://lh3.googleusercontent.com/a/default-user=s64",
      "userId": "13049187003176135487"
     },
     "user_tz": -540
    },
    "id": "_Lb2G500IYyF",
    "outputId": "4a37aea2-656f-4af8-83b3-db3a4af2f8ec"
   },
   "outputs": [
    {
     "data": {
      "image/png": "[encoded data removed]",
      "text/plain": [
       "<Figure size 432x288 with 1 Axes>"
      ]
     },
     "metadata": {
      "needs_background": "light"
     },
     "output_type": "display_data"
    }
   ],
   "source": [
    "sns.histplot(attrition[var], bins = 20)\n",
    "plt.show()"
   ]
  },
  {
   "cell_type": "code",
   "execution_count": 8,
   "id": "131d12e4",
   "metadata": {
    "ExecuteTime": {
     "end_time": "2022-02-12T14:06:08.432341Z",
     "start_time": "2022-02-12T14:06:08.302300Z"
    },
    "colab": {
     "base_uri": "https://localhost:8080/",
     "height": 302
    },
    "executionInfo": {
     "elapsed": 25,
     "status": "ok",
     "timestamp": 1644492134595,
     "user": {
      "displayName": "한기영",
      "photoUrl": "https://lh3.googleusercontent.com/a/default-user=s64",
      "userId": "13049187003176135487"
     },
     "user_tz": -540
    },
    "id": "xm7IgKJVLsET",
    "outputId": "b69b8deb-fd4b-4363-e604-bf0445f41024"
   },
   "outputs": [
    {
     "data": {
      "image/png": "[encoded data removed]",
      "text/plain": [
       "<Figure size 432x288 with 1 Axes>"
      ]
     },
     "metadata": {
      "needs_background": "light"
     },
     "output_type": "display_data"
    },
    {
     "name": "stdout",
     "output_type": "stream",
     "text": [
      "[30. 18.]\n",
      "[43. 60.]\n"
     ]
    }
   ],
   "source": [
    "box = plt.boxplot(attrition[var])\n",
    "plt.show()\n",
    "\n",
    "print(box['whiskers'][0].get_ydata())\n",
    "print(box['whiskers'][1].get_ydata())"
   ]
  },
  {
   "cell_type": "markdown",
   "id": "8ecced44",
   "metadata": {
    "id": "yRUYICkIIuc0"
   },
   "source": [
    "6) 기초통계량과 분포를 통해서 파악한 내용을 적어 봅시다.\n",
    "\n",
    "보이는 그대로를 넘어, 비즈니스 관점에서 고민하며 적어 봅시다."
   ]
  },
  {
   "cell_type": "markdown",
   "id": "88ef3f8d",
   "metadata": {
    "id": "BOfzt-I5U-5o"
   },
   "source": [
    "* 30대가 주축을 이루고 있음\n",
    "* 18세 : 입사 가능 연령\n",
    "* 60세 : 정년\n",
    "* 40세 이후에 조금은 급격히 줄어드는 것으로 보아, 이때가 퇴사를 많이 하는 시점으로 보임. (보통 대기업에서 40대에 승진에서 누락되는 사람들, 새로운 분야로 진출하려는 사람들, 창업자들이 많아짐)"
   ]
  },
  {
   "cell_type": "markdown",
   "id": "3eb26b90",
   "metadata": {
    "id": "3ZVNnImDIyRE"
   },
   "source": [
    "7) 추가 분석해 볼 사항이 있나요?"
   ]
  },
  {
   "cell_type": "markdown",
   "id": "2e54fa4c",
   "metadata": {
    "id": "67O2ze2WU_vb"
   },
   "source": [
    "* 적절한(단순히 10살 단위가 아닌) 연령대로 분할하고, 연령대 별로 이직여부(이직율)을 검토해볼 필요가 있음\n",
    "    * 직원들의 라이프사이클 파악 필요. 대졸, 입사 2~3년차, 5년차, 7년차 등 승진 및 이직을 고려하는 일반적인 시기 등 감안"
   ]
  },
  {
   "cell_type": "markdown",
   "id": "85d53eba",
   "metadata": {
    "id": "0OMgl0CWrPqj"
   },
   "source": [
    "### ② DistanceFromHome\t"
   ]
  },
  {
   "cell_type": "code",
   "execution_count": 9,
   "id": "6e72cc0b",
   "metadata": {
    "ExecuteTime": {
     "end_time": "2022-02-12T14:06:11.312792Z",
     "start_time": "2022-02-12T14:06:11.289306Z"
    },
    "id": "WYyl98wIeJFs"
   },
   "outputs": [],
   "source": [
    "var2 = \"DistanceFromHome\""
   ]
  },
  {
   "cell_type": "markdown",
   "id": "de799203",
   "metadata": {
    "id": "D2GMLTtXI1oq"
   },
   "source": [
    "1) 변수의 비즈니스 의미"
   ]
  },
  {
   "cell_type": "markdown",
   "id": "51d5bb23",
   "metadata": {
    "id": "KC825STCauLo"
   },
   "source": [
    "> 집에서 부터의 거리를 의미"
   ]
  },
  {
   "cell_type": "markdown",
   "id": "dcc167f9",
   "metadata": {
    "id": "giLkqBaAI1or"
   },
   "source": [
    "2) 숫자, 범주?"
   ]
  },
  {
   "cell_type": "code",
   "execution_count": 10,
   "id": "d40b03b6",
   "metadata": {
    "ExecuteTime": {
     "end_time": "2022-02-12T14:06:31.797992Z",
     "start_time": "2022-02-12T14:06:31.783859Z"
    }
   },
   "outputs": [
    {
     "data": {
      "text/plain": [
       "array([ 7., 18.,  6.,  2., nan,  4., 21.,  8., 20.,  3.,  5., 15.,  1.,\n",
       "        9., 23., 28., 26., 16., 10., 14., 25., 11., 12., 27., 24., 13.,\n",
       "       22., 17., 29., 19.])"
      ]
     },
     "execution_count": 10,
     "metadata": {},
     "output_type": "execute_result"
    }
   ],
   "source": [
    "attrition[var2].unique()"
   ]
  },
  {
   "cell_type": "markdown",
   "id": "dbb5e531",
   "metadata": {
    "id": "No2cgiGyavod"
   },
   "source": [
    "> 숫자"
   ]
  },
  {
   "cell_type": "markdown",
   "id": "0c497326",
   "metadata": {
    "id": "B-JTRSe3I1or"
   },
   "source": [
    "3) NaN 존재 유무 및 조치방안"
   ]
  },
  {
   "cell_type": "markdown",
   "id": "a2d2313c",
   "metadata": {},
   "source": [
    "> Nan 확인을 진행"
   ]
  },
  {
   "cell_type": "code",
   "execution_count": 14,
   "id": "d439f2d8",
   "metadata": {
    "ExecuteTime": {
     "end_time": "2022-02-11T07:02:00.665341Z",
     "start_time": "2022-02-11T07:02:00.652277Z"
    }
   },
   "outputs": [
    {
     "data": {
      "text/plain": [
       "54"
      ]
     },
     "execution_count": 14,
     "metadata": {},
     "output_type": "execute_result"
    }
   ],
   "source": [
    "attrition[var2].isna().sum()"
   ]
  },
  {
   "cell_type": "markdown",
   "id": "567cc5fd",
   "metadata": {},
   "source": [
    "- na값이 54개가 되는것을 확인 할 수 있다.\n",
    "- 값을 없앨지. 가져갈 지 정해야하는데 0으로 하면 집이랑 가깝다고 하니 제거하는게 나을 것 같다."
   ]
  },
  {
   "cell_type": "code",
   "execution_count": 11,
   "id": "2f4f0023",
   "metadata": {
    "ExecuteTime": {
     "end_time": "2022-02-12T14:07:11.297424Z",
     "start_time": "2022-02-12T14:07:11.283384Z"
    },
    "id": "jlxGlCJMaxQZ"
   },
   "outputs": [],
   "source": [
    "# 만약을 대비해서 데이터는 따로 저장을 해놓자.\n",
    "\n",
    "# 집과의 거리만 따로 저장\n",
    "attrition_distance = attrition[var2]"
   ]
  },
  {
   "cell_type": "code",
   "execution_count": 12,
   "id": "3ca88725",
   "metadata": {
    "ExecuteTime": {
     "end_time": "2022-02-12T14:07:11.828444Z",
     "start_time": "2022-02-12T14:07:11.801944Z"
    }
   },
   "outputs": [
    {
     "data": {
      "text/plain": [
       "0        7.0\n",
       "1       18.0\n",
       "2        6.0\n",
       "3        2.0\n",
       "5        4.0\n",
       "        ... \n",
       "1244     5.0\n",
       "1245    19.0\n",
       "1246     9.0\n",
       "1247     2.0\n",
       "1248    16.0\n",
       "Name: DistanceFromHome, Length: 1196, dtype: float64"
      ]
     },
     "execution_count": 12,
     "metadata": {},
     "output_type": "execute_result"
    }
   ],
   "source": [
    "attrition_distance.dropna(axis=0, inplace=True)\n",
    "attrition_distance"
   ]
  },
  {
   "cell_type": "code",
   "execution_count": 13,
   "id": "714bd91b",
   "metadata": {
    "ExecuteTime": {
     "end_time": "2022-02-12T14:07:20.312658Z",
     "start_time": "2022-02-12T14:07:20.299519Z"
    }
   },
   "outputs": [
    {
     "data": {
      "text/plain": [
       "0"
      ]
     },
     "execution_count": 13,
     "metadata": {},
     "output_type": "execute_result"
    }
   ],
   "source": [
    "attrition_distance.isna().sum()"
   ]
  },
  {
   "cell_type": "markdown",
   "id": "656a1c47",
   "metadata": {
    "id": "ATkE_BV4I1os"
   },
   "source": [
    "4) 기초통계량(수치화)"
   ]
  },
  {
   "cell_type": "code",
   "execution_count": 14,
   "id": "f9b888ec",
   "metadata": {
    "ExecuteTime": {
     "end_time": "2022-02-12T14:07:20.328531Z",
     "start_time": "2022-02-12T14:07:20.315320Z"
    },
    "id": "HvjYxr5BayMS"
   },
   "outputs": [
    {
     "data": {
      "text/plain": [
       "count    1196.000000\n",
       "mean        9.258361\n",
       "std         8.166016\n",
       "min         1.000000\n",
       "25%         2.000000\n",
       "50%         7.000000\n",
       "75%        14.000000\n",
       "max        29.000000\n",
       "Name: DistanceFromHome, dtype: float64"
      ]
     },
     "execution_count": 14,
     "metadata": {},
     "output_type": "execute_result"
    }
   ],
   "source": [
    "attrition_distance.describe()"
   ]
  },
  {
   "cell_type": "markdown",
   "id": "eca61f99",
   "metadata": {
    "id": "hsXz3J7aI1os"
   },
   "source": [
    "5) 분포 확인(시각화)"
   ]
  },
  {
   "cell_type": "code",
   "execution_count": 24,
   "id": "6aa9c7a9",
   "metadata": {
    "ExecuteTime": {
     "end_time": "2022-02-12T14:27:50.797403Z",
     "start_time": "2022-02-12T14:27:50.286533Z"
    },
    "id": "Or3r6dBIa0xo"
   },
   "outputs": [
    {
     "data": {
      "text/plain": [
       "Text(0.5, 1.0, 'distance from home violinplot')"
      ]
     },
     "execution_count": 24,
     "metadata": {},
     "output_type": "execute_result"
    },
    {
     "data": {
      "image/png": "[encoded data removed]",
      "text/plain": [
       "<Figure size 576x720 with 4 Axes>"
      ]
     },
     "metadata": {
      "needs_background": "light"
     },
     "output_type": "display_data"
    }
   ],
   "source": [
    "# 히스토그램, 밀도함수, 박스플롯, 바이올린 플롯\n",
    "\n",
    "plt.figure(figsize = (8,10))\n",
    "\n",
    "plt.subplot(2,2,1)\n",
    "plt.hist(attrition_distance, bins=8, edgecolor = \"grey\")\n",
    "plt.title(\"distance from home\")\n",
    "\n",
    "plt.subplot(2,2,2)\n",
    "attrition_distance.plot(kind=\"kde\")\n",
    "plt.title(\"distance from home kde\")\n",
    "\n",
    "plt.subplot(2,2,3)\n",
    "plt.boxplot(attrition_distance, vert = False)\n",
    "plt.title(\"distance from home boxplot\")\n",
    "\n",
    "plt.subplot(2,2,4)\n",
    "plt.violinplot(attrition_distance, vert = False)\n",
    "plt.title(\"distance from home violinplot\")"
   ]
  },
  {
   "cell_type": "markdown",
   "id": "4edcda18",
   "metadata": {},
   "source": []
  },
  {
   "cell_type": "markdown",
   "id": "85334cf8",
   "metadata": {
    "id": "y4u60O2JI1ot"
   },
   "source": [
    "6) 기초통계량과 분포를 통해서 파악한 내용을 적어 봅시다.\n",
    "\n",
    "보이는 그대로를 넘어, 비즈니스 관점에서 고민하며 적어 봅시다."
   ]
  },
  {
   "cell_type": "markdown",
   "id": "37693f1b",
   "metadata": {
    "id": "FK9KjR9BVYqi"
   },
   "source": [
    " > 일단 0~ 13km 이내에 75%가 있는것을 확인할 수 있다.<br>\n",
    " > 대부분 가까운 곳에서 회사를 다니고 있는 것을 알 수 있다. 하지만 이것만 가지고는 이직과 관련을 지을 수 없으니 이직하는 사람과 아닌 사람의 distance를 확인해보면 좋을 것 같다.\n",
    " "
   ]
  },
  {
   "cell_type": "markdown",
   "id": "19656c02",
   "metadata": {
    "id": "iJ96hNV3I1ot"
   },
   "source": [
    "7) 추가 분석해 볼 사항이 있나요?"
   ]
  },
  {
   "cell_type": "markdown",
   "id": "baa64337",
   "metadata": {
    "id": "ICoBfnCJVZ1M"
   },
   "source": [
    "- 이직하는 사람과 아닌사람의 distance를 확인하면 좋을 것 같다. (violin)\n",
    "\n"
   ]
  },
  {
   "cell_type": "markdown",
   "id": "dd4c63f1",
   "metadata": {
    "id": "dE0Tdvu4rY42"
   },
   "source": [
    "### ③ MonthlyIncome"
   ]
  },
  {
   "cell_type": "code",
   "execution_count": 26,
   "id": "c315cb34",
   "metadata": {
    "ExecuteTime": {
     "end_time": "2022-02-12T15:07:20.301850Z",
     "start_time": "2022-02-12T15:07:20.288819Z"
    },
    "id": "boNgXYbZa4B9"
   },
   "outputs": [],
   "source": [
    "var3 = \"MonthlyIncome\""
   ]
  },
  {
   "cell_type": "markdown",
   "id": "d16ad74f",
   "metadata": {
    "id": "ZJAq2-Cqa4B9"
   },
   "source": [
    "1) 변수의 비즈니스 의미"
   ]
  },
  {
   "cell_type": "markdown",
   "id": "24f58c58",
   "metadata": {
    "id": "WG7RsCm0a4B9"
   },
   "source": [
    "> 월급"
   ]
  },
  {
   "cell_type": "markdown",
   "id": "b2b063ca",
   "metadata": {
    "id": "FuisxESNa4B9"
   },
   "source": [
    "2) 숫자, 범주?"
   ]
  },
  {
   "cell_type": "markdown",
   "id": "3f106c4c",
   "metadata": {
    "id": "q_FSvCyla4B9"
   },
   "source": [
    "> 숫자"
   ]
  },
  {
   "cell_type": "markdown",
   "id": "89d0c568",
   "metadata": {
    "id": "mmMQE8kUfc_G"
   },
   "source": [
    "3) NaN 존재 유무 및 조치방안"
   ]
  },
  {
   "cell_type": "code",
   "execution_count": 27,
   "id": "4e755edc",
   "metadata": {
    "ExecuteTime": {
     "end_time": "2022-02-12T15:07:20.316913Z",
     "start_time": "2022-02-12T15:07:20.303818Z"
    },
    "id": "Acmnacl6a4B-"
   },
   "outputs": [
    {
     "data": {
      "text/plain": [
       "0"
      ]
     },
     "execution_count": 27,
     "metadata": {},
     "output_type": "execute_result"
    }
   ],
   "source": [
    "attrition[var3].isna().sum()"
   ]
  },
  {
   "cell_type": "markdown",
   "id": "52583694",
   "metadata": {},
   "source": [
    "> 다행이도 없다.\n",
    "> 만약 월급이 없으면 왜다니는가"
   ]
  },
  {
   "cell_type": "markdown",
   "id": "f72289a8",
   "metadata": {
    "id": "Ry78zRZZa4B-"
   },
   "source": [
    "4) 기초통계량(수치화)"
   ]
  },
  {
   "cell_type": "code",
   "execution_count": 28,
   "id": "a801840d",
   "metadata": {
    "ExecuteTime": {
     "end_time": "2022-02-12T15:07:21.797320Z",
     "start_time": "2022-02-12T15:07:21.774864Z"
    },
    "id": "-D2vLs37a4B-"
   },
   "outputs": [
    {
     "data": {
      "text/plain": [
       "count     1250.000000\n",
       "mean      6525.548000\n",
       "std       4676.979554\n",
       "min       1009.000000\n",
       "25%       2932.250000\n",
       "50%       4988.000000\n",
       "75%       8437.500000\n",
       "max      19999.000000\n",
       "Name: MonthlyIncome, dtype: float64"
      ]
     },
     "execution_count": 28,
     "metadata": {},
     "output_type": "execute_result"
    }
   ],
   "source": [
    "attrition[var3].describe()"
   ]
  },
  {
   "cell_type": "markdown",
   "id": "318e17c4",
   "metadata": {
    "id": "CIYsMvJZa4B-"
   },
   "source": [
    "5) 분포 확인(시각화)"
   ]
  },
  {
   "cell_type": "code",
   "execution_count": 29,
   "id": "13596969",
   "metadata": {
    "ExecuteTime": {
     "end_time": "2022-02-12T15:07:22.285853Z",
     "start_time": "2022-02-12T15:07:21.799975Z"
    },
    "id": "Rdre_30Ua4B-"
   },
   "outputs": [
    {
     "data": {
      "text/plain": [
       "Text(0.5, 1.0, 'MonthlyIncome violinplot')"
      ]
     },
     "execution_count": 29,
     "metadata": {},
     "output_type": "execute_result"
    },
    {
     "data": {
      "image/png": "[encoded data removed]",
      "text/plain": [
       "<Figure size 576x720 with 4 Axes>"
      ]
     },
     "metadata": {
      "needs_background": "light"
     },
     "output_type": "display_data"
    }
   ],
   "source": [
    "# 히스토그램, 밀도함수, 박스플롯, 바이올린 플롯\n",
    "\n",
    "plt.figure(figsize = (8,10))\n",
    "\n",
    "plt.subplot(2,2,1)\n",
    "plt.hist(attrition[var3], bins=8, edgecolor = \"grey\")\n",
    "plt.title(\"MonthlyIncome\")\n",
    "\n",
    "plt.subplot(2,2,2)\n",
    "attrition[var3].plot(kind=\"kde\")\n",
    "plt.title(\"MonthlyIncome kde\")\n",
    "\n",
    "plt.subplot(2,2,3)\n",
    "plt.boxplot(attrition[var3], vert = False)\n",
    "plt.title(\"MonthlyIncome boxplot\")\n",
    "\n",
    "plt.subplot(2,2,4)\n",
    "plt.violinplot(attrition[var3], vert = False)\n",
    "plt.title(\"MonthlyIncome violinplot\")"
   ]
  },
  {
   "cell_type": "markdown",
   "id": "ae887a83",
   "metadata": {
    "id": "TgiIpcUra4B-"
   },
   "source": [
    "6) 기초통계량과 분포를 통해서 파악한 내용을 적어 봅시다.\n",
    "\n",
    "보이는 그대로를 넘어, 비즈니스 관점에서 고민하며 적어 봅시다."
   ]
  },
  {
   "cell_type": "markdown",
   "id": "28741aa8",
   "metadata": {
    "id": "jkClp2uVa4B_"
   },
   "source": [
    "- 연봉이 5000이하가 제일 많은 분포를 보이고 있다. 그리고 이상치로 보이는 것에 15000~ 20000사이도 많은 데이터가 있는것을 알 수 있다."
   ]
  },
  {
   "cell_type": "markdown",
   "id": "95ee5618",
   "metadata": {
    "id": "SKkxtQPWa4B_"
   },
   "source": [
    "7) 추가 분석해 볼 사항이 있나요?"
   ]
  },
  {
   "cell_type": "markdown",
   "id": "c0ddf85a",
   "metadata": {
    "id": "ClKWi_EZa4B_"
   },
   "source": [
    "> 위에랑 같이 이직한사람과 안한사람의 나이별 돈 차이를 보고싶다."
   ]
  },
  {
   "cell_type": "markdown",
   "id": "81f783d7",
   "metadata": {
    "id": "kasJ05pvrg9A"
   },
   "source": [
    "### ④ PercentSalaryHike"
   ]
  },
  {
   "cell_type": "code",
   "execution_count": 31,
   "id": "ac38c3af",
   "metadata": {
    "ExecuteTime": {
     "end_time": "2022-02-12T15:08:50.306916Z",
     "start_time": "2022-02-12T15:08:50.294921Z"
    },
    "id": "8uVZW7Bja6aA"
   },
   "outputs": [],
   "source": [
    "var4 = \"PercentSalaryHike\""
   ]
  },
  {
   "cell_type": "markdown",
   "id": "9985be2c",
   "metadata": {
    "id": "PpG0AZJpa6aA"
   },
   "source": [
    "1) 변수의 비즈니스 의미"
   ]
  },
  {
   "cell_type": "markdown",
   "id": "215e8cdf",
   "metadata": {
    "id": "cHus3R0Wa6aB"
   },
   "source": [
    "> 전년대비 급여 인상률"
   ]
  },
  {
   "cell_type": "markdown",
   "id": "afe3c35f",
   "metadata": {
    "id": "P6TZ9Fv4a6aB"
   },
   "source": [
    "2) 숫자, 범주?"
   ]
  },
  {
   "cell_type": "markdown",
   "id": "c6d0ff3e",
   "metadata": {
    "id": "10nqVgeSa6aB"
   },
   "source": [
    "> 무조건 숫자"
   ]
  },
  {
   "cell_type": "markdown",
   "id": "ab6ce1bb",
   "metadata": {
    "id": "f1M9y9bBfeMt"
   },
   "source": [
    "3) NaN 존재 유무 및 조치방안"
   ]
  },
  {
   "cell_type": "code",
   "execution_count": 32,
   "id": "864c8ece",
   "metadata": {
    "ExecuteTime": {
     "end_time": "2022-02-12T15:08:50.321955Z",
     "start_time": "2022-02-12T15:08:50.309917Z"
    },
    "id": "DScoTOr0a6aB"
   },
   "outputs": [
    {
     "data": {
      "text/plain": [
       "0"
      ]
     },
     "execution_count": 32,
     "metadata": {},
     "output_type": "execute_result"
    }
   ],
   "source": [
    "attrition[var4].isna().sum()"
   ]
  },
  {
   "cell_type": "markdown",
   "id": "66333daf",
   "metadata": {
    "id": "pifpaYlya6aB"
   },
   "source": [
    "4) 기초통계량(수치화)"
   ]
  },
  {
   "cell_type": "code",
   "execution_count": 33,
   "id": "0e8a4367",
   "metadata": {
    "ExecuteTime": {
     "end_time": "2022-02-12T15:08:50.337768Z",
     "start_time": "2022-02-12T15:08:50.323955Z"
    },
    "id": "INNZMp5va6aB"
   },
   "outputs": [
    {
     "data": {
      "text/plain": [
       "count    1250.000000\n",
       "mean       15.216000\n",
       "std         3.625556\n",
       "min        11.000000\n",
       "25%        12.000000\n",
       "50%        14.000000\n",
       "75%        18.000000\n",
       "max        25.000000\n",
       "Name: PercentSalaryHike, dtype: float64"
      ]
     },
     "execution_count": 33,
     "metadata": {},
     "output_type": "execute_result"
    }
   ],
   "source": [
    "attrition[var4].describe()"
   ]
  },
  {
   "cell_type": "markdown",
   "id": "abd248c4",
   "metadata": {
    "id": "WYr6Wnraa6aB"
   },
   "source": [
    "5) 분포 확인(시각화)"
   ]
  },
  {
   "cell_type": "code",
   "execution_count": 34,
   "id": "baef62f3",
   "metadata": {
    "ExecuteTime": {
     "end_time": "2022-02-12T15:09:26.776845Z",
     "start_time": "2022-02-12T15:09:26.294723Z"
    },
    "id": "NoOVAAYma6aB"
   },
   "outputs": [
    {
     "data": {
      "text/plain": [
       "Text(0.5, 1.0, 'PercentSalaryHike violinplot')"
      ]
     },
     "execution_count": 34,
     "metadata": {},
     "output_type": "execute_result"
    },
    {
     "data": {
      "image/png": "[encoded data removed]",
      "text/plain": [
       "<Figure size 576x720 with 4 Axes>"
      ]
     },
     "metadata": {
      "needs_background": "light"
     },
     "output_type": "display_data"
    }
   ],
   "source": [
    "# 히스토그램, 밀도함수, 박스플롯, 바이올린 플롯\n",
    "\n",
    "plt.figure(figsize = (8,10))\n",
    "\n",
    "plt.subplot(2,2,1)\n",
    "plt.hist(attrition[var4], bins=8, edgecolor = \"grey\")\n",
    "plt.title(\"PercentSalaryHike\")\n",
    "\n",
    "plt.subplot(2,2,2)\n",
    "attrition[var4].plot(kind=\"kde\")\n",
    "plt.title(\"PercentSalaryHike kde\")\n",
    "\n",
    "plt.subplot(2,2,3)\n",
    "plt.boxplot(attrition[var4], vert = False)\n",
    "plt.title(\"PercentSalaryHike boxplot\")\n",
    "\n",
    "plt.subplot(2,2,4)\n",
    "plt.violinplot(attrition[var4], vert = False)\n",
    "plt.title(\"PercentSalaryHike violinplot\")"
   ]
  },
  {
   "cell_type": "markdown",
   "id": "ec05a630",
   "metadata": {
    "id": "MZzUiLNUa6aB"
   },
   "source": [
    "6) 기초통계량과 분포를 통해서 파악한 내용을 적어 봅시다.\n",
    "\n",
    "보이는 그대로를 넘어, 비즈니스 관점에서 고민하며 적어 봅시다."
   ]
  },
  {
   "cell_type": "markdown",
   "id": "033d1020",
   "metadata": {
    "id": "uGrwur8Ta6aB"
   },
   "source": [
    "> 10% ~ 20%사이에 대부분이 분포하고있다.<br>\n",
    "> 인상률이 많은 사람들은 이직을 하는지 안하는지 보면 좋을 것 같다."
   ]
  },
  {
   "cell_type": "markdown",
   "id": "d9b8431b",
   "metadata": {
    "id": "vjV82BY0ndIy"
   },
   "source": [
    "### ⑤ TotalWorkingYears"
   ]
  },
  {
   "cell_type": "code",
   "execution_count": 35,
   "id": "9180a754",
   "metadata": {
    "ExecuteTime": {
     "end_time": "2022-02-12T15:10:08.315633Z",
     "start_time": "2022-02-12T15:10:08.288728Z"
    },
    "id": "So6aeFexa9Ig"
   },
   "outputs": [],
   "source": [
    "var5 = \"TotalWorkingYears\""
   ]
  },
  {
   "cell_type": "markdown",
   "id": "8f242270",
   "metadata": {
    "id": "Q9OItSE7a9Ih"
   },
   "source": [
    "1) 변수의 비즈니스 의미"
   ]
  },
  {
   "cell_type": "markdown",
   "id": "f4381859",
   "metadata": {
    "id": "ndOl8xR7a9Ih"
   },
   "source": [
    "> 총 경력 연수"
   ]
  },
  {
   "cell_type": "markdown",
   "id": "6dfe92e8",
   "metadata": {
    "id": "wFkgMsuba9Ih"
   },
   "source": [
    "2) 숫자, 범주?"
   ]
  },
  {
   "cell_type": "markdown",
   "id": "27b3ee52",
   "metadata": {
    "id": "NepnmnJMa9Ih"
   },
   "source": [
    "> 숫자"
   ]
  },
  {
   "cell_type": "markdown",
   "id": "ae063983",
   "metadata": {
    "id": "uI2vG1TbffQ9"
   },
   "source": [
    "3) NaN 존재 유무 및 조치방안"
   ]
  },
  {
   "cell_type": "code",
   "execution_count": 36,
   "id": "12c4b351",
   "metadata": {
    "ExecuteTime": {
     "end_time": "2022-02-12T15:10:11.309841Z",
     "start_time": "2022-02-12T15:10:11.283330Z"
    },
    "id": "czEUYtfaa9Ih"
   },
   "outputs": [
    {
     "data": {
      "text/plain": [
       "0"
      ]
     },
     "execution_count": 36,
     "metadata": {},
     "output_type": "execute_result"
    }
   ],
   "source": [
    "attrition[var5].isna().sum()"
   ]
  },
  {
   "cell_type": "markdown",
   "id": "2744597d",
   "metadata": {
    "id": "lpeKC2zIa9Ih"
   },
   "source": [
    "4) 기초통계량(수치화)"
   ]
  },
  {
   "cell_type": "code",
   "execution_count": 37,
   "id": "ed29f898",
   "metadata": {
    "ExecuteTime": {
     "end_time": "2022-02-12T15:10:11.325716Z",
     "start_time": "2022-02-12T15:10:11.313599Z"
    },
    "id": "F9RqLWmoa9Ii"
   },
   "outputs": [
    {
     "data": {
      "text/plain": [
       "count    1250.00000\n",
       "mean       11.33920\n",
       "std         7.79687\n",
       "min         0.00000\n",
       "25%         6.00000\n",
       "50%        10.00000\n",
       "75%        15.00000\n",
       "max        40.00000\n",
       "Name: TotalWorkingYears, dtype: float64"
      ]
     },
     "execution_count": 37,
     "metadata": {},
     "output_type": "execute_result"
    }
   ],
   "source": [
    "attrition[var5].describe()"
   ]
  },
  {
   "cell_type": "markdown",
   "id": "8c1197c1",
   "metadata": {
    "id": "_C7dYJWEa9Ii"
   },
   "source": [
    "5) 분포 확인(시각화)"
   ]
  },
  {
   "cell_type": "code",
   "execution_count": 38,
   "id": "ba3f05f0",
   "metadata": {
    "ExecuteTime": {
     "end_time": "2022-02-12T15:10:37.272429Z",
     "start_time": "2022-02-12T15:10:36.787850Z"
    },
    "id": "CUc9PJQAa9Ii"
   },
   "outputs": [
    {
     "data": {
      "text/plain": [
       "Text(0.5, 1.0, 'TotalWorkingYears violinplot')"
      ]
     },
     "execution_count": 38,
     "metadata": {},
     "output_type": "execute_result"
    },
    {
     "data": {
      "image/png": "[encoded data removed]",
      "text/plain": [
       "<Figure size 576x720 with 4 Axes>"
      ]
     },
     "metadata": {
      "needs_background": "light"
     },
     "output_type": "display_data"
    }
   ],
   "source": [
    "# 히스토그램, 밀도함수, 박스플롯, 바이올린 플롯\n",
    "\n",
    "plt.figure(figsize = (8,10))\n",
    "\n",
    "plt.subplot(2,2,1)\n",
    "plt.hist(attrition[var5], bins=8, edgecolor = \"grey\")\n",
    "plt.title(\"TotalWorkingYears\")\n",
    "\n",
    "plt.subplot(2,2,2)\n",
    "attrition[var5].plot(kind=\"kde\")\n",
    "plt.title(\"TotalWorkingYears kde\")\n",
    "\n",
    "plt.subplot(2,2,3)\n",
    "plt.boxplot(attrition[var5], vert = False)\n",
    "plt.title(\"TotalWorkingYears boxplot\")\n",
    "\n",
    "plt.subplot(2,2,4)\n",
    "plt.violinplot(attrition[var5], vert = False)\n",
    "plt.title(\"TotalWorkingYears violinplot\")"
   ]
  },
  {
   "cell_type": "markdown",
   "id": "3b16278d",
   "metadata": {
    "id": "_9J66Gnya9Ii"
   },
   "source": [
    "6) 기초통계량과 분포를 통해서 파악한 내용을 적어 봅시다.\n",
    "\n",
    "보이는 그대로를 넘어, 비즈니스 관점에서 고민하며 적어 봅시다."
   ]
  },
  {
   "cell_type": "markdown",
   "id": "088af8c8",
   "metadata": {
    "id": "z8TXXNrya9Ii"
   },
   "source": [
    "> 경력연수가 10년을 기점으로 나가는 사람이 많아지고 있다. <br>\n",
    "> 특히 10년 15년을 기점으로는 많이 나가는것으로 보아 무슨 문제가 있는지 파악을 하면 좋을 것 같다."
   ]
  },
  {
   "cell_type": "markdown",
   "id": "2e8eb193",
   "metadata": {
    "id": "5ZbpQQrXPdOm"
   },
   "source": [
    "## 범주형 변수"
   ]
  },
  {
   "cell_type": "markdown",
   "id": "89d8c3a4",
   "metadata": {
    "id": "kqX5E-ksv4Bl"
   },
   "source": [
    "### ① Attrition"
   ]
  },
  {
   "cell_type": "code",
   "execution_count": 39,
   "id": "68bfd68f",
   "metadata": {
    "ExecuteTime": {
     "end_time": "2022-02-12T15:11:38.315393Z",
     "start_time": "2022-02-12T15:11:38.303997Z"
    },
    "id": "jF4sAsmtOZbs"
   },
   "outputs": [],
   "source": [
    "var = 'Attrition'"
   ]
  },
  {
   "cell_type": "markdown",
   "id": "e228e37a",
   "metadata": {
    "id": "3BvxFp7SI8Gl"
   },
   "source": [
    "1) 변수의 비즈니스 의미"
   ]
  },
  {
   "cell_type": "markdown",
   "id": "18d6df75",
   "metadata": {
    "id": "T6vUp9AsOQ0b"
   },
   "source": [
    "> 직원 이직여부"
   ]
  },
  {
   "cell_type": "markdown",
   "id": "b38a72a6",
   "metadata": {
    "id": "hAaTYkgRI8Gl"
   },
   "source": [
    "2) 숫자, 범주?"
   ]
  },
  {
   "cell_type": "code",
   "execution_count": 40,
   "id": "a3873364",
   "metadata": {
    "ExecuteTime": {
     "end_time": "2022-02-12T15:11:41.311692Z",
     "start_time": "2022-02-12T15:11:41.299344Z"
    },
    "id": "FdFChl3ZI8Gm"
   },
   "outputs": [
    {
     "data": {
      "text/plain": [
       "array(['No', 'Yes'], dtype=object)"
      ]
     },
     "execution_count": 40,
     "metadata": {},
     "output_type": "execute_result"
    }
   ],
   "source": [
    "attrition[var].unique()"
   ]
  },
  {
   "cell_type": "markdown",
   "id": "0d017066",
   "metadata": {
    "id": "nh7qf5FkOUL8"
   },
   "source": [
    "> * 범주형 데이터\n",
    "* 범주 종류 Yes , No"
   ]
  },
  {
   "cell_type": "markdown",
   "id": "bbbdb98f",
   "metadata": {
    "id": "jhav8qjXfh87"
   },
   "source": [
    "3) NaN 존재 유무 및 조치방안"
   ]
  },
  {
   "cell_type": "code",
   "execution_count": 41,
   "id": "ebeeb82a",
   "metadata": {
    "ExecuteTime": {
     "end_time": "2022-02-12T15:11:47.311539Z",
     "start_time": "2022-02-12T15:11:47.297249Z"
    },
    "colab": {
     "base_uri": "https://localhost:8080/"
    },
    "executionInfo": {
     "elapsed": 17,
     "status": "ok",
     "timestamp": 1644492137142,
     "user": {
      "displayName": "한기영",
      "photoUrl": "https://lh3.googleusercontent.com/a/default-user=s64",
      "userId": "13049187003176135487"
     },
     "user_tz": -540
    },
    "id": "NQnsGdwII8Gm",
    "outputId": "2af42277-a348-46b6-af8c-5ff0690eeff6"
   },
   "outputs": [
    {
     "data": {
      "text/plain": [
       "0"
      ]
     },
     "execution_count": 41,
     "metadata": {},
     "output_type": "execute_result"
    }
   ],
   "source": [
    "attrition[var].isna().sum()"
   ]
  },
  {
   "cell_type": "markdown",
   "id": "f606d4a5",
   "metadata": {
    "id": "yppcedb_O55k"
   },
   "source": [
    "> * NA 없음\n",
    "* 당연히 Target이기에 NA가 있으면 안됨!\n"
   ]
  },
  {
   "cell_type": "markdown",
   "id": "5baad885",
   "metadata": {
    "id": "h3-WFHZHbEZZ"
   },
   "source": [
    "4) 가변수화 필요 여부"
   ]
  },
  {
   "cell_type": "markdown",
   "id": "62ad7f24",
   "metadata": {
    "id": "Glmk3vDrbEZb"
   },
   "source": [
    "> * Yes , No로 되어 있음. \n",
    "* 1, 0으로 변환해야 함."
   ]
  },
  {
   "cell_type": "code",
   "execution_count": 42,
   "id": "9b4c4240",
   "metadata": {
    "ExecuteTime": {
     "end_time": "2022-02-12T15:11:50.316809Z",
     "start_time": "2022-02-12T15:11:50.295774Z"
    },
    "id": "gKnbb-6YgGok"
   },
   "outputs": [],
   "source": [
    "# 변환 코드\n",
    "# attrtion['Attrition'] = np.where(attrtion['Attrition'] == 'Yes', 1, 0)"
   ]
  },
  {
   "cell_type": "markdown",
   "id": "79cc0a68",
   "metadata": {
    "id": "CO8V_hU8I8Gm"
   },
   "source": [
    "5) 기초통계량(수치화)"
   ]
  },
  {
   "cell_type": "code",
   "execution_count": 43,
   "id": "d1bd9dba",
   "metadata": {
    "ExecuteTime": {
     "end_time": "2022-02-12T15:11:50.332789Z",
     "start_time": "2022-02-12T15:11:50.320784Z"
    },
    "id": "M3t_nbXuI8Gm"
   },
   "outputs": [
    {
     "name": "stdout",
     "output_type": "stream",
     "text": [
      "No     1050\n",
      "Yes     200\n",
      "Name: Attrition, dtype: int64\n",
      "No     0.84\n",
      "Yes    0.16\n",
      "Name: Attrition, dtype: float64\n"
     ]
    }
   ],
   "source": [
    "print(attrition[var].value_counts())\n",
    "print(attrition[var].value_counts()/ len(attrition[var]))"
   ]
  },
  {
   "cell_type": "markdown",
   "id": "08c2cb7b",
   "metadata": {
    "id": "L3WLlKxxI8Gn"
   },
   "source": [
    "6) 분포 확인(시각화)"
   ]
  },
  {
   "cell_type": "code",
   "execution_count": 44,
   "id": "7e91bb51",
   "metadata": {
    "ExecuteTime": {
     "end_time": "2022-02-12T15:11:50.474495Z",
     "start_time": "2022-02-12T15:11:50.334748Z"
    },
    "id": "Ll3FsEqbI8Gn"
   },
   "outputs": [
    {
     "name": "stderr",
     "output_type": "stream",
     "text": [
      "C:\\Users\\User\\anaconda3\\lib\\site-packages\\seaborn\\_decorators.py:36: FutureWarning: Pass the following variable as a keyword arg: x. From version 0.12, the only valid positional argument will be `data`, and passing other arguments without an explicit keyword will result in an error or misinterpretation.\n",
      "  warnings.warn(\n"
     ]
    },
    {
     "data": {
      "image/png": "[encoded data removed]",
      "text/plain": [
       "<Figure size 432x288 with 1 Axes>"
      ]
     },
     "metadata": {
      "needs_background": "light"
     },
     "output_type": "display_data"
    }
   ],
   "source": [
    "sns.countplot(attrition[var])\n",
    "plt.show()"
   ]
  },
  {
   "cell_type": "markdown",
   "id": "c7269218",
   "metadata": {
    "id": "LvHI3ZL8I8Gn"
   },
   "source": [
    "7) 기초통계량과 분포를 통해서 파악한 내용을 적어 봅시다.\n",
    "\n",
    "보이는 그대로를 넘어, 비즈니스 관점에서 고민하며 적어 봅시다."
   ]
  },
  {
   "cell_type": "markdown",
   "id": "f45f2639",
   "metadata": {
    "id": "fK9zr5FGPm1E"
   },
   "source": [
    "> * 전체 1196명 직원\n",
    "* 이직자 : 195명, 이직율 : 0.163\n",
    "* 이직율이 16.3% 는 적정한가? 동종 업계 수준은? 전년대비?"
   ]
  },
  {
   "cell_type": "markdown",
   "id": "f13dee90",
   "metadata": {
    "id": "ZLyfuGt3I8Gn"
   },
   "source": [
    "8) 추가 분석해 볼 사항이 있나요?"
   ]
  },
  {
   "cell_type": "markdown",
   "id": "9219ca7b",
   "metadata": {
    "id": "UqE4dpzEQBBM"
   },
   "source": [
    "> * Attribute가 Target 이므로, feature들과 Target 과의 관계를 살펴보게 될 것.\n",
    "* 그러므로 추가 분석하고자 하는 사항은 feature들을 살펴볼 때 도출하게 될 것이라 생각됨."
   ]
  },
  {
   "cell_type": "markdown",
   "id": "22d6f0f1",
   "metadata": {
    "id": "2N1hgVF6v4Bt"
   },
   "source": [
    "### ② OverTime\t"
   ]
  },
  {
   "cell_type": "code",
   "execution_count": 45,
   "id": "9b9970f5",
   "metadata": {
    "ExecuteTime": {
     "end_time": "2022-02-12T15:11:59.307451Z",
     "start_time": "2022-02-12T15:11:59.293360Z"
    },
    "id": "UBIiV-i-mTG8"
   },
   "outputs": [],
   "source": [
    "var2 = \"OverTime\""
   ]
  },
  {
   "cell_type": "markdown",
   "id": "0a71366e",
   "metadata": {
    "id": "K3y9NkZTmTG8"
   },
   "source": [
    "1) 변수의 비즈니스 의미"
   ]
  },
  {
   "cell_type": "markdown",
   "id": "246d5f12",
   "metadata": {
    "id": "XZjpSnoTb_d3"
   },
   "source": [
    "> 야근 여부"
   ]
  },
  {
   "cell_type": "markdown",
   "id": "b840d3ef",
   "metadata": {
    "id": "bXwpXivlmTG9"
   },
   "source": [
    "2) 숫자, 범주?"
   ]
  },
  {
   "cell_type": "markdown",
   "id": "718d17f4",
   "metadata": {
    "id": "0CXMwEgsmTG9"
   },
   "source": [
    "> 범주"
   ]
  },
  {
   "cell_type": "markdown",
   "id": "d4ad7973",
   "metadata": {
    "id": "Vl9wetubf0D7"
   },
   "source": [
    "3) NaN 존재 유무 및 조치방안"
   ]
  },
  {
   "cell_type": "code",
   "execution_count": 46,
   "id": "e7cb4356",
   "metadata": {
    "ExecuteTime": {
     "end_time": "2022-02-12T15:12:02.321712Z",
     "start_time": "2022-02-12T15:12:02.293336Z"
    },
    "id": "faeBKQI0mTG-"
   },
   "outputs": [
    {
     "data": {
      "text/plain": [
       "0"
      ]
     },
     "execution_count": 46,
     "metadata": {},
     "output_type": "execute_result"
    }
   ],
   "source": [
    "attrition[var2].isna().sum()"
   ]
  },
  {
   "cell_type": "markdown",
   "id": "13bf073b",
   "metadata": {
    "id": "OnBaUd-sbxJc"
   },
   "source": [
    "4) 가변수화 필요 여부"
   ]
  },
  {
   "cell_type": "code",
   "execution_count": 47,
   "id": "a9692517",
   "metadata": {
    "ExecuteTime": {
     "end_time": "2022-02-12T15:12:05.320544Z",
     "start_time": "2022-02-12T15:12:05.293523Z"
    },
    "id": "76wKnWQpb7oP"
   },
   "outputs": [
    {
     "data": {
      "text/plain": [
       "array(['No', 'Yes'], dtype=object)"
      ]
     },
     "execution_count": 47,
     "metadata": {},
     "output_type": "execute_result"
    }
   ],
   "source": [
    "attrition[var2].unique()"
   ]
  },
  {
   "cell_type": "markdown",
   "id": "020b6822",
   "metadata": {},
   "source": [
    "> 필요하다."
   ]
  },
  {
   "cell_type": "code",
   "execution_count": 48,
   "id": "02aacb80",
   "metadata": {
    "ExecuteTime": {
     "end_time": "2022-02-12T15:12:05.336116Z",
     "start_time": "2022-02-12T15:12:05.322554Z"
    }
   },
   "outputs": [],
   "source": [
    "attrition[var2] = np.where(attrition[var2] == \"Yes\", 1, 0)"
   ]
  },
  {
   "cell_type": "code",
   "execution_count": 49,
   "id": "a9fea707",
   "metadata": {
    "ExecuteTime": {
     "end_time": "2022-02-12T15:12:06.811999Z",
     "start_time": "2022-02-12T15:12:06.787492Z"
    }
   },
   "outputs": [
    {
     "data": {
      "text/plain": [
       "array([0, 1])"
      ]
     },
     "execution_count": 49,
     "metadata": {},
     "output_type": "execute_result"
    }
   ],
   "source": [
    "attrition[var2].unique()"
   ]
  },
  {
   "cell_type": "markdown",
   "id": "3edba206",
   "metadata": {
    "id": "XjrsG5ovbxJc"
   },
   "source": [
    "5) 기초통계량(수치화)"
   ]
  },
  {
   "cell_type": "code",
   "execution_count": 50,
   "id": "4846b850",
   "metadata": {
    "ExecuteTime": {
     "end_time": "2022-02-12T15:12:08.372131Z",
     "start_time": "2022-02-12T15:12:08.352486Z"
    },
    "id": "WrhNpGFObxJd"
   },
   "outputs": [
    {
     "name": "stdout",
     "output_type": "stream",
     "text": [
      "0    896\n",
      "1    354\n",
      "Name: OverTime, dtype: int64\n",
      "0    0.7168\n",
      "1    0.2832\n",
      "Name: OverTime, dtype: float64\n"
     ]
    }
   ],
   "source": [
    "print(attrition[var2].value_counts())\n",
    "print(attrition[var2].value_counts()/ len(attrition[var2]))"
   ]
  },
  {
   "cell_type": "markdown",
   "id": "86d652d8",
   "metadata": {
    "id": "MB4Gq6KQbxJd"
   },
   "source": [
    "6) 분포 확인(시각화)"
   ]
  },
  {
   "cell_type": "code",
   "execution_count": 53,
   "id": "472bf7a2",
   "metadata": {
    "ExecuteTime": {
     "end_time": "2022-02-12T15:12:35.414228Z",
     "start_time": "2022-02-12T15:12:35.276808Z"
    },
    "id": "FZwtUC-4bxJd"
   },
   "outputs": [
    {
     "name": "stderr",
     "output_type": "stream",
     "text": [
      "C:\\Users\\User\\anaconda3\\lib\\site-packages\\seaborn\\_decorators.py:36: FutureWarning: Pass the following variable as a keyword arg: x. From version 0.12, the only valid positional argument will be `data`, and passing other arguments without an explicit keyword will result in an error or misinterpretation.\n",
      "  warnings.warn(\n"
     ]
    },
    {
     "data": {
      "image/png": "[encoded data removed]",
      "text/plain": [
       "<Figure size 432x288 with 1 Axes>"
      ]
     },
     "metadata": {
      "needs_background": "light"
     },
     "output_type": "display_data"
    }
   ],
   "source": [
    "sns.countplot(attrition[var2])\n",
    "plt.title(\"overtime yes or no\")\n",
    "plt.show()"
   ]
  },
  {
   "cell_type": "markdown",
   "id": "a6b4473a",
   "metadata": {
    "id": "nP-N09cpbxJd"
   },
   "source": [
    "7) 기초통계량과 분포를 통해서 파악한 내용을 적어 봅시다.\n",
    "\n",
    "보이는 그대로를 넘어, 비즈니스 관점에서 고민하며 적어 봅시다."
   ]
  },
  {
   "cell_type": "markdown",
   "id": "dd787009",
   "metadata": {
    "ExecuteTime": {
     "end_time": "2022-02-11T07:36:47.858183Z",
     "start_time": "2022-02-11T07:36:47.846152Z"
    },
    "id": "TkE_F3j9b3aQ"
   },
   "source": [
    "> 야근 하는 사람의 비율이 거의 30%가까이 된다. <br>\n",
    "> 야근율을 낮추는 형식으로 갈 수 있는지 확인해보자.<br>\n",
    "> 추가적으로 야근을 하는 사람의 이직률이 얼마나 되는지도 알아보면 좋을 것 같다.<br>\n"
   ]
  },
  {
   "cell_type": "markdown",
   "id": "46088800",
   "metadata": {
    "id": "ehnCxKg0v4Bt"
   },
   "source": [
    "### ③ MaritalStatus"
   ]
  },
  {
   "cell_type": "code",
   "execution_count": 54,
   "id": "9ad67ee6",
   "metadata": {
    "ExecuteTime": {
     "end_time": "2022-02-12T15:13:16.793859Z",
     "start_time": "2022-02-12T15:13:16.778862Z"
    },
    "id": "7cNPnKrwcBwA"
   },
   "outputs": [],
   "source": [
    "var3 = \"MaritalStatus\""
   ]
  },
  {
   "cell_type": "markdown",
   "id": "aeae08b2",
   "metadata": {
    "id": "eQpGkZFFcBwA"
   },
   "source": [
    "1) 변수의 비즈니스 의미"
   ]
  },
  {
   "cell_type": "markdown",
   "id": "0505dfb9",
   "metadata": {
    "id": "b7giGYR1cBwA"
   },
   "source": [
    "> 결혼상태"
   ]
  },
  {
   "cell_type": "markdown",
   "id": "0a9f349a",
   "metadata": {
    "id": "oLEZaWh8cBwA"
   },
   "source": [
    "2) 숫자, 범주?"
   ]
  },
  {
   "cell_type": "code",
   "execution_count": 55,
   "id": "bab623ec",
   "metadata": {
    "ExecuteTime": {
     "end_time": "2022-02-12T15:13:20.322622Z",
     "start_time": "2022-02-12T15:13:20.299387Z"
    },
    "id": "fh92qSN-cBwA"
   },
   "outputs": [
    {
     "data": {
      "text/plain": [
       "array(['Married', 'Single', 'Divorced'], dtype=object)"
      ]
     },
     "execution_count": 55,
     "metadata": {},
     "output_type": "execute_result"
    }
   ],
   "source": [
    "attrition[var3].unique()"
   ]
  },
  {
   "cell_type": "markdown",
   "id": "116a9029",
   "metadata": {
    "id": "7T1584q4cBwA"
   },
   "source": [
    "> 범주형이다"
   ]
  },
  {
   "cell_type": "markdown",
   "id": "2f35ddee",
   "metadata": {
    "id": "Emexu9Osf1Fx"
   },
   "source": [
    "3) NaN 존재 유무 및 조치방안"
   ]
  },
  {
   "cell_type": "code",
   "execution_count": 56,
   "id": "175b2a98",
   "metadata": {
    "ExecuteTime": {
     "end_time": "2022-02-12T15:13:21.807072Z",
     "start_time": "2022-02-12T15:13:21.793070Z"
    },
    "id": "bo6YMYJCcBwA"
   },
   "outputs": [
    {
     "data": {
      "text/plain": [
       "0"
      ]
     },
     "execution_count": 56,
     "metadata": {},
     "output_type": "execute_result"
    }
   ],
   "source": [
    "attrition[var3].isna().sum()"
   ]
  },
  {
   "cell_type": "markdown",
   "id": "adc52090",
   "metadata": {
    "id": "G6COZOx1cBwA"
   },
   "source": [
    "4) 가변수화 필요 여부"
   ]
  },
  {
   "cell_type": "markdown",
   "id": "4dfadc14",
   "metadata": {
    "id": "bJeT3THGcBwB"
   },
   "source": [
    "> 필요하다"
   ]
  },
  {
   "cell_type": "code",
   "execution_count": 57,
   "id": "1a41b416",
   "metadata": {
    "ExecuteTime": {
     "end_time": "2022-02-12T15:13:26.309441Z",
     "start_time": "2022-02-12T15:13:26.286987Z"
    }
   },
   "outputs": [
    {
     "data": {
      "text/plain": [
       "array([1, 0, 2], dtype=int64)"
      ]
     },
     "execution_count": 57,
     "metadata": {},
     "output_type": "execute_result"
    }
   ],
   "source": [
    "attrition[var3] = attrition[var3].map({\n",
    "    \"Single\" : 0,\n",
    "    \"Married\" : 1,    \n",
    "    \"Divorced\" : 2\n",
    "})\n",
    "attrition[var3].unique()"
   ]
  },
  {
   "cell_type": "markdown",
   "id": "ce2aa3e7",
   "metadata": {
    "id": "zTs01z1BcBwB"
   },
   "source": [
    "5) 기초통계량(수치화)"
   ]
  },
  {
   "cell_type": "code",
   "execution_count": 58,
   "id": "d7ee908e",
   "metadata": {
    "ExecuteTime": {
     "end_time": "2022-02-12T15:13:29.302153Z",
     "start_time": "2022-02-12T15:13:29.288158Z"
    },
    "id": "IAODVERucBwB"
   },
   "outputs": [
    {
     "name": "stdout",
     "output_type": "stream",
     "text": [
      "1    570\n",
      "0    404\n",
      "2    276\n",
      "Name: MaritalStatus, dtype: int64\n",
      "1    0.4560\n",
      "0    0.3232\n",
      "2    0.2208\n",
      "Name: MaritalStatus, dtype: float64\n"
     ]
    }
   ],
   "source": [
    "print(attrition[var3].value_counts())\n",
    "print(attrition[var3].value_counts()/ len(attrition[var3]))"
   ]
  },
  {
   "cell_type": "markdown",
   "id": "acffebee",
   "metadata": {
    "id": "fRqGU6D1cBwB"
   },
   "source": [
    "6) 분포 확인(시각화)"
   ]
  },
  {
   "cell_type": "code",
   "execution_count": 64,
   "id": "23f226fb",
   "metadata": {
    "ExecuteTime": {
     "end_time": "2022-02-11T07:48:41.967100Z",
     "start_time": "2022-02-11T07:48:41.834121Z"
    },
    "id": "c9c9OvrUcBwB"
   },
   "outputs": [
    {
     "name": "stderr",
     "output_type": "stream",
     "text": [
      "C:\\Users\\User\\anaconda3\\lib\\site-packages\\seaborn\\_decorators.py:36: FutureWarning: Pass the following variable as a keyword arg: x. From version 0.12, the only valid positional argument will be `data`, and passing other arguments without an explicit keyword will result in an error or misinterpretation.\n",
      "  warnings.warn(\n"
     ]
    },
    {
     "data": {
      "image/png": "[encoded data removed]",
      "text/plain": [
       "<Figure size 432x288 with 1 Axes>"
      ]
     },
     "metadata": {
      "needs_background": "light"
     },
     "output_type": "display_data"
    }
   ],
   "source": [
    "sns.countplot(attrition[var3])\n",
    "plt.show()"
   ]
  },
  {
   "cell_type": "markdown",
   "id": "88f6d22f",
   "metadata": {
    "id": "3Kb5FtPscBwB"
   },
   "source": [
    "7) 기초통계량과 분포를 통해서 파악한 내용을 적어 봅시다.\n",
    "\n",
    "보이는 그대로를 넘어, 비즈니스 관점에서 고민하며 적어 봅시다."
   ]
  },
  {
   "cell_type": "markdown",
   "id": "57946d1c",
   "metadata": {
    "id": "DrMNC21hcBwB"
   },
   "source": [
    "> 왜 그런지 모르겠지만 이혼률이 생각보다 높다. <br>\n",
    "> 왜 이혼률이 높은지 생각을 해봐야할 것 같다. <br>\n",
    "> 추가적으로 각 과정마다 얼마나 이직에 관련있는지도 보면 좋을 것 같다."
   ]
  },
  {
   "cell_type": "markdown",
   "id": "17b3d73b",
   "metadata": {
    "id": "HqMdYVJxv4Bu"
   },
   "source": [
    "### ④ JobSatisfaction"
   ]
  },
  {
   "cell_type": "code",
   "execution_count": 59,
   "id": "62be9132",
   "metadata": {
    "ExecuteTime": {
     "end_time": "2022-02-12T15:14:53.319082Z",
     "start_time": "2022-02-12T15:14:53.296945Z"
    },
    "id": "duVVS5TQcGHQ"
   },
   "outputs": [],
   "source": [
    "var4 = \"JobSatisfaction\""
   ]
  },
  {
   "cell_type": "markdown",
   "id": "a7a1c202",
   "metadata": {
    "id": "temZlJu4cGHQ"
   },
   "source": [
    "1) 변수의 비즈니스 의미"
   ]
  },
  {
   "cell_type": "markdown",
   "id": "64425f9a",
   "metadata": {
    "id": "O8_Z3WR7cGHQ"
   },
   "source": [
    "> 직무 만족도"
   ]
  },
  {
   "cell_type": "markdown",
   "id": "c3650f7e",
   "metadata": {
    "id": "fuuhsktlcGHQ"
   },
   "source": [
    "2) 숫자, 범주?"
   ]
  },
  {
   "cell_type": "code",
   "execution_count": 60,
   "id": "f6e1aaac",
   "metadata": {
    "ExecuteTime": {
     "end_time": "2022-02-12T15:14:56.299934Z",
     "start_time": "2022-02-12T15:14:56.286760Z"
    },
    "id": "4L2tXC5ncGHQ"
   },
   "outputs": [
    {
     "data": {
      "text/plain": [
       "array([3, 4, 1, 2], dtype=int64)"
      ]
     },
     "execution_count": 60,
     "metadata": {},
     "output_type": "execute_result"
    }
   ],
   "source": [
    "attrition[var4].unique()"
   ]
  },
  {
   "cell_type": "code",
   "execution_count": 61,
   "id": "3f195361",
   "metadata": {
    "ExecuteTime": {
     "end_time": "2022-02-12T15:15:11.312978Z",
     "start_time": "2022-02-12T15:15:11.289802Z"
    },
    "id": "VZpkLSevcGHQ"
   },
   "outputs": [
    {
     "data": {
      "text/plain": [
       "4    397\n",
       "3    368\n",
       "1    250\n",
       "2    235\n",
       "Name: JobSatisfaction, dtype: int64"
      ]
     },
     "execution_count": 61,
     "metadata": {},
     "output_type": "execute_result"
    }
   ],
   "source": [
    "attrition[var4].value_counts()"
   ]
  },
  {
   "cell_type": "markdown",
   "id": "b355eddc",
   "metadata": {
    "id": "gHn3VvxVf2GR"
   },
   "source": [
    "3) NaN 존재 유무 및 조치방안"
   ]
  },
  {
   "cell_type": "code",
   "execution_count": 62,
   "id": "ac9741c1",
   "metadata": {
    "ExecuteTime": {
     "end_time": "2022-02-12T15:15:14.304797Z",
     "start_time": "2022-02-12T15:15:14.292929Z"
    },
    "id": "-bVDHHwgcGHQ"
   },
   "outputs": [
    {
     "data": {
      "text/plain": [
       "0"
      ]
     },
     "execution_count": 62,
     "metadata": {},
     "output_type": "execute_result"
    }
   ],
   "source": [
    "attrition[var4].isna().sum()"
   ]
  },
  {
   "cell_type": "markdown",
   "id": "69622606",
   "metadata": {
    "id": "y7afj2h4cGHQ"
   },
   "source": [
    "4) 가변수화 필요 여부"
   ]
  },
  {
   "cell_type": "markdown",
   "id": "ea7516f7",
   "metadata": {
    "id": "zKwoQKT0cGHQ"
   },
   "source": [
    "> 없음"
   ]
  },
  {
   "cell_type": "markdown",
   "id": "ffe23be0",
   "metadata": {
    "id": "uIfl2qpGcGHQ"
   },
   "source": [
    "5) 기초통계량(수치화)"
   ]
  },
  {
   "cell_type": "code",
   "execution_count": 63,
   "id": "49395d8c",
   "metadata": {
    "ExecuteTime": {
     "end_time": "2022-02-12T15:15:16.820021Z",
     "start_time": "2022-02-12T15:15:16.795226Z"
    },
    "id": "mbPvBXeTcGHR"
   },
   "outputs": [
    {
     "name": "stdout",
     "output_type": "stream",
     "text": [
      "4    397\n",
      "3    368\n",
      "1    250\n",
      "2    235\n",
      "Name: JobSatisfaction, dtype: int64\n",
      "4    0.3176\n",
      "3    0.2944\n",
      "1    0.2000\n",
      "2    0.1880\n",
      "Name: JobSatisfaction, dtype: float64\n"
     ]
    }
   ],
   "source": [
    "print(attrition[var4].value_counts())\n",
    "print(attrition[var4].value_counts()/ len(attrition[var4]))"
   ]
  },
  {
   "cell_type": "markdown",
   "id": "7c7a3cc8",
   "metadata": {
    "id": "-7rZvYr3cGHR"
   },
   "source": [
    "6) 분포 확인(시각화)"
   ]
  },
  {
   "cell_type": "code",
   "execution_count": 64,
   "id": "3f8d1717",
   "metadata": {
    "ExecuteTime": {
     "end_time": "2022-02-12T15:15:20.463966Z",
     "start_time": "2022-02-12T15:15:20.302869Z"
    },
    "id": "ejzanjdscGHR"
   },
   "outputs": [
    {
     "name": "stderr",
     "output_type": "stream",
     "text": [
      "C:\\Users\\User\\anaconda3\\lib\\site-packages\\seaborn\\_decorators.py:36: FutureWarning: Pass the following variable as a keyword arg: x. From version 0.12, the only valid positional argument will be `data`, and passing other arguments without an explicit keyword will result in an error or misinterpretation.\n",
      "  warnings.warn(\n"
     ]
    },
    {
     "data": {
      "image/png": "[encoded data removed]",
      "text/plain": [
       "<Figure size 432x288 with 1 Axes>"
      ]
     },
     "metadata": {
      "needs_background": "light"
     },
     "output_type": "display_data"
    }
   ],
   "source": [
    "sns.countplot(attrition[var4])\n",
    "plt.show()"
   ]
  },
  {
   "cell_type": "markdown",
   "id": "4d55ce53",
   "metadata": {
    "id": "RGuBwPTbcGHR"
   },
   "source": [
    "7) 기초통계량과 분포를 통해서 파악한 내용을 적어 봅시다.\n",
    "\n",
    "보이는 그대로를 넘어, 비즈니스 관점에서 고민하며 적어 봅시다."
   ]
  },
  {
   "cell_type": "markdown",
   "id": "48c973d6",
   "metadata": {
    "id": "n9SwK4azcGHR"
   },
   "source": [
    "> 전체적으로 다들 만족하는 삶을 가지고 있는것으로 보인다. <br>\n",
    "> 하지만 모든 데이터가 그런 것 처럼 이직과 얼마나 관련이 있는지는 구분을 해서 보아야한다."
   ]
  },
  {
   "cell_type": "markdown",
   "id": "b670f06a",
   "metadata": {
    "id": "ESaXEdHRcGHR"
   },
   "source": [
    "8) 추가 분석해 볼 사항이 있나요?"
   ]
  },
  {
   "cell_type": "markdown",
   "id": "2d7783ef",
   "metadata": {
    "id": "hSPxRx1YcGHR"
   },
   "source": [
    "## 추가 분석"
   ]
  },
  {
   "cell_type": "markdown",
   "id": "3c167f0c",
   "metadata": {},
   "source": [
    "### 이직을 했는 사람과 아닌 사람 나누기"
   ]
  },
  {
   "cell_type": "code",
   "execution_count": 67,
   "id": "eba914f6",
   "metadata": {
    "ExecuteTime": {
     "end_time": "2022-02-12T15:29:29.330709Z",
     "start_time": "2022-02-12T15:29:29.284808Z"
    }
   },
   "outputs": [
    {
     "data": {
      "text/html": [
       "<div>\n",
       "<style scoped>\n",
       "    .dataframe tbody tr th:only-of-type {\n",
       "        vertical-align: middle;\n",
       "    }\n",
       "\n",
       "    .dataframe tbody tr th {\n",
       "        vertical-align: top;\n",
       "    }\n",
       "\n",
       "    .dataframe thead th {\n",
       "        text-align: right;\n",
       "    }\n",
       "</style>\n",
       "<table border=\"1\" class=\"dataframe\">\n",
       "  <thead>\n",
       "    <tr style=\"text-align: right;\">\n",
       "      <th></th>\n",
       "      <th>Attrition</th>\n",
       "      <th>Age</th>\n",
       "      <th>BusinessTravel</th>\n",
       "      <th>Department</th>\n",
       "      <th>DistanceFromHome</th>\n",
       "      <th>EmployeeNumber</th>\n",
       "      <th>Gender</th>\n",
       "      <th>JobSatisfaction</th>\n",
       "      <th>MaritalStatus</th>\n",
       "      <th>MonthlyIncome</th>\n",
       "      <th>OverTime</th>\n",
       "      <th>PercentSalaryHike</th>\n",
       "      <th>RelationshipSatisfaction</th>\n",
       "      <th>StockOptionLevel</th>\n",
       "      <th>TotalWorkingYears</th>\n",
       "      <th>WorkLifeBalance</th>\n",
       "    </tr>\n",
       "  </thead>\n",
       "  <tbody>\n",
       "    <tr>\n",
       "      <th>5</th>\n",
       "      <td>Yes</td>\n",
       "      <td>22</td>\n",
       "      <td>Travel_Frequently</td>\n",
       "      <td>Research &amp; Development</td>\n",
       "      <td>4.0</td>\n",
       "      <td>593</td>\n",
       "      <td>Male</td>\n",
       "      <td>3</td>\n",
       "      <td>0</td>\n",
       "      <td>3894</td>\n",
       "      <td>0</td>\n",
       "      <td>16</td>\n",
       "      <td>3</td>\n",
       "      <td>0</td>\n",
       "      <td>4</td>\n",
       "      <td>3</td>\n",
       "    </tr>\n",
       "    <tr>\n",
       "      <th>10</th>\n",
       "      <td>Yes</td>\n",
       "      <td>24</td>\n",
       "      <td>Travel_Rarely</td>\n",
       "      <td>Sales</td>\n",
       "      <td>3.0</td>\n",
       "      <td>720</td>\n",
       "      <td>Female</td>\n",
       "      <td>3</td>\n",
       "      <td>0</td>\n",
       "      <td>4577</td>\n",
       "      <td>0</td>\n",
       "      <td>14</td>\n",
       "      <td>1</td>\n",
       "      <td>0</td>\n",
       "      <td>4</td>\n",
       "      <td>3</td>\n",
       "    </tr>\n",
       "    <tr>\n",
       "      <th>12</th>\n",
       "      <td>Yes</td>\n",
       "      <td>33</td>\n",
       "      <td>Travel_Rarely</td>\n",
       "      <td>Research &amp; Development</td>\n",
       "      <td>15.0</td>\n",
       "      <td>582</td>\n",
       "      <td>Male</td>\n",
       "      <td>3</td>\n",
       "      <td>1</td>\n",
       "      <td>13610</td>\n",
       "      <td>1</td>\n",
       "      <td>12</td>\n",
       "      <td>4</td>\n",
       "      <td>0</td>\n",
       "      <td>15</td>\n",
       "      <td>4</td>\n",
       "    </tr>\n",
       "    <tr>\n",
       "      <th>18</th>\n",
       "      <td>Yes</td>\n",
       "      <td>58</td>\n",
       "      <td>Travel_Frequently</td>\n",
       "      <td>Research &amp; Development</td>\n",
       "      <td>2.0</td>\n",
       "      <td>918</td>\n",
       "      <td>Male</td>\n",
       "      <td>4</td>\n",
       "      <td>2</td>\n",
       "      <td>2380</td>\n",
       "      <td>1</td>\n",
       "      <td>14</td>\n",
       "      <td>4</td>\n",
       "      <td>1</td>\n",
       "      <td>3</td>\n",
       "      <td>2</td>\n",
       "    </tr>\n",
       "    <tr>\n",
       "      <th>22</th>\n",
       "      <td>Yes</td>\n",
       "      <td>32</td>\n",
       "      <td>Travel_Rarely</td>\n",
       "      <td>Research &amp; Development</td>\n",
       "      <td>7.0</td>\n",
       "      <td>1309</td>\n",
       "      <td>Male</td>\n",
       "      <td>3</td>\n",
       "      <td>1</td>\n",
       "      <td>4883</td>\n",
       "      <td>0</td>\n",
       "      <td>18</td>\n",
       "      <td>1</td>\n",
       "      <td>1</td>\n",
       "      <td>10</td>\n",
       "      <td>3</td>\n",
       "    </tr>\n",
       "    <tr>\n",
       "      <th>...</th>\n",
       "      <td>...</td>\n",
       "      <td>...</td>\n",
       "      <td>...</td>\n",
       "      <td>...</td>\n",
       "      <td>...</td>\n",
       "      <td>...</td>\n",
       "      <td>...</td>\n",
       "      <td>...</td>\n",
       "      <td>...</td>\n",
       "      <td>...</td>\n",
       "      <td>...</td>\n",
       "      <td>...</td>\n",
       "      <td>...</td>\n",
       "      <td>...</td>\n",
       "      <td>...</td>\n",
       "      <td>...</td>\n",
       "    </tr>\n",
       "    <tr>\n",
       "      <th>1213</th>\n",
       "      <td>Yes</td>\n",
       "      <td>34</td>\n",
       "      <td>Travel_Frequently</td>\n",
       "      <td>Human Resources</td>\n",
       "      <td>23.0</td>\n",
       "      <td>590</td>\n",
       "      <td>Female</td>\n",
       "      <td>1</td>\n",
       "      <td>2</td>\n",
       "      <td>9950</td>\n",
       "      <td>1</td>\n",
       "      <td>15</td>\n",
       "      <td>3</td>\n",
       "      <td>3</td>\n",
       "      <td>11</td>\n",
       "      <td>3</td>\n",
       "    </tr>\n",
       "    <tr>\n",
       "      <th>1216</th>\n",
       "      <td>Yes</td>\n",
       "      <td>19</td>\n",
       "      <td>Non-Travel</td>\n",
       "      <td>Research &amp; Development</td>\n",
       "      <td>NaN</td>\n",
       "      <td>1248</td>\n",
       "      <td>Female</td>\n",
       "      <td>2</td>\n",
       "      <td>0</td>\n",
       "      <td>1859</td>\n",
       "      <td>1</td>\n",
       "      <td>25</td>\n",
       "      <td>2</td>\n",
       "      <td>0</td>\n",
       "      <td>1</td>\n",
       "      <td>4</td>\n",
       "    </tr>\n",
       "    <tr>\n",
       "      <th>1227</th>\n",
       "      <td>Yes</td>\n",
       "      <td>22</td>\n",
       "      <td>Travel_Frequently</td>\n",
       "      <td>Research &amp; Development</td>\n",
       "      <td>3.0</td>\n",
       "      <td>1203</td>\n",
       "      <td>Male</td>\n",
       "      <td>4</td>\n",
       "      <td>1</td>\n",
       "      <td>2853</td>\n",
       "      <td>1</td>\n",
       "      <td>11</td>\n",
       "      <td>2</td>\n",
       "      <td>1</td>\n",
       "      <td>1</td>\n",
       "      <td>3</td>\n",
       "    </tr>\n",
       "    <tr>\n",
       "      <th>1230</th>\n",
       "      <td>Yes</td>\n",
       "      <td>19</td>\n",
       "      <td>Travel_Rarely</td>\n",
       "      <td>Sales</td>\n",
       "      <td>21.0</td>\n",
       "      <td>959</td>\n",
       "      <td>Male</td>\n",
       "      <td>2</td>\n",
       "      <td>0</td>\n",
       "      <td>2121</td>\n",
       "      <td>1</td>\n",
       "      <td>13</td>\n",
       "      <td>2</td>\n",
       "      <td>0</td>\n",
       "      <td>1</td>\n",
       "      <td>4</td>\n",
       "    </tr>\n",
       "    <tr>\n",
       "      <th>1239</th>\n",
       "      <td>Yes</td>\n",
       "      <td>26</td>\n",
       "      <td>Travel_Rarely</td>\n",
       "      <td>Human Resources</td>\n",
       "      <td>20.0</td>\n",
       "      <td>1818</td>\n",
       "      <td>Female</td>\n",
       "      <td>2</td>\n",
       "      <td>1</td>\n",
       "      <td>2148</td>\n",
       "      <td>1</td>\n",
       "      <td>11</td>\n",
       "      <td>3</td>\n",
       "      <td>0</td>\n",
       "      <td>6</td>\n",
       "      <td>3</td>\n",
       "    </tr>\n",
       "  </tbody>\n",
       "</table>\n",
       "<p>200 rows × 16 columns</p>\n",
       "</div>"
      ],
      "text/plain": [
       "     Attrition  Age     BusinessTravel              Department  \\\n",
       "5          Yes   22  Travel_Frequently  Research & Development   \n",
       "10         Yes   24      Travel_Rarely                   Sales   \n",
       "12         Yes   33      Travel_Rarely  Research & Development   \n",
       "18         Yes   58  Travel_Frequently  Research & Development   \n",
       "22         Yes   32      Travel_Rarely  Research & Development   \n",
       "...        ...  ...                ...                     ...   \n",
       "1213       Yes   34  Travel_Frequently         Human Resources   \n",
       "1216       Yes   19         Non-Travel  Research & Development   \n",
       "1227       Yes   22  Travel_Frequently  Research & Development   \n",
       "1230       Yes   19      Travel_Rarely                   Sales   \n",
       "1239       Yes   26      Travel_Rarely         Human Resources   \n",
       "\n",
       "      DistanceFromHome  EmployeeNumber  Gender  JobSatisfaction  \\\n",
       "5                  4.0             593    Male                3   \n",
       "10                 3.0             720  Female                3   \n",
       "12                15.0             582    Male                3   \n",
       "18                 2.0             918    Male                4   \n",
       "22                 7.0            1309    Male                3   \n",
       "...                ...             ...     ...              ...   \n",
       "1213              23.0             590  Female                1   \n",
       "1216               NaN            1248  Female                2   \n",
       "1227               3.0            1203    Male                4   \n",
       "1230              21.0             959    Male                2   \n",
       "1239              20.0            1818  Female                2   \n",
       "\n",
       "      MaritalStatus  MonthlyIncome  OverTime  PercentSalaryHike  \\\n",
       "5                 0           3894         0                 16   \n",
       "10                0           4577         0                 14   \n",
       "12                1          13610         1                 12   \n",
       "18                2           2380         1                 14   \n",
       "22                1           4883         0                 18   \n",
       "...             ...            ...       ...                ...   \n",
       "1213              2           9950         1                 15   \n",
       "1216              0           1859         1                 25   \n",
       "1227              1           2853         1                 11   \n",
       "1230              0           2121         1                 13   \n",
       "1239              1           2148         1                 11   \n",
       "\n",
       "      RelationshipSatisfaction  StockOptionLevel  TotalWorkingYears  \\\n",
       "5                            3                 0                  4   \n",
       "10                           1                 0                  4   \n",
       "12                           4                 0                 15   \n",
       "18                           4                 1                  3   \n",
       "22                           1                 1                 10   \n",
       "...                        ...               ...                ...   \n",
       "1213                         3                 3                 11   \n",
       "1216                         2                 0                  1   \n",
       "1227                         2                 1                  1   \n",
       "1230                         2                 0                  1   \n",
       "1239                         3                 0                  6   \n",
       "\n",
       "      WorkLifeBalance  \n",
       "5                   3  \n",
       "10                  3  \n",
       "12                  4  \n",
       "18                  2  \n",
       "22                  3  \n",
       "...               ...  \n",
       "1213                3  \n",
       "1216                4  \n",
       "1227                3  \n",
       "1230                4  \n",
       "1239                3  \n",
       "\n",
       "[200 rows x 16 columns]"
      ]
     },
     "execution_count": 67,
     "metadata": {},
     "output_type": "execute_result"
    }
   ],
   "source": [
    "attrition_yes = attrition[attrition[\"Attrition\"] == \"Yes\"]\n",
    "attrition_no = attrition[attrition[\"Attrition\"] == \"No\"]\n",
    "\n",
    "attrition_yes"
   ]
  },
  {
   "cell_type": "code",
   "execution_count": 68,
   "id": "a0e11011",
   "metadata": {
    "ExecuteTime": {
     "end_time": "2022-02-12T15:29:35.334673Z",
     "start_time": "2022-02-12T15:29:35.290806Z"
    }
   },
   "outputs": [
    {
     "data": {
      "text/html": [
       "<div>\n",
       "<style scoped>\n",
       "    .dataframe tbody tr th:only-of-type {\n",
       "        vertical-align: middle;\n",
       "    }\n",
       "\n",
       "    .dataframe tbody tr th {\n",
       "        vertical-align: top;\n",
       "    }\n",
       "\n",
       "    .dataframe thead th {\n",
       "        text-align: right;\n",
       "    }\n",
       "</style>\n",
       "<table border=\"1\" class=\"dataframe\">\n",
       "  <thead>\n",
       "    <tr style=\"text-align: right;\">\n",
       "      <th></th>\n",
       "      <th>Attrition</th>\n",
       "      <th>Age</th>\n",
       "      <th>BusinessTravel</th>\n",
       "      <th>Department</th>\n",
       "      <th>DistanceFromHome</th>\n",
       "      <th>EmployeeNumber</th>\n",
       "      <th>Gender</th>\n",
       "      <th>JobSatisfaction</th>\n",
       "      <th>MaritalStatus</th>\n",
       "      <th>MonthlyIncome</th>\n",
       "      <th>OverTime</th>\n",
       "      <th>PercentSalaryHike</th>\n",
       "      <th>RelationshipSatisfaction</th>\n",
       "      <th>StockOptionLevel</th>\n",
       "      <th>TotalWorkingYears</th>\n",
       "      <th>WorkLifeBalance</th>\n",
       "    </tr>\n",
       "  </thead>\n",
       "  <tbody>\n",
       "    <tr>\n",
       "      <th>0</th>\n",
       "      <td>No</td>\n",
       "      <td>33</td>\n",
       "      <td>Travel_Rarely</td>\n",
       "      <td>Research &amp; Development</td>\n",
       "      <td>7.0</td>\n",
       "      <td>817</td>\n",
       "      <td>Male</td>\n",
       "      <td>3</td>\n",
       "      <td>1</td>\n",
       "      <td>11691</td>\n",
       "      <td>0</td>\n",
       "      <td>11</td>\n",
       "      <td>4</td>\n",
       "      <td>0</td>\n",
       "      <td>14</td>\n",
       "      <td>4</td>\n",
       "    </tr>\n",
       "    <tr>\n",
       "      <th>1</th>\n",
       "      <td>No</td>\n",
       "      <td>35</td>\n",
       "      <td>Travel_Frequently</td>\n",
       "      <td>Research &amp; Development</td>\n",
       "      <td>18.0</td>\n",
       "      <td>1412</td>\n",
       "      <td>Male</td>\n",
       "      <td>4</td>\n",
       "      <td>0</td>\n",
       "      <td>9362</td>\n",
       "      <td>0</td>\n",
       "      <td>11</td>\n",
       "      <td>3</td>\n",
       "      <td>0</td>\n",
       "      <td>10</td>\n",
       "      <td>3</td>\n",
       "    </tr>\n",
       "    <tr>\n",
       "      <th>2</th>\n",
       "      <td>No</td>\n",
       "      <td>42</td>\n",
       "      <td>Travel_Rarely</td>\n",
       "      <td>Research &amp; Development</td>\n",
       "      <td>6.0</td>\n",
       "      <td>1911</td>\n",
       "      <td>Male</td>\n",
       "      <td>1</td>\n",
       "      <td>1</td>\n",
       "      <td>13348</td>\n",
       "      <td>0</td>\n",
       "      <td>13</td>\n",
       "      <td>2</td>\n",
       "      <td>1</td>\n",
       "      <td>18</td>\n",
       "      <td>4</td>\n",
       "    </tr>\n",
       "    <tr>\n",
       "      <th>3</th>\n",
       "      <td>No</td>\n",
       "      <td>46</td>\n",
       "      <td>Travel_Rarely</td>\n",
       "      <td>Sales</td>\n",
       "      <td>2.0</td>\n",
       "      <td>1204</td>\n",
       "      <td>Female</td>\n",
       "      <td>1</td>\n",
       "      <td>1</td>\n",
       "      <td>17048</td>\n",
       "      <td>0</td>\n",
       "      <td>23</td>\n",
       "      <td>1</td>\n",
       "      <td>0</td>\n",
       "      <td>28</td>\n",
       "      <td>3</td>\n",
       "    </tr>\n",
       "    <tr>\n",
       "      <th>4</th>\n",
       "      <td>No</td>\n",
       "      <td>39</td>\n",
       "      <td>Travel_Frequently</td>\n",
       "      <td>Sales</td>\n",
       "      <td>NaN</td>\n",
       "      <td>1812</td>\n",
       "      <td>Male</td>\n",
       "      <td>4</td>\n",
       "      <td>2</td>\n",
       "      <td>4127</td>\n",
       "      <td>0</td>\n",
       "      <td>18</td>\n",
       "      <td>4</td>\n",
       "      <td>1</td>\n",
       "      <td>7</td>\n",
       "      <td>3</td>\n",
       "    </tr>\n",
       "    <tr>\n",
       "      <th>...</th>\n",
       "      <td>...</td>\n",
       "      <td>...</td>\n",
       "      <td>...</td>\n",
       "      <td>...</td>\n",
       "      <td>...</td>\n",
       "      <td>...</td>\n",
       "      <td>...</td>\n",
       "      <td>...</td>\n",
       "      <td>...</td>\n",
       "      <td>...</td>\n",
       "      <td>...</td>\n",
       "      <td>...</td>\n",
       "      <td>...</td>\n",
       "      <td>...</td>\n",
       "      <td>...</td>\n",
       "      <td>...</td>\n",
       "    </tr>\n",
       "    <tr>\n",
       "      <th>1245</th>\n",
       "      <td>No</td>\n",
       "      <td>27</td>\n",
       "      <td>Travel_Rarely</td>\n",
       "      <td>Research &amp; Development</td>\n",
       "      <td>19.0</td>\n",
       "      <td>1619</td>\n",
       "      <td>Male</td>\n",
       "      <td>1</td>\n",
       "      <td>2</td>\n",
       "      <td>4066</td>\n",
       "      <td>0</td>\n",
       "      <td>11</td>\n",
       "      <td>1</td>\n",
       "      <td>2</td>\n",
       "      <td>7</td>\n",
       "      <td>3</td>\n",
       "    </tr>\n",
       "    <tr>\n",
       "      <th>1246</th>\n",
       "      <td>No</td>\n",
       "      <td>29</td>\n",
       "      <td>Travel_Rarely</td>\n",
       "      <td>Research &amp; Development</td>\n",
       "      <td>9.0</td>\n",
       "      <td>1558</td>\n",
       "      <td>Male</td>\n",
       "      <td>3</td>\n",
       "      <td>1</td>\n",
       "      <td>2451</td>\n",
       "      <td>0</td>\n",
       "      <td>18</td>\n",
       "      <td>1</td>\n",
       "      <td>2</td>\n",
       "      <td>5</td>\n",
       "      <td>2</td>\n",
       "    </tr>\n",
       "    <tr>\n",
       "      <th>1247</th>\n",
       "      <td>No</td>\n",
       "      <td>29</td>\n",
       "      <td>Non-Travel</td>\n",
       "      <td>Sales</td>\n",
       "      <td>2.0</td>\n",
       "      <td>469</td>\n",
       "      <td>Male</td>\n",
       "      <td>3</td>\n",
       "      <td>1</td>\n",
       "      <td>4649</td>\n",
       "      <td>0</td>\n",
       "      <td>14</td>\n",
       "      <td>1</td>\n",
       "      <td>1</td>\n",
       "      <td>4</td>\n",
       "      <td>2</td>\n",
       "    </tr>\n",
       "    <tr>\n",
       "      <th>1248</th>\n",
       "      <td>No</td>\n",
       "      <td>43</td>\n",
       "      <td>Travel_Rarely</td>\n",
       "      <td>Sales</td>\n",
       "      <td>16.0</td>\n",
       "      <td>327</td>\n",
       "      <td>Female</td>\n",
       "      <td>4</td>\n",
       "      <td>1</td>\n",
       "      <td>16064</td>\n",
       "      <td>1</td>\n",
       "      <td>22</td>\n",
       "      <td>3</td>\n",
       "      <td>1</td>\n",
       "      <td>22</td>\n",
       "      <td>3</td>\n",
       "    </tr>\n",
       "    <tr>\n",
       "      <th>1249</th>\n",
       "      <td>No</td>\n",
       "      <td>26</td>\n",
       "      <td>Travel_Rarely</td>\n",
       "      <td>Research &amp; Development</td>\n",
       "      <td>NaN</td>\n",
       "      <td>1177</td>\n",
       "      <td>Male</td>\n",
       "      <td>4</td>\n",
       "      <td>1</td>\n",
       "      <td>4420</td>\n",
       "      <td>0</td>\n",
       "      <td>22</td>\n",
       "      <td>2</td>\n",
       "      <td>1</td>\n",
       "      <td>8</td>\n",
       "      <td>3</td>\n",
       "    </tr>\n",
       "  </tbody>\n",
       "</table>\n",
       "<p>1050 rows × 16 columns</p>\n",
       "</div>"
      ],
      "text/plain": [
       "     Attrition  Age     BusinessTravel              Department  \\\n",
       "0           No   33      Travel_Rarely  Research & Development   \n",
       "1           No   35  Travel_Frequently  Research & Development   \n",
       "2           No   42      Travel_Rarely  Research & Development   \n",
       "3           No   46      Travel_Rarely                   Sales   \n",
       "4           No   39  Travel_Frequently                   Sales   \n",
       "...        ...  ...                ...                     ...   \n",
       "1245        No   27      Travel_Rarely  Research & Development   \n",
       "1246        No   29      Travel_Rarely  Research & Development   \n",
       "1247        No   29         Non-Travel                   Sales   \n",
       "1248        No   43      Travel_Rarely                   Sales   \n",
       "1249        No   26      Travel_Rarely  Research & Development   \n",
       "\n",
       "      DistanceFromHome  EmployeeNumber  Gender  JobSatisfaction  \\\n",
       "0                  7.0             817    Male                3   \n",
       "1                 18.0            1412    Male                4   \n",
       "2                  6.0            1911    Male                1   \n",
       "3                  2.0            1204  Female                1   \n",
       "4                  NaN            1812    Male                4   \n",
       "...                ...             ...     ...              ...   \n",
       "1245              19.0            1619    Male                1   \n",
       "1246               9.0            1558    Male                3   \n",
       "1247               2.0             469    Male                3   \n",
       "1248              16.0             327  Female                4   \n",
       "1249               NaN            1177    Male                4   \n",
       "\n",
       "      MaritalStatus  MonthlyIncome  OverTime  PercentSalaryHike  \\\n",
       "0                 1          11691         0                 11   \n",
       "1                 0           9362         0                 11   \n",
       "2                 1          13348         0                 13   \n",
       "3                 1          17048         0                 23   \n",
       "4                 2           4127         0                 18   \n",
       "...             ...            ...       ...                ...   \n",
       "1245              2           4066         0                 11   \n",
       "1246              1           2451         0                 18   \n",
       "1247              1           4649         0                 14   \n",
       "1248              1          16064         1                 22   \n",
       "1249              1           4420         0                 22   \n",
       "\n",
       "      RelationshipSatisfaction  StockOptionLevel  TotalWorkingYears  \\\n",
       "0                            4                 0                 14   \n",
       "1                            3                 0                 10   \n",
       "2                            2                 1                 18   \n",
       "3                            1                 0                 28   \n",
       "4                            4                 1                  7   \n",
       "...                        ...               ...                ...   \n",
       "1245                         1                 2                  7   \n",
       "1246                         1                 2                  5   \n",
       "1247                         1                 1                  4   \n",
       "1248                         3                 1                 22   \n",
       "1249                         2                 1                  8   \n",
       "\n",
       "      WorkLifeBalance  \n",
       "0                   4  \n",
       "1                   3  \n",
       "2                   4  \n",
       "3                   3  \n",
       "4                   3  \n",
       "...               ...  \n",
       "1245                3  \n",
       "1246                2  \n",
       "1247                2  \n",
       "1248                3  \n",
       "1249                3  \n",
       "\n",
       "[1050 rows x 16 columns]"
      ]
     },
     "execution_count": 68,
     "metadata": {},
     "output_type": "execute_result"
    }
   ],
   "source": [
    "attrition_no"
   ]
  },
  {
   "cell_type": "markdown",
   "id": "8c1bb0d2",
   "metadata": {
    "ExecuteTime": {
     "end_time": "2022-02-12T18:08:51.790140Z",
     "start_time": "2022-02-12T18:08:51.780634Z"
    }
   },
   "source": [
    "#### 1. 거리에 따른 이직률이 증가할 것이다."
   ]
  },
  {
   "cell_type": "markdown",
   "id": "8df0a7e9",
   "metadata": {},
   "source": [
    "> 바이올린 플롯으로 확인을 해보자."
   ]
  },
  {
   "cell_type": "code",
   "execution_count": 70,
   "id": "f0358498",
   "metadata": {
    "ExecuteTime": {
     "end_time": "2022-02-12T15:32:16.984078Z",
     "start_time": "2022-02-12T15:32:16.783853Z"
    },
    "scrolled": true
   },
   "outputs": [
    {
     "data": {
      "text/plain": [
       "Text(0.5, 1.0, 'attrition by distance')"
      ]
     },
     "execution_count": 70,
     "metadata": {},
     "output_type": "execute_result"
    },
    {
     "data": {
      "image/png": "[encoded data removed]",
      "text/plain": [
       "<Figure size 576x720 with 1 Axes>"
      ]
     },
     "metadata": {
      "needs_background": "light"
     },
     "output_type": "display_data"
    }
   ],
   "source": [
    "plt.figure(figsize = (8,10))\n",
    "sns.violinplot(x='Attrition', y='DistanceFromHome', data = attrition)\n",
    "plt.title(\"attrition by distance\")"
   ]
  },
  {
   "cell_type": "markdown",
   "id": "9ff4a90c",
   "metadata": {},
   "source": [
    "> 원래 생각한 멀수록 이직밀도가 높을 것이다라는것과는 다른 그림이 보여서 비율로 확인을 해봐야겠다고 느꼈다.<br>\n",
    "> 범주에서 사용하던 방식을 가져와서 그려보자."
   ]
  },
  {
   "cell_type": "code",
   "execution_count": 91,
   "id": "e0d528f1",
   "metadata": {
    "ExecuteTime": {
     "end_time": "2022-02-12T18:22:35.338471Z",
     "start_time": "2022-02-12T18:22:35.299883Z"
    }
   },
   "outputs": [
    {
     "name": "stdout",
     "output_type": "stream",
     "text": [
      "2.0     24\n",
      "1.0     21\n",
      "9.0     13\n",
      "3.0     11\n",
      "24.0    11\n",
      "8.0     10\n",
      "7.0      9\n",
      "4.0      8\n",
      "5.0      8\n",
      "16.0     7\n",
      "10.0     7\n",
      "15.0     5\n",
      "22.0     5\n",
      "25.0     5\n",
      "23.0     5\n",
      "6.0      5\n",
      "12.0     4\n",
      "13.0     4\n",
      "18.0     4\n",
      "14.0     4\n",
      "17.0     4\n",
      "11.0     4\n",
      "29.0     4\n",
      "21.0     3\n",
      "27.0     3\n",
      "28.0     2\n",
      "26.0     2\n",
      "19.0     2\n",
      "20.0     1\n",
      "Name: DistanceFromHome, dtype: int64\n",
      "2.0     0.120\n",
      "1.0     0.105\n",
      "9.0     0.065\n",
      "3.0     0.055\n",
      "24.0    0.055\n",
      "8.0     0.050\n",
      "7.0     0.045\n",
      "4.0     0.040\n",
      "5.0     0.040\n",
      "16.0    0.035\n",
      "10.0    0.035\n",
      "15.0    0.025\n",
      "22.0    0.025\n",
      "25.0    0.025\n",
      "23.0    0.025\n",
      "6.0     0.025\n",
      "12.0    0.020\n",
      "13.0    0.020\n",
      "18.0    0.020\n",
      "14.0    0.020\n",
      "17.0    0.020\n",
      "11.0    0.020\n",
      "29.0    0.020\n",
      "21.0    0.015\n",
      "27.0    0.015\n",
      "28.0    0.010\n",
      "26.0    0.010\n",
      "19.0    0.010\n",
      "20.0    0.005\n",
      "Name: DistanceFromHome, dtype: float64\n"
     ]
    }
   ],
   "source": [
    "print(attrition_yes[\"DistanceFromHome\"].value_counts())\n",
    "print(attrition_yes[\"DistanceFromHome\"].value_counts()/ len(attrition_yes[\"DistanceFromHome\"]))"
   ]
  },
  {
   "cell_type": "code",
   "execution_count": 92,
   "id": "09d7e6ea",
   "metadata": {
    "ExecuteTime": {
     "end_time": "2022-02-12T18:22:41.818321Z",
     "start_time": "2022-02-12T18:22:41.790050Z"
    }
   },
   "outputs": [],
   "source": [
    "dis_no = attrition_yes[\"DistanceFromHome\"].value_counts()/ len(attrition_yes[\"DistanceFromHome\"])\n",
    "df_dis_no = pd.DataFrame(dis_no).reset_index().sort_values(by=\"index\")\n",
    "df_dis_no.columns = [\"distance\", \"ratio\"]"
   ]
  },
  {
   "cell_type": "code",
   "execution_count": 93,
   "id": "df9e8ea9",
   "metadata": {
    "ExecuteTime": {
     "end_time": "2022-02-12T18:22:44.335677Z",
     "start_time": "2022-02-12T18:22:44.310051Z"
    }
   },
   "outputs": [
    {
     "data": {
      "text/html": [
       "<div>\n",
       "<style scoped>\n",
       "    .dataframe tbody tr th:only-of-type {\n",
       "        vertical-align: middle;\n",
       "    }\n",
       "\n",
       "    .dataframe tbody tr th {\n",
       "        vertical-align: top;\n",
       "    }\n",
       "\n",
       "    .dataframe thead th {\n",
       "        text-align: right;\n",
       "    }\n",
       "</style>\n",
       "<table border=\"1\" class=\"dataframe\">\n",
       "  <thead>\n",
       "    <tr style=\"text-align: right;\">\n",
       "      <th></th>\n",
       "      <th>distance</th>\n",
       "      <th>ratio</th>\n",
       "    </tr>\n",
       "  </thead>\n",
       "  <tbody>\n",
       "    <tr>\n",
       "      <th>1</th>\n",
       "      <td>1.0</td>\n",
       "      <td>0.105</td>\n",
       "    </tr>\n",
       "    <tr>\n",
       "      <th>0</th>\n",
       "      <td>2.0</td>\n",
       "      <td>0.120</td>\n",
       "    </tr>\n",
       "    <tr>\n",
       "      <th>3</th>\n",
       "      <td>3.0</td>\n",
       "      <td>0.055</td>\n",
       "    </tr>\n",
       "    <tr>\n",
       "      <th>7</th>\n",
       "      <td>4.0</td>\n",
       "      <td>0.040</td>\n",
       "    </tr>\n",
       "    <tr>\n",
       "      <th>8</th>\n",
       "      <td>5.0</td>\n",
       "      <td>0.040</td>\n",
       "    </tr>\n",
       "    <tr>\n",
       "      <th>15</th>\n",
       "      <td>6.0</td>\n",
       "      <td>0.025</td>\n",
       "    </tr>\n",
       "    <tr>\n",
       "      <th>6</th>\n",
       "      <td>7.0</td>\n",
       "      <td>0.045</td>\n",
       "    </tr>\n",
       "    <tr>\n",
       "      <th>5</th>\n",
       "      <td>8.0</td>\n",
       "      <td>0.050</td>\n",
       "    </tr>\n",
       "    <tr>\n",
       "      <th>2</th>\n",
       "      <td>9.0</td>\n",
       "      <td>0.065</td>\n",
       "    </tr>\n",
       "    <tr>\n",
       "      <th>10</th>\n",
       "      <td>10.0</td>\n",
       "      <td>0.035</td>\n",
       "    </tr>\n",
       "    <tr>\n",
       "      <th>21</th>\n",
       "      <td>11.0</td>\n",
       "      <td>0.020</td>\n",
       "    </tr>\n",
       "    <tr>\n",
       "      <th>16</th>\n",
       "      <td>12.0</td>\n",
       "      <td>0.020</td>\n",
       "    </tr>\n",
       "    <tr>\n",
       "      <th>17</th>\n",
       "      <td>13.0</td>\n",
       "      <td>0.020</td>\n",
       "    </tr>\n",
       "    <tr>\n",
       "      <th>19</th>\n",
       "      <td>14.0</td>\n",
       "      <td>0.020</td>\n",
       "    </tr>\n",
       "    <tr>\n",
       "      <th>11</th>\n",
       "      <td>15.0</td>\n",
       "      <td>0.025</td>\n",
       "    </tr>\n",
       "    <tr>\n",
       "      <th>9</th>\n",
       "      <td>16.0</td>\n",
       "      <td>0.035</td>\n",
       "    </tr>\n",
       "    <tr>\n",
       "      <th>20</th>\n",
       "      <td>17.0</td>\n",
       "      <td>0.020</td>\n",
       "    </tr>\n",
       "    <tr>\n",
       "      <th>18</th>\n",
       "      <td>18.0</td>\n",
       "      <td>0.020</td>\n",
       "    </tr>\n",
       "    <tr>\n",
       "      <th>27</th>\n",
       "      <td>19.0</td>\n",
       "      <td>0.010</td>\n",
       "    </tr>\n",
       "    <tr>\n",
       "      <th>28</th>\n",
       "      <td>20.0</td>\n",
       "      <td>0.005</td>\n",
       "    </tr>\n",
       "    <tr>\n",
       "      <th>23</th>\n",
       "      <td>21.0</td>\n",
       "      <td>0.015</td>\n",
       "    </tr>\n",
       "    <tr>\n",
       "      <th>12</th>\n",
       "      <td>22.0</td>\n",
       "      <td>0.025</td>\n",
       "    </tr>\n",
       "    <tr>\n",
       "      <th>14</th>\n",
       "      <td>23.0</td>\n",
       "      <td>0.025</td>\n",
       "    </tr>\n",
       "    <tr>\n",
       "      <th>4</th>\n",
       "      <td>24.0</td>\n",
       "      <td>0.055</td>\n",
       "    </tr>\n",
       "    <tr>\n",
       "      <th>13</th>\n",
       "      <td>25.0</td>\n",
       "      <td>0.025</td>\n",
       "    </tr>\n",
       "    <tr>\n",
       "      <th>26</th>\n",
       "      <td>26.0</td>\n",
       "      <td>0.010</td>\n",
       "    </tr>\n",
       "    <tr>\n",
       "      <th>24</th>\n",
       "      <td>27.0</td>\n",
       "      <td>0.015</td>\n",
       "    </tr>\n",
       "    <tr>\n",
       "      <th>25</th>\n",
       "      <td>28.0</td>\n",
       "      <td>0.010</td>\n",
       "    </tr>\n",
       "    <tr>\n",
       "      <th>22</th>\n",
       "      <td>29.0</td>\n",
       "      <td>0.020</td>\n",
       "    </tr>\n",
       "  </tbody>\n",
       "</table>\n",
       "</div>"
      ],
      "text/plain": [
       "    distance  ratio\n",
       "1        1.0  0.105\n",
       "0        2.0  0.120\n",
       "3        3.0  0.055\n",
       "7        4.0  0.040\n",
       "8        5.0  0.040\n",
       "15       6.0  0.025\n",
       "6        7.0  0.045\n",
       "5        8.0  0.050\n",
       "2        9.0  0.065\n",
       "10      10.0  0.035\n",
       "21      11.0  0.020\n",
       "16      12.0  0.020\n",
       "17      13.0  0.020\n",
       "19      14.0  0.020\n",
       "11      15.0  0.025\n",
       "9       16.0  0.035\n",
       "20      17.0  0.020\n",
       "18      18.0  0.020\n",
       "27      19.0  0.010\n",
       "28      20.0  0.005\n",
       "23      21.0  0.015\n",
       "12      22.0  0.025\n",
       "14      23.0  0.025\n",
       "4       24.0  0.055\n",
       "13      25.0  0.025\n",
       "26      26.0  0.010\n",
       "24      27.0  0.015\n",
       "25      28.0  0.010\n",
       "22      29.0  0.020"
      ]
     },
     "execution_count": 93,
     "metadata": {},
     "output_type": "execute_result"
    }
   ],
   "source": [
    "df_dis_no"
   ]
  },
  {
   "cell_type": "code",
   "execution_count": 94,
   "id": "316605f1",
   "metadata": {
    "ExecuteTime": {
     "end_time": "2022-02-12T18:22:44.570566Z",
     "start_time": "2022-02-12T18:22:44.338681Z"
    }
   },
   "outputs": [
    {
     "data": {
      "text/plain": [
       "Text(0.5, 1.0, 'attrition by distance')"
      ]
     },
     "execution_count": 94,
     "metadata": {},
     "output_type": "execute_result"
    },
    {
     "data": {
      "image/png": "[encoded data removed]",
      "text/plain": [
       "<Figure size 432x288 with 1 Axes>"
      ]
     },
     "metadata": {
      "needs_background": "light"
     },
     "output_type": "display_data"
    }
   ],
   "source": [
    "plt.bar(df_dis_no[\"distance\"], df_dis_no[\"ratio\"], edgecolor=\"gray\")\n",
    "plt.title(\"attrition by distance\")"
   ]
  },
  {
   "cell_type": "markdown",
   "id": "13f4012f",
   "metadata": {},
   "source": [
    "> 비율로 보았을때도 거리가 가까운 사람들의 이직률이 높은것을 확인할 수 있다. <br>\n",
    "> 아마 기숙사에 타지에서 있다가 기숙사로 들어온 사람들이 많이 나간것이 아닐까 생각을 해볼수 있다.<br>\n",
    "> 기숙사에 살고있는 것도 알 수 있다면 좋을 것 같다."
   ]
  },
  {
   "cell_type": "markdown",
   "id": "b1755244",
   "metadata": {},
   "source": [
    "#### 월급 높은사람도 이직률이 높을까?"
   ]
  },
  {
   "cell_type": "code",
   "execution_count": 95,
   "id": "1267c622",
   "metadata": {
    "ExecuteTime": {
     "end_time": "2022-02-12T18:23:36.953567Z",
     "start_time": "2022-02-12T18:23:36.783500Z"
    }
   },
   "outputs": [
    {
     "data": {
      "text/plain": [
       "Text(0.5, 1.0, 'attrition by income')"
      ]
     },
     "execution_count": 95,
     "metadata": {},
     "output_type": "execute_result"
    },
    {
     "data": {
      "image/png": "[encoded data removed]",
      "text/plain": [
       "<Figure size 576x720 with 1 Axes>"
      ]
     },
     "metadata": {
      "needs_background": "light"
     },
     "output_type": "display_data"
    }
   ],
   "source": [
    "plt.figure(figsize = (8,10))\n",
    "sns.violinplot(x='Attrition', y='MonthlyIncome', data = attrition)\n",
    "plt.title(\"attrition by income\")"
   ]
  },
  {
   "cell_type": "markdown",
   "id": "acd8d2ad",
   "metadata": {},
   "source": [
    "> 오우 연봉이 어느정도 높으면 이직률이 많이 감소하는것같다. 이 업계에서 초봉으로 주는 금액인 3000~ 5000사이에서 많이 나가고 들어오는것 같다"
   ]
  },
  {
   "cell_type": "markdown",
   "id": "7b24b3b7",
   "metadata": {},
   "source": [
    "#### 야근은 이직률에 관련이 있을것이다."
   ]
  },
  {
   "cell_type": "code",
   "execution_count": 96,
   "id": "0cd2cb7c",
   "metadata": {
    "ExecuteTime": {
     "end_time": "2022-02-12T18:25:17.017436Z",
     "start_time": "2022-02-12T18:25:16.784395Z"
    }
   },
   "outputs": [
    {
     "data": {
      "text/plain": [
       "Text(0.5, 1.0, 'attrition by Overtime')"
      ]
     },
     "execution_count": 96,
     "metadata": {},
     "output_type": "execute_result"
    },
    {
     "data": {
      "image/png": "[encoded data removed]",
      "text/plain": [
       "<Figure size 576x720 with 1 Axes>"
      ]
     },
     "metadata": {
      "needs_background": "light"
     },
     "output_type": "display_data"
    }
   ],
   "source": [
    "plt.figure(figsize = (8,10))\n",
    "sns.violinplot(x='Attrition', y='OverTime', data = attrition)\n",
    "plt.title(\"attrition by Overtime\")"
   ]
  },
  {
   "cell_type": "markdown",
   "id": "44fc9664",
   "metadata": {},
   "source": [
    "> Overtime은 범주형이다보니 이상한 바이올린 그림이 나왔다. 그래도 확실히 알 수 있는것은 야근이 있으면 이직에 영향을 많이 주는것 같다."
   ]
  },
  {
   "cell_type": "code",
   "execution_count": null,
   "id": "56f48735",
   "metadata": {},
   "outputs": [],
   "source": []
  }
 ],
 "metadata": {
  "kernelspec": {
   "display_name": "Python 3 (ipykernel)",
   "language": "python",
   "name": "python3"
  },
  "language_info": {
   "codemirror_mode": {
    "name": "ipython",
    "version": 3
   },
   "file_extension": ".py",
   "mimetype": "text/x-python",
   "name": "python",
   "nbconvert_exporter": "python",
   "pygments_lexer": "ipython3",
   "version": "3.8.8"
  },
  "toc": {
   "base_numbering": 1,
   "nav_menu": {},
   "number_sections": true,
   "sideBar": true,
   "skip_h1_title": false,
   "title_cell": "Table of Contents",
   "title_sidebar": "Contents",
   "toc_cell": false,
   "toc_position": {},
   "toc_section_display": true,
   "toc_window_display": false
  }
 },
 "nbformat": 4,
 "nbformat_minor": 5
}
