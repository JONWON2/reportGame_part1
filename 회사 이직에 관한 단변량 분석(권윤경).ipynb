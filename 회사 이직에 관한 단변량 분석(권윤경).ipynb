{
 "cells": [
  {
   "cell_type": "markdown",
   "metadata": {
    "id": "fX2If7079Fuh"
   },
   "source": [
    "# [실습] 단변량분석 종합실습 : 직원이직 분석"
   ]
  },
  {
   "cell_type": "markdown",
   "metadata": {
    "id": "t42CZ_o2iHvT"
   },
   "source": [
    "* 회사 인사팀에서는 AIVLER 들에게 직원의 이직여부과 관련해서 분석을 요청하였습니다.\n",
    "* 최근 이직율이 증가하는 것에 대해 우려를 갖고 있기에, 이직여부에 영향을 주는 요인에 대해 분석하여, 직원들이 회사를 떠나지 않도록 인사 프로그램을 준비하려고 합니다.\n",
    "* 필요하다면, 검색을 통해 '직원이 회사를 떠나는 이유' 등을 찾아보는 것은 데이터 분석을 하는데 도움이 될 것입니다.\n",
    "* 자, 이제 인사팀에서 제공한 데이터를 바탕으로 각각 개별 변수의 분포를 살펴보며, 비즈니스 인사이트를 최대한 도출해 봅시다.\n"
   ]
  },
  {
   "cell_type": "markdown",
   "metadata": {
    "id": "8nohOtnU9lo_"
   },
   "source": [
    "**단변량 분석 할 때 확인해야 할 점들**\n",
    "\n",
    "* 개별 변수의 분포로 부터…\n",
    "    * 값의 범위 확인\n",
    "    * 데이터가 모여 있는 구간(혹은 범주)와 희박한 구간(혹은 범주) 확인\n",
    "    * 이상치 확인 및 조치 방안\n",
    "    * 결측치 확인 및 조치 방안\n",
    "    * 가변수화, 스케일링 대상 선별\n",
    "\n",
    "* 비즈니스의 일반 사항과 특이사항을 도출\n",
    "    * 추가 분석 대상 도출.\n"
   ]
  },
  {
   "cell_type": "markdown",
   "metadata": {
    "id": "DAR82IvULLEt"
   },
   "source": [
    "## 0.환경준비"
   ]
  },
  {
   "cell_type": "code",
   "execution_count": 1,
   "metadata": {
    "id": "bTVrr9iaLNsy"
   },
   "outputs": [],
   "source": [
    "import pandas as pd\n",
    "import numpy as np\n",
    "\n",
    "import matplotlib.pyplot as plt\n",
    "import seaborn as sns"
   ]
  },
  {
   "cell_type": "markdown",
   "metadata": {
    "id": "k7uydL4kJ4q9"
   },
   "source": [
    "![](https://adoptostaging.blob.core.windows.net/media/employee-attrition-reasons-9LIqMv.jpg)"
   ]
  },
  {
   "cell_type": "markdown",
   "metadata": {
    "id": "v50TP8BhMJKx"
   },
   "source": [
    "|\t구분\t|\t변수 명\t|\t내용\t|\ttype\t|\t비고\t|\n",
    "|\t----\t|\t----\t|\t----\t|\t----\t|\t----\t|\n",
    "|\t**Target**\t|\t**Attrition**\t|\t이직여부, \t|\t범주\t|Yes , No\t\t|\n",
    "|\tfeature\t|\tAge\t|\t나이\t|\t숫자\t|\t\t|\n",
    "|\tfeature\t|\tBusinessTravel\t|\t출장빈도\t|\t범주\t|Travel_Rarely, Travel_Frequently, Non-Travel\t\t|\n",
    "|\tfeature\t|\tDepartment\t|\t부서\t|\t범주\t|Research & Development, Sales, Human Resources\t|\n",
    "|\tfeature\t|\tDistanceFromHome\t|\t집-직장 거리\t|\t숫자\t|\t마일\t|\n",
    "|\tfeature\t|\tEmployeeNumber\t|\t사번\t|\t??\t|\t\t|\n",
    "|\tfeature\t|\tGender\t|\t성별\t|\t범주\t| Male, Female\t\t|\n",
    "|\tfeature\t|\tJobSatisfaction\t|\t직무 만족도\t|\t범주\t|\t1 Low, 2 Medium, 3 High, 4 Very High\t|\n",
    "|\tfeature\t|\tMaritalStatus\t|\t결혼상태\t|\t범주\t| Single, Married, Divorced\t\t|\n",
    "|\tfeature\t|\tMonthlyIncome\t|\t월급\t|\t숫자\t| 달러\t|\n",
    "|\tfeature\t|\tOverTime\t|\t야근여부\t|\t범주\t|\tYes, No\t|\n",
    "|\tfeature\t|\tPercentSalaryHike\t|\t전년대비 급여인상율\t|\t숫자\t|\t%\t|\n",
    "|\tfeature\t|\tRelationshipSatisfaction\t|\t관계만족도\t|\t범주\t| 1 Low, 2 Medium, 3 High, 4 Very High|\n",
    "|\tfeature\t|\tStockOptionLevel\t|\t스톡옵션레벨\t|\t범주\t| 0 : 없음, 1~3 (클수록 스톡옵션을 많이 받음|\n",
    "|\tfeature\t|\tTotalWorkingYears\t|\t총 경력 연수\t|\t숫자\t|\t\t|\n",
    "|\tfeature\t|\tWorkLifeBalance\t|\t워라밸\t|\t범주\t| 1 Low, 2 Medium, 3 High, 4 Very High"
   ]
  },
  {
   "cell_type": "code",
   "execution_count": 2,
   "metadata": {
    "colab": {
     "base_uri": "https://localhost:8080/",
     "height": 322
    },
    "executionInfo": {
     "elapsed": 354,
     "status": "ok",
     "timestamp": 1644493778658,
     "user": {
      "displayName": "한기영",
      "photoUrl": "https://lh3.googleusercontent.com/a/default-user=s64",
      "userId": "13049187003176135487"
     },
     "user_tz": -540
    },
    "id": "BId8Kj4t9Fu5",
    "outputId": "f26c1bc5-d903-4015-e239-52b971e4c900"
   },
   "outputs": [
    {
     "data": {
      "text/html": [
       "<div>\n",
       "<style scoped>\n",
       "    .dataframe tbody tr th:only-of-type {\n",
       "        vertical-align: middle;\n",
       "    }\n",
       "\n",
       "    .dataframe tbody tr th {\n",
       "        vertical-align: top;\n",
       "    }\n",
       "\n",
       "    .dataframe thead th {\n",
       "        text-align: right;\n",
       "    }\n",
       "</style>\n",
       "<table border=\"1\" class=\"dataframe\">\n",
       "  <thead>\n",
       "    <tr style=\"text-align: right;\">\n",
       "      <th></th>\n",
       "      <th>Attrition</th>\n",
       "      <th>Age</th>\n",
       "      <th>BusinessTravel</th>\n",
       "      <th>Department</th>\n",
       "      <th>DistanceFromHome</th>\n",
       "      <th>EmployeeNumber</th>\n",
       "      <th>Gender</th>\n",
       "      <th>JobSatisfaction</th>\n",
       "      <th>MaritalStatus</th>\n",
       "      <th>MonthlyIncome</th>\n",
       "      <th>OverTime</th>\n",
       "      <th>PercentSalaryHike</th>\n",
       "      <th>RelationshipSatisfaction</th>\n",
       "      <th>StockOptionLevel</th>\n",
       "      <th>TotalWorkingYears</th>\n",
       "      <th>WorkLifeBalance</th>\n",
       "    </tr>\n",
       "  </thead>\n",
       "  <tbody>\n",
       "    <tr>\n",
       "      <th>0</th>\n",
       "      <td>No</td>\n",
       "      <td>33</td>\n",
       "      <td>Travel_Rarely</td>\n",
       "      <td>Research &amp; Development</td>\n",
       "      <td>7.0</td>\n",
       "      <td>817</td>\n",
       "      <td>Male</td>\n",
       "      <td>3</td>\n",
       "      <td>Married</td>\n",
       "      <td>11691</td>\n",
       "      <td>No</td>\n",
       "      <td>11</td>\n",
       "      <td>4</td>\n",
       "      <td>0</td>\n",
       "      <td>14</td>\n",
       "      <td>4</td>\n",
       "    </tr>\n",
       "    <tr>\n",
       "      <th>1</th>\n",
       "      <td>No</td>\n",
       "      <td>35</td>\n",
       "      <td>Travel_Frequently</td>\n",
       "      <td>Research &amp; Development</td>\n",
       "      <td>18.0</td>\n",
       "      <td>1412</td>\n",
       "      <td>Male</td>\n",
       "      <td>4</td>\n",
       "      <td>Single</td>\n",
       "      <td>9362</td>\n",
       "      <td>No</td>\n",
       "      <td>11</td>\n",
       "      <td>3</td>\n",
       "      <td>0</td>\n",
       "      <td>10</td>\n",
       "      <td>3</td>\n",
       "    </tr>\n",
       "    <tr>\n",
       "      <th>2</th>\n",
       "      <td>No</td>\n",
       "      <td>42</td>\n",
       "      <td>Travel_Rarely</td>\n",
       "      <td>Research &amp; Development</td>\n",
       "      <td>6.0</td>\n",
       "      <td>1911</td>\n",
       "      <td>Male</td>\n",
       "      <td>1</td>\n",
       "      <td>Married</td>\n",
       "      <td>13348</td>\n",
       "      <td>No</td>\n",
       "      <td>13</td>\n",
       "      <td>2</td>\n",
       "      <td>1</td>\n",
       "      <td>18</td>\n",
       "      <td>4</td>\n",
       "    </tr>\n",
       "    <tr>\n",
       "      <th>3</th>\n",
       "      <td>No</td>\n",
       "      <td>46</td>\n",
       "      <td>Travel_Rarely</td>\n",
       "      <td>Sales</td>\n",
       "      <td>2.0</td>\n",
       "      <td>1204</td>\n",
       "      <td>Female</td>\n",
       "      <td>1</td>\n",
       "      <td>Married</td>\n",
       "      <td>17048</td>\n",
       "      <td>No</td>\n",
       "      <td>23</td>\n",
       "      <td>1</td>\n",
       "      <td>0</td>\n",
       "      <td>28</td>\n",
       "      <td>3</td>\n",
       "    </tr>\n",
       "    <tr>\n",
       "      <th>4</th>\n",
       "      <td>No</td>\n",
       "      <td>39</td>\n",
       "      <td>Travel_Frequently</td>\n",
       "      <td>Sales</td>\n",
       "      <td>NaN</td>\n",
       "      <td>1812</td>\n",
       "      <td>Male</td>\n",
       "      <td>4</td>\n",
       "      <td>Divorced</td>\n",
       "      <td>4127</td>\n",
       "      <td>No</td>\n",
       "      <td>18</td>\n",
       "      <td>4</td>\n",
       "      <td>1</td>\n",
       "      <td>7</td>\n",
       "      <td>3</td>\n",
       "    </tr>\n",
       "  </tbody>\n",
       "</table>\n",
       "</div>"
      ],
      "text/plain": [
       "  Attrition  Age     BusinessTravel              Department  DistanceFromHome  \\\n",
       "0        No   33      Travel_Rarely  Research & Development               7.0   \n",
       "1        No   35  Travel_Frequently  Research & Development              18.0   \n",
       "2        No   42      Travel_Rarely  Research & Development               6.0   \n",
       "3        No   46      Travel_Rarely                   Sales               2.0   \n",
       "4        No   39  Travel_Frequently                   Sales               NaN   \n",
       "\n",
       "   EmployeeNumber  Gender  JobSatisfaction MaritalStatus  MonthlyIncome  \\\n",
       "0             817    Male                3       Married          11691   \n",
       "1            1412    Male                4        Single           9362   \n",
       "2            1911    Male                1       Married          13348   \n",
       "3            1204  Female                1       Married          17048   \n",
       "4            1812    Male                4      Divorced           4127   \n",
       "\n",
       "  OverTime  PercentSalaryHike  RelationshipSatisfaction  StockOptionLevel  \\\n",
       "0       No                 11                         4                 0   \n",
       "1       No                 11                         3                 0   \n",
       "2       No                 13                         2                 1   \n",
       "3       No                 23                         1                 0   \n",
       "4       No                 18                         4                 1   \n",
       "\n",
       "   TotalWorkingYears  WorkLifeBalance  \n",
       "0                 14                4  \n",
       "1                 10                3  \n",
       "2                 18                4  \n",
       "3                 28                3  \n",
       "4                  7                3  "
      ]
     },
     "execution_count": 2,
     "metadata": {},
     "output_type": "execute_result"
    }
   ],
   "source": [
    "# data data\n",
    "path = \"https://raw.githubusercontent.com/DA4BAM/dataset/master/Attrition_NA.CSV\"\n",
    "attrition = pd.read_csv(path)\n",
    "attrition.drop(['Education','EducationField', 'EnvironmentSatisfaction', 'JobRole', 'JobInvolvement','NumCompaniesWorked','TrainingTimesLastYear','YearsAtCompany','YearsInCurrentRole','YearsWithCurrManager']\n",
    "               , axis = 1, inplace = True)\n",
    "attrition.head()"
   ]
  },
  {
   "cell_type": "markdown",
   "metadata": {
    "id": "bBRhuVPyf4td"
   },
   "source": [
    "## 숫자형 변수 : "
   ]
  },
  {
   "cell_type": "markdown",
   "metadata": {
    "id": "PNYSvDDBdtZA"
   },
   "source": [
    "### ① Age"
   ]
  },
  {
   "cell_type": "code",
   "execution_count": 3,
   "metadata": {
    "id": "NRIsridhK3el"
   },
   "outputs": [],
   "source": [
    "var= 'Age'"
   ]
  },
  {
   "cell_type": "markdown",
   "metadata": {
    "id": "6H1XUqWEIZ0c"
   },
   "source": [
    "1) 변수의 비즈니스 의미"
   ]
  },
  {
   "cell_type": "markdown",
   "metadata": {
    "id": "i62N9PVRKD5n"
   },
   "source": [
    "> 직원 나이"
   ]
  },
  {
   "cell_type": "markdown",
   "metadata": {
    "id": "o9aiDpJZIZi-"
   },
   "source": [
    "2) 숫자, 범주?"
   ]
  },
  {
   "cell_type": "markdown",
   "metadata": {
    "id": "Y9p3Tsx6IZdV"
   },
   "source": [
    "> 숫자"
   ]
  },
  {
   "cell_type": "markdown",
   "metadata": {
    "id": "l48kdR5Xfbl1"
   },
   "source": [
    "3) NaN 존재 유무 및 조치방안"
   ]
  },
  {
   "cell_type": "code",
   "execution_count": 4,
   "metadata": {
    "colab": {
     "base_uri": "https://localhost:8080/"
    },
    "executionInfo": {
     "elapsed": 49,
     "status": "ok",
     "timestamp": 1644492196109,
     "user": {
      "displayName": "한기영",
      "photoUrl": "https://lh3.googleusercontent.com/a/default-user=s64",
      "userId": "13049187003176135487"
     },
     "user_tz": -540
    },
    "id": "hCn91k1sIZOO",
    "outputId": "9fc50968-22ee-4094-e090-5a88b4802161"
   },
   "outputs": [
    {
     "data": {
      "text/plain": [
       "0"
      ]
     },
     "execution_count": 4,
     "metadata": {},
     "output_type": "execute_result"
    }
   ],
   "source": [
    "attrition[var].isna().sum()"
   ]
  },
  {
   "cell_type": "markdown",
   "metadata": {
    "id": "Hp5fgxVIKZ-z"
   },
   "source": [
    "> NaN은 존재하지 않음"
   ]
  },
  {
   "cell_type": "markdown",
   "metadata": {
    "id": "5d5JYEBCIZID"
   },
   "source": [
    "4) 기초통계량(수치화)"
   ]
  },
  {
   "cell_type": "code",
   "execution_count": 5,
   "metadata": {
    "colab": {
     "base_uri": "https://localhost:8080/"
    },
    "executionInfo": {
     "elapsed": 2,
     "status": "ok",
     "timestamp": 1644492197577,
     "user": {
      "displayName": "한기영",
      "photoUrl": "https://lh3.googleusercontent.com/a/default-user=s64",
      "userId": "13049187003176135487"
     },
     "user_tz": -540
    },
    "id": "F151PJCNIZBU",
    "outputId": "90d70c76-5660-4374-f02a-2a4f233b0dd5"
   },
   "outputs": [
    {
     "data": {
      "text/plain": [
       "count    1250.000000\n",
       "mean       36.931200\n",
       "std         9.122162\n",
       "min        18.000000\n",
       "25%        30.000000\n",
       "50%        36.000000\n",
       "75%        43.000000\n",
       "max        60.000000\n",
       "Name: Age, dtype: float64"
      ]
     },
     "execution_count": 5,
     "metadata": {},
     "output_type": "execute_result"
    }
   ],
   "source": [
    "attrition[var].describe()"
   ]
  },
  {
   "cell_type": "markdown",
   "metadata": {
    "id": "e1yzg_B8IY5M"
   },
   "source": [
    "5) 분포 확인(시각화)"
   ]
  },
  {
   "cell_type": "code",
   "execution_count": 6,
   "metadata": {
    "colab": {
     "base_uri": "https://localhost:8080/",
     "height": 279
    },
    "executionInfo": {
     "elapsed": 1019,
     "status": "ok",
     "timestamp": 1644492202243,
     "user": {
      "displayName": "한기영",
      "photoUrl": "https://lh3.googleusercontent.com/a/default-user=s64",
      "userId": "13049187003176135487"
     },
     "user_tz": -540
    },
    "id": "_Lb2G500IYyF",
    "outputId": "4a37aea2-656f-4af8-83b3-db3a4af2f8ec"
   },
   "outputs": [
    {
     "data": {
      "image/png": "[encoded data removed]",
      "text/plain": [
       "<Figure size 432x288 with 1 Axes>"
      ]
     },
     "metadata": {
      "needs_background": "light"
     },
     "output_type": "display_data"
    }
   ],
   "source": [
    "sns.histplot(attrition[var], bins = 20)\n",
    "plt.show()"
   ]
  },
  {
   "cell_type": "code",
   "execution_count": 7,
   "metadata": {
    "colab": {
     "base_uri": "https://localhost:8080/",
     "height": 302
    },
    "executionInfo": {
     "elapsed": 25,
     "status": "ok",
     "timestamp": 1644492134595,
     "user": {
      "displayName": "한기영",
      "photoUrl": "https://lh3.googleusercontent.com/a/default-user=s64",
      "userId": "13049187003176135487"
     },
     "user_tz": -540
    },
    "id": "xm7IgKJVLsET",
    "outputId": "b69b8deb-fd4b-4363-e604-bf0445f41024"
   },
   "outputs": [
    {
     "data": {
      "image/png": "[encoded data removed]",
      "text/plain": [
       "<Figure size 432x288 with 1 Axes>"
      ]
     },
     "metadata": {
      "needs_background": "light"
     },
     "output_type": "display_data"
    },
    {
     "name": "stdout",
     "output_type": "stream",
     "text": [
      "[30. 18.]\n",
      "[43. 60.]\n"
     ]
    }
   ],
   "source": [
    "box = plt.boxplot(attrition[var])\n",
    "plt.show()\n",
    "\n",
    "print(box['whiskers'][0].get_ydata())\n",
    "print(box['whiskers'][1].get_ydata())"
   ]
  },
  {
   "cell_type": "markdown",
   "metadata": {
    "id": "yRUYICkIIuc0"
   },
   "source": [
    "6) 기초통계량과 분포를 통해서 파악한 내용을 적어 봅시다.\n",
    "\n",
    "보이는 그대로를 넘어, 비즈니스 관점에서 고민하며 적어 봅시다."
   ]
  },
  {
   "cell_type": "markdown",
   "metadata": {
    "id": "BOfzt-I5U-5o"
   },
   "source": [
    "* 30대가 주축을 이루고 있음\n",
    "* 18세 : 입사 가능 연령\n",
    "* 60세 : 정년\n",
    "* 40세 이후에 조금은 급격히 줄어드는 것으로 보아, 이때가 퇴사를 많이 하는 시점으로 보임. (보통 대기업에서 40대에 승진에서 누락되는 사람들, 새로운 분야로 진출하려는 사람들, 창업자들이 많아짐)"
   ]
  },
  {
   "cell_type": "markdown",
   "metadata": {
    "id": "3ZVNnImDIyRE"
   },
   "source": [
    "7) 추가 분석해 볼 사항이 있나요?"
   ]
  },
  {
   "cell_type": "markdown",
   "metadata": {
    "id": "67O2ze2WU_vb"
   },
   "source": [
    "* 적절한(단순히 10살 단위가 아닌) 연령대로 분할하고, 연령대 별로 이직여부(이직율)을 검토해볼 필요가 있음\n",
    "    * 직원들의 라이프사이클 파악 필요. 대졸, 입사 2~3년차, 5년차, 7년차 등 승진 및 이직을 고려하는 일반적인 시기 등 감안"
   ]
  },
  {
   "cell_type": "markdown",
   "metadata": {
    "id": "0OMgl0CWrPqj"
   },
   "source": [
    "### ② DistanceFromHome\t"
   ]
  },
  {
   "cell_type": "markdown",
   "metadata": {
    "id": "D2GMLTtXI1oq"
   },
   "source": [
    "1) 변수의 비즈니스 의미"
   ]
  },
  {
   "cell_type": "markdown",
   "metadata": {
    "id": "KC825STCauLo"
   },
   "source": [
    " * 직원의 거주지와 회사와의 거리"
   ]
  },
  {
   "cell_type": "markdown",
   "metadata": {
    "id": "giLkqBaAI1or"
   },
   "source": [
    "2) 숫자, 범주?"
   ]
  },
  {
   "cell_type": "markdown",
   "metadata": {
    "id": "No2cgiGyavod"
   },
   "source": [
    "- 숫자"
   ]
  },
  {
   "cell_type": "markdown",
   "metadata": {
    "id": "B-JTRSe3I1or"
   },
   "source": [
    "3) NaN 존재 유무 및 조치방안"
   ]
  },
  {
   "cell_type": "code",
   "execution_count": 8,
   "metadata": {
    "id": "jlxGlCJMaxQZ"
   },
   "outputs": [
    {
     "data": {
      "text/plain": [
       "54"
      ]
     },
     "execution_count": 8,
     "metadata": {},
     "output_type": "execute_result"
    }
   ],
   "source": [
    "attrition[\"DistanceFromHome\"].isna().sum()"
   ]
  },
  {
   "cell_type": "markdown",
   "metadata": {},
   "source": [
    "- nan값 존재하므로 평균으로 채움"
   ]
  },
  {
   "cell_type": "code",
   "execution_count": 9,
   "metadata": {},
   "outputs": [],
   "source": [
    "attrition[\"DistanceFromHome\"].fillna(attrition[\"DistanceFromHome\"].mean(), inplace = True)"
   ]
  },
  {
   "cell_type": "code",
   "execution_count": 10,
   "metadata": {},
   "outputs": [
    {
     "data": {
      "text/plain": [
       "0"
      ]
     },
     "execution_count": 10,
     "metadata": {},
     "output_type": "execute_result"
    }
   ],
   "source": [
    "attrition[\"DistanceFromHome\"].isna().sum()"
   ]
  },
  {
   "cell_type": "markdown",
   "metadata": {
    "id": "ATkE_BV4I1os"
   },
   "source": [
    "4) 기초통계량(수치화)"
   ]
  },
  {
   "cell_type": "code",
   "execution_count": 11,
   "metadata": {
    "id": "HvjYxr5BayMS"
   },
   "outputs": [
    {
     "data": {
      "text/plain": [
       "count    1250.000000\n",
       "mean        9.258361\n",
       "std         7.987539\n",
       "min         1.000000\n",
       "25%         2.000000\n",
       "50%         7.000000\n",
       "75%        13.000000\n",
       "max        29.000000\n",
       "Name: DistanceFromHome, dtype: float64"
      ]
     },
     "execution_count": 11,
     "metadata": {},
     "output_type": "execute_result"
    }
   ],
   "source": [
    "attrition[\"DistanceFromHome\"].describe()"
   ]
  },
  {
   "cell_type": "markdown",
   "metadata": {
    "id": "hsXz3J7aI1os"
   },
   "source": [
    "5) 분포 확인(시각화)"
   ]
  },
  {
   "cell_type": "code",
   "execution_count": 12,
   "metadata": {
    "id": "Or3r6dBIa0xo"
   },
   "outputs": [
    {
     "data": {
      "image/png": "[encoded data removed]",
      "text/plain": [
       "<Figure size 432x288 with 1 Axes>"
      ]
     },
     "metadata": {
      "needs_background": "light"
     },
     "output_type": "display_data"
    }
   ],
   "source": [
    "plt.hist(attrition[\"DistanceFromHome\"], bins = 6)\n",
    "plt.show()"
   ]
  },
  {
   "cell_type": "markdown",
   "metadata": {
    "id": "y4u60O2JI1ot"
   },
   "source": [
    "6) 기초통계량과 분포를 통해서 파악한 내용을 적어 봅시다.\n",
    "\n",
    "보이는 그대로를 넘어, 비즈니스 관점에서 고민하며 적어 봅시다."
   ]
  },
  {
   "cell_type": "markdown",
   "metadata": {
    "id": "FK9KjR9BVYqi"
   },
   "source": [
    "- 보통 직원들이 집과 회사를 10마일 안에서 많이 거주하고 있는 것으로 보임\n",
    "- 대부분 직원들이 회사와 가까이에 거주하는 것으로 보임"
   ]
  },
  {
   "cell_type": "markdown",
   "metadata": {
    "id": "iJ96hNV3I1ot"
   },
   "source": [
    "7) 추가 분석해 볼 사항이 있나요?"
   ]
  },
  {
   "cell_type": "markdown",
   "metadata": {},
   "source": [
    "- 이직을 한 사람 기준으로 집과 직장과의 거리 분포"
   ]
  },
  {
   "cell_type": "code",
   "execution_count": 13,
   "metadata": {},
   "outputs": [
    {
     "data": {
      "text/html": [
       "<div>\n",
       "<style scoped>\n",
       "    .dataframe tbody tr th:only-of-type {\n",
       "        vertical-align: middle;\n",
       "    }\n",
       "\n",
       "    .dataframe tbody tr th {\n",
       "        vertical-align: top;\n",
       "    }\n",
       "\n",
       "    .dataframe thead th {\n",
       "        text-align: right;\n",
       "    }\n",
       "</style>\n",
       "<table border=\"1\" class=\"dataframe\">\n",
       "  <thead>\n",
       "    <tr style=\"text-align: right;\">\n",
       "      <th></th>\n",
       "      <th>Attrition</th>\n",
       "      <th>Age</th>\n",
       "      <th>BusinessTravel</th>\n",
       "      <th>Department</th>\n",
       "      <th>DistanceFromHome</th>\n",
       "      <th>EmployeeNumber</th>\n",
       "      <th>Gender</th>\n",
       "      <th>JobSatisfaction</th>\n",
       "      <th>MaritalStatus</th>\n",
       "      <th>MonthlyIncome</th>\n",
       "      <th>OverTime</th>\n",
       "      <th>PercentSalaryHike</th>\n",
       "      <th>RelationshipSatisfaction</th>\n",
       "      <th>StockOptionLevel</th>\n",
       "      <th>TotalWorkingYears</th>\n",
       "      <th>WorkLifeBalance</th>\n",
       "    </tr>\n",
       "  </thead>\n",
       "  <tbody>\n",
       "    <tr>\n",
       "      <th>5</th>\n",
       "      <td>Yes</td>\n",
       "      <td>22</td>\n",
       "      <td>Travel_Frequently</td>\n",
       "      <td>Research &amp; Development</td>\n",
       "      <td>4.0</td>\n",
       "      <td>593</td>\n",
       "      <td>Male</td>\n",
       "      <td>3</td>\n",
       "      <td>Single</td>\n",
       "      <td>3894</td>\n",
       "      <td>No</td>\n",
       "      <td>16</td>\n",
       "      <td>3</td>\n",
       "      <td>0</td>\n",
       "      <td>4</td>\n",
       "      <td>3</td>\n",
       "    </tr>\n",
       "    <tr>\n",
       "      <th>10</th>\n",
       "      <td>Yes</td>\n",
       "      <td>24</td>\n",
       "      <td>Travel_Rarely</td>\n",
       "      <td>Sales</td>\n",
       "      <td>3.0</td>\n",
       "      <td>720</td>\n",
       "      <td>Female</td>\n",
       "      <td>3</td>\n",
       "      <td>Single</td>\n",
       "      <td>4577</td>\n",
       "      <td>No</td>\n",
       "      <td>14</td>\n",
       "      <td>1</td>\n",
       "      <td>0</td>\n",
       "      <td>4</td>\n",
       "      <td>3</td>\n",
       "    </tr>\n",
       "    <tr>\n",
       "      <th>12</th>\n",
       "      <td>Yes</td>\n",
       "      <td>33</td>\n",
       "      <td>Travel_Rarely</td>\n",
       "      <td>Research &amp; Development</td>\n",
       "      <td>15.0</td>\n",
       "      <td>582</td>\n",
       "      <td>Male</td>\n",
       "      <td>3</td>\n",
       "      <td>Married</td>\n",
       "      <td>13610</td>\n",
       "      <td>Yes</td>\n",
       "      <td>12</td>\n",
       "      <td>4</td>\n",
       "      <td>0</td>\n",
       "      <td>15</td>\n",
       "      <td>4</td>\n",
       "    </tr>\n",
       "    <tr>\n",
       "      <th>18</th>\n",
       "      <td>Yes</td>\n",
       "      <td>58</td>\n",
       "      <td>Travel_Frequently</td>\n",
       "      <td>Research &amp; Development</td>\n",
       "      <td>2.0</td>\n",
       "      <td>918</td>\n",
       "      <td>Male</td>\n",
       "      <td>4</td>\n",
       "      <td>Divorced</td>\n",
       "      <td>2380</td>\n",
       "      <td>Yes</td>\n",
       "      <td>14</td>\n",
       "      <td>4</td>\n",
       "      <td>1</td>\n",
       "      <td>3</td>\n",
       "      <td>2</td>\n",
       "    </tr>\n",
       "    <tr>\n",
       "      <th>22</th>\n",
       "      <td>Yes</td>\n",
       "      <td>32</td>\n",
       "      <td>Travel_Rarely</td>\n",
       "      <td>Research &amp; Development</td>\n",
       "      <td>7.0</td>\n",
       "      <td>1309</td>\n",
       "      <td>Male</td>\n",
       "      <td>3</td>\n",
       "      <td>Married</td>\n",
       "      <td>4883</td>\n",
       "      <td>No</td>\n",
       "      <td>18</td>\n",
       "      <td>1</td>\n",
       "      <td>1</td>\n",
       "      <td>10</td>\n",
       "      <td>3</td>\n",
       "    </tr>\n",
       "  </tbody>\n",
       "</table>\n",
       "</div>"
      ],
      "text/plain": [
       "   Attrition  Age     BusinessTravel              Department  \\\n",
       "5        Yes   22  Travel_Frequently  Research & Development   \n",
       "10       Yes   24      Travel_Rarely                   Sales   \n",
       "12       Yes   33      Travel_Rarely  Research & Development   \n",
       "18       Yes   58  Travel_Frequently  Research & Development   \n",
       "22       Yes   32      Travel_Rarely  Research & Development   \n",
       "\n",
       "    DistanceFromHome  EmployeeNumber  Gender  JobSatisfaction MaritalStatus  \\\n",
       "5                4.0             593    Male                3        Single   \n",
       "10               3.0             720  Female                3        Single   \n",
       "12              15.0             582    Male                3       Married   \n",
       "18               2.0             918    Male                4      Divorced   \n",
       "22               7.0            1309    Male                3       Married   \n",
       "\n",
       "    MonthlyIncome OverTime  PercentSalaryHike  RelationshipSatisfaction  \\\n",
       "5            3894       No                 16                         3   \n",
       "10           4577       No                 14                         1   \n",
       "12          13610      Yes                 12                         4   \n",
       "18           2380      Yes                 14                         4   \n",
       "22           4883       No                 18                         1   \n",
       "\n",
       "    StockOptionLevel  TotalWorkingYears  WorkLifeBalance  \n",
       "5                  0                  4                3  \n",
       "10                 0                  4                3  \n",
       "12                 0                 15                4  \n",
       "18                 1                  3                2  \n",
       "22                 1                 10                3  "
      ]
     },
     "execution_count": 13,
     "metadata": {},
     "output_type": "execute_result"
    }
   ],
   "source": [
    "sub_df = attrition.loc[attrition[\"Attrition\"] == 'Yes']\n",
    "sub_df.head()"
   ]
  },
  {
   "cell_type": "code",
   "execution_count": 14,
   "metadata": {},
   "outputs": [
    {
     "data": {
      "text/plain": [
       "count    200.000000\n",
       "mean      10.736459\n",
       "std        8.466094\n",
       "min        1.000000\n",
       "25%        3.000000\n",
       "50%        9.000000\n",
       "75%       17.000000\n",
       "max       29.000000\n",
       "Name: DistanceFromHome, dtype: float64"
      ]
     },
     "execution_count": 14,
     "metadata": {},
     "output_type": "execute_result"
    }
   ],
   "source": [
    "sub_df[\"DistanceFromHome\"].describe()"
   ]
  },
  {
   "cell_type": "code",
   "execution_count": 15,
   "metadata": {},
   "outputs": [
    {
     "data": {
      "image/png": "[encoded data removed]",
      "text/plain": [
       "<Figure size 720x720 with 4 Axes>"
      ]
     },
     "metadata": {
      "needs_background": "light"
     },
     "output_type": "display_data"
    }
   ],
   "source": [
    "plt.figure(figsize=(10,10))\n",
    "\n",
    "plt.subplot(2,2,1)\n",
    "pd.Series(sub_df[\"DistanceFromHome\"]).plot(kind='kde')\n",
    "\n",
    "plt.subplot(2,2,2)\n",
    "plt.hist(sub_df[\"DistanceFromHome\"], bins= 6)\n",
    "\n",
    "plt.subplot(2,2,3)\n",
    "plt.boxplot(sub_df[\"DistanceFromHome\"], vert = False)\n",
    "\n",
    "plt.subplot(2,2,4)\n",
    "plt.violinplot(sub_df[\"DistanceFromHome\"], vert= False)\n",
    "\n",
    "plt.suptitle('DistanceFromHome Distribution')\n",
    "plt.show()\n"
   ]
  },
  {
   "cell_type": "markdown",
   "metadata": {
    "id": "ICoBfnCJVZ1M"
   },
   "source": [
    "- 이직을 한 사람들의 집과 회사의 평균 거리는 약 10마일인 것으로 보아, 이직하는 기준에서 집과 회사의 거리는 큰 비중이 없을 것으로 판단된다."
   ]
  },
  {
   "cell_type": "markdown",
   "metadata": {
    "id": "dE0Tdvu4rY42"
   },
   "source": [
    "### ③ MonthlyIncome"
   ]
  },
  {
   "cell_type": "markdown",
   "metadata": {
    "id": "ZJAq2-Cqa4B9"
   },
   "source": [
    "1) 변수의 비즈니스 의미"
   ]
  },
  {
   "cell_type": "markdown",
   "metadata": {
    "id": "boNgXYbZa4B9"
   },
   "source": [
    "- 월급"
   ]
  },
  {
   "cell_type": "markdown",
   "metadata": {
    "id": "FuisxESNa4B9"
   },
   "source": [
    "2) 숫자, 범주?"
   ]
  },
  {
   "cell_type": "markdown",
   "metadata": {
    "id": "q_FSvCyla4B9"
   },
   "source": [
    "숫자"
   ]
  },
  {
   "cell_type": "markdown",
   "metadata": {
    "id": "mmMQE8kUfc_G"
   },
   "source": [
    "3) NaN 존재 유무 및 조치방안"
   ]
  },
  {
   "cell_type": "code",
   "execution_count": 16,
   "metadata": {
    "id": "Acmnacl6a4B-"
   },
   "outputs": [
    {
     "data": {
      "text/plain": [
       "0"
      ]
     },
     "execution_count": 16,
     "metadata": {},
     "output_type": "execute_result"
    }
   ],
   "source": [
    "attrition[\"MonthlyIncome\"].isna().sum()"
   ]
  },
  {
   "cell_type": "markdown",
   "metadata": {
    "id": "Ry78zRZZa4B-"
   },
   "source": [
    "4) 기초통계량(수치화)"
   ]
  },
  {
   "cell_type": "code",
   "execution_count": 17,
   "metadata": {
    "id": "-D2vLs37a4B-"
   },
   "outputs": [
    {
     "data": {
      "text/plain": [
       "count     1250.000000\n",
       "mean      6525.548000\n",
       "std       4676.979554\n",
       "min       1009.000000\n",
       "25%       2932.250000\n",
       "50%       4988.000000\n",
       "75%       8437.500000\n",
       "max      19999.000000\n",
       "Name: MonthlyIncome, dtype: float64"
      ]
     },
     "execution_count": 17,
     "metadata": {},
     "output_type": "execute_result"
    }
   ],
   "source": [
    "attrition[\"MonthlyIncome\"].describe()"
   ]
  },
  {
   "cell_type": "markdown",
   "metadata": {
    "id": "CIYsMvJZa4B-"
   },
   "source": [
    "5) 분포 확인(시각화)"
   ]
  },
  {
   "cell_type": "code",
   "execution_count": 18,
   "metadata": {
    "id": "Rdre_30Ua4B-"
   },
   "outputs": [
    {
     "data": {
      "image/png": "[encoded data removed]",
      "text/plain": [
       "<Figure size 432x288 with 1 Axes>"
      ]
     },
     "metadata": {
      "needs_background": "light"
     },
     "output_type": "display_data"
    }
   ],
   "source": [
    "plt.hist(attrition[\"MonthlyIncome\"], bins = 10)\n",
    "plt.show()"
   ]
  },
  {
   "cell_type": "markdown",
   "metadata": {
    "id": "TgiIpcUra4B-"
   },
   "source": [
    "6) 기초통계량과 분포를 통해서 파악한 내용을 적어 봅시다.\n",
    "\n",
    "보이는 그대로를 넘어, 비즈니스 관점에서 고민하며 적어 봅시다."
   ]
  },
  {
   "cell_type": "markdown",
   "metadata": {
    "id": "jkClp2uVa4B_"
   },
   "source": [
    "- 직원들의 평균 월급은 약 6500달러이다.\n",
    "- 분포를 확인 했을 때, 왼쪽으로 많이 치우친 것과 50% 이상의 직원들이 5000달러도 미만으로 받는 것으로 보아 대부분의 직원들이 평균보다 많은 월급을 받지 못한다."
   ]
  },
  {
   "cell_type": "markdown",
   "metadata": {
    "id": "SKkxtQPWa4B_"
   },
   "source": [
    "7) 추가 분석해 볼 사항이 있나요?"
   ]
  },
  {
   "cell_type": "markdown",
   "metadata": {
    "id": "ClKWi_EZa4B_"
   },
   "source": [
    "- 이직한 사람들의 월급 현황"
   ]
  },
  {
   "cell_type": "code",
   "execution_count": 19,
   "metadata": {},
   "outputs": [
    {
     "data": {
      "text/html": [
       "<div>\n",
       "<style scoped>\n",
       "    .dataframe tbody tr th:only-of-type {\n",
       "        vertical-align: middle;\n",
       "    }\n",
       "\n",
       "    .dataframe tbody tr th {\n",
       "        vertical-align: top;\n",
       "    }\n",
       "\n",
       "    .dataframe thead th {\n",
       "        text-align: right;\n",
       "    }\n",
       "</style>\n",
       "<table border=\"1\" class=\"dataframe\">\n",
       "  <thead>\n",
       "    <tr style=\"text-align: right;\">\n",
       "      <th></th>\n",
       "      <th>Attrition</th>\n",
       "      <th>Age</th>\n",
       "      <th>BusinessTravel</th>\n",
       "      <th>Department</th>\n",
       "      <th>DistanceFromHome</th>\n",
       "      <th>EmployeeNumber</th>\n",
       "      <th>Gender</th>\n",
       "      <th>JobSatisfaction</th>\n",
       "      <th>MaritalStatus</th>\n",
       "      <th>MonthlyIncome</th>\n",
       "      <th>OverTime</th>\n",
       "      <th>PercentSalaryHike</th>\n",
       "      <th>RelationshipSatisfaction</th>\n",
       "      <th>StockOptionLevel</th>\n",
       "      <th>TotalWorkingYears</th>\n",
       "      <th>WorkLifeBalance</th>\n",
       "    </tr>\n",
       "  </thead>\n",
       "  <tbody>\n",
       "    <tr>\n",
       "      <th>5</th>\n",
       "      <td>Yes</td>\n",
       "      <td>22</td>\n",
       "      <td>Travel_Frequently</td>\n",
       "      <td>Research &amp; Development</td>\n",
       "      <td>4.0</td>\n",
       "      <td>593</td>\n",
       "      <td>Male</td>\n",
       "      <td>3</td>\n",
       "      <td>Single</td>\n",
       "      <td>3894</td>\n",
       "      <td>No</td>\n",
       "      <td>16</td>\n",
       "      <td>3</td>\n",
       "      <td>0</td>\n",
       "      <td>4</td>\n",
       "      <td>3</td>\n",
       "    </tr>\n",
       "    <tr>\n",
       "      <th>10</th>\n",
       "      <td>Yes</td>\n",
       "      <td>24</td>\n",
       "      <td>Travel_Rarely</td>\n",
       "      <td>Sales</td>\n",
       "      <td>3.0</td>\n",
       "      <td>720</td>\n",
       "      <td>Female</td>\n",
       "      <td>3</td>\n",
       "      <td>Single</td>\n",
       "      <td>4577</td>\n",
       "      <td>No</td>\n",
       "      <td>14</td>\n",
       "      <td>1</td>\n",
       "      <td>0</td>\n",
       "      <td>4</td>\n",
       "      <td>3</td>\n",
       "    </tr>\n",
       "    <tr>\n",
       "      <th>12</th>\n",
       "      <td>Yes</td>\n",
       "      <td>33</td>\n",
       "      <td>Travel_Rarely</td>\n",
       "      <td>Research &amp; Development</td>\n",
       "      <td>15.0</td>\n",
       "      <td>582</td>\n",
       "      <td>Male</td>\n",
       "      <td>3</td>\n",
       "      <td>Married</td>\n",
       "      <td>13610</td>\n",
       "      <td>Yes</td>\n",
       "      <td>12</td>\n",
       "      <td>4</td>\n",
       "      <td>0</td>\n",
       "      <td>15</td>\n",
       "      <td>4</td>\n",
       "    </tr>\n",
       "    <tr>\n",
       "      <th>18</th>\n",
       "      <td>Yes</td>\n",
       "      <td>58</td>\n",
       "      <td>Travel_Frequently</td>\n",
       "      <td>Research &amp; Development</td>\n",
       "      <td>2.0</td>\n",
       "      <td>918</td>\n",
       "      <td>Male</td>\n",
       "      <td>4</td>\n",
       "      <td>Divorced</td>\n",
       "      <td>2380</td>\n",
       "      <td>Yes</td>\n",
       "      <td>14</td>\n",
       "      <td>4</td>\n",
       "      <td>1</td>\n",
       "      <td>3</td>\n",
       "      <td>2</td>\n",
       "    </tr>\n",
       "    <tr>\n",
       "      <th>22</th>\n",
       "      <td>Yes</td>\n",
       "      <td>32</td>\n",
       "      <td>Travel_Rarely</td>\n",
       "      <td>Research &amp; Development</td>\n",
       "      <td>7.0</td>\n",
       "      <td>1309</td>\n",
       "      <td>Male</td>\n",
       "      <td>3</td>\n",
       "      <td>Married</td>\n",
       "      <td>4883</td>\n",
       "      <td>No</td>\n",
       "      <td>18</td>\n",
       "      <td>1</td>\n",
       "      <td>1</td>\n",
       "      <td>10</td>\n",
       "      <td>3</td>\n",
       "    </tr>\n",
       "  </tbody>\n",
       "</table>\n",
       "</div>"
      ],
      "text/plain": [
       "   Attrition  Age     BusinessTravel              Department  \\\n",
       "5        Yes   22  Travel_Frequently  Research & Development   \n",
       "10       Yes   24      Travel_Rarely                   Sales   \n",
       "12       Yes   33      Travel_Rarely  Research & Development   \n",
       "18       Yes   58  Travel_Frequently  Research & Development   \n",
       "22       Yes   32      Travel_Rarely  Research & Development   \n",
       "\n",
       "    DistanceFromHome  EmployeeNumber  Gender  JobSatisfaction MaritalStatus  \\\n",
       "5                4.0             593    Male                3        Single   \n",
       "10               3.0             720  Female                3        Single   \n",
       "12              15.0             582    Male                3       Married   \n",
       "18               2.0             918    Male                4      Divorced   \n",
       "22               7.0            1309    Male                3       Married   \n",
       "\n",
       "    MonthlyIncome OverTime  PercentSalaryHike  RelationshipSatisfaction  \\\n",
       "5            3894       No                 16                         3   \n",
       "10           4577       No                 14                         1   \n",
       "12          13610      Yes                 12                         4   \n",
       "18           2380      Yes                 14                         4   \n",
       "22           4883       No                 18                         1   \n",
       "\n",
       "    StockOptionLevel  TotalWorkingYears  WorkLifeBalance  \n",
       "5                  0                  4                3  \n",
       "10                 0                  4                3  \n",
       "12                 0                 15                4  \n",
       "18                 1                  3                2  \n",
       "22                 1                 10                3  "
      ]
     },
     "execution_count": 19,
     "metadata": {},
     "output_type": "execute_result"
    }
   ],
   "source": [
    "sub_df = attrition.loc[attrition[\"Attrition\"] == 'Yes']\n",
    "sub_df.head()"
   ]
  },
  {
   "cell_type": "code",
   "execution_count": 20,
   "metadata": {},
   "outputs": [
    {
     "data": {
      "text/plain": [
       "count      200.000000\n",
       "mean      4738.125000\n",
       "std       3444.320891\n",
       "min       1009.000000\n",
       "25%       2386.750000\n",
       "50%       3424.000000\n",
       "75%       6013.250000\n",
       "max      19859.000000\n",
       "Name: MonthlyIncome, dtype: float64"
      ]
     },
     "execution_count": 20,
     "metadata": {},
     "output_type": "execute_result"
    }
   ],
   "source": [
    "sub_df[\"MonthlyIncome\"].describe()"
   ]
  },
  {
   "cell_type": "code",
   "execution_count": 21,
   "metadata": {},
   "outputs": [
    {
     "data": {
      "image/png": "[encoded data removed]",
      "text/plain": [
       "<Figure size 720x720 with 4 Axes>"
      ]
     },
     "metadata": {
      "needs_background": "light"
     },
     "output_type": "display_data"
    }
   ],
   "source": [
    "plt.figure(figsize=(10,10))\n",
    "\n",
    "plt.subplot(2,2,1)\n",
    "pd.Series(sub_df[\"MonthlyIncome\"]).plot(kind='kde')\n",
    "\n",
    "plt.subplot(2,2,2)\n",
    "plt.hist(sub_df[\"MonthlyIncome\"], bins= 10)\n",
    "\n",
    "plt.subplot(2,2,3)\n",
    "plt.boxplot(sub_df[\"MonthlyIncome\"], vert = False)\n",
    "\n",
    "plt.subplot(2,2,4)\n",
    "plt.violinplot(sub_df[\"MonthlyIncome\"], vert= False)\n",
    "\n",
    "plt.suptitle('MonthlyIncome Distribution')\n",
    "plt.show()\n"
   ]
  },
  {
   "cell_type": "markdown",
   "metadata": {},
   "source": [
    "- 이직한 사람들의 평균 연봉이 약 4700달러인 것과, 분포를 확인 했을 때 왼쪽으로 치운 것으로 보아, 이직한 대부분의 직원들의 연봉이 낮은 편이였다고 유추할 수 있다."
   ]
  },
  {
   "cell_type": "code",
   "execution_count": null,
   "metadata": {},
   "outputs": [],
   "source": []
  },
  {
   "cell_type": "markdown",
   "metadata": {
    "id": "kasJ05pvrg9A"
   },
   "source": [
    "### ④ PercentSalaryHike"
   ]
  },
  {
   "cell_type": "markdown",
   "metadata": {
    "id": "PpG0AZJpa6aA"
   },
   "source": [
    "1) 변수의 비즈니스 의미"
   ]
  },
  {
   "cell_type": "markdown",
   "metadata": {
    "id": "cHus3R0Wa6aB"
   },
   "source": [
    "- 전년대비 급여인상율"
   ]
  },
  {
   "cell_type": "markdown",
   "metadata": {
    "id": "P6TZ9Fv4a6aB"
   },
   "source": [
    "2) 숫자, 범주?"
   ]
  },
  {
   "cell_type": "markdown",
   "metadata": {
    "id": "10nqVgeSa6aB"
   },
   "source": [
    "- 숫자"
   ]
  },
  {
   "cell_type": "markdown",
   "metadata": {
    "id": "f1M9y9bBfeMt"
   },
   "source": [
    "3) NaN 존재 유무 및 조치방안"
   ]
  },
  {
   "cell_type": "code",
   "execution_count": 22,
   "metadata": {
    "id": "DScoTOr0a6aB"
   },
   "outputs": [
    {
     "data": {
      "text/plain": [
       "0"
      ]
     },
     "execution_count": 22,
     "metadata": {},
     "output_type": "execute_result"
    }
   ],
   "source": [
    "attrition[\"PercentSalaryHike\"].isna().sum()"
   ]
  },
  {
   "cell_type": "markdown",
   "metadata": {
    "id": "pifpaYlya6aB"
   },
   "source": [
    "4) 기초통계량(수치화)"
   ]
  },
  {
   "cell_type": "code",
   "execution_count": 23,
   "metadata": {
    "id": "INNZMp5va6aB"
   },
   "outputs": [
    {
     "data": {
      "text/plain": [
       "count    1250.000000\n",
       "mean       15.216000\n",
       "std         3.625556\n",
       "min        11.000000\n",
       "25%        12.000000\n",
       "50%        14.000000\n",
       "75%        18.000000\n",
       "max        25.000000\n",
       "Name: PercentSalaryHike, dtype: float64"
      ]
     },
     "execution_count": 23,
     "metadata": {},
     "output_type": "execute_result"
    }
   ],
   "source": [
    "attrition[\"PercentSalaryHike\"].describe()"
   ]
  },
  {
   "cell_type": "markdown",
   "metadata": {
    "id": "WYr6Wnraa6aB"
   },
   "source": [
    "5) 분포 확인(시각화)"
   ]
  },
  {
   "cell_type": "code",
   "execution_count": 24,
   "metadata": {
    "id": "NoOVAAYma6aB"
   },
   "outputs": [
    {
     "data": {
      "image/png": "[encoded data removed]",
      "text/plain": [
       "<Figure size 432x288 with 1 Axes>"
      ]
     },
     "metadata": {
      "needs_background": "light"
     },
     "output_type": "display_data"
    }
   ],
   "source": [
    "plt.hist(attrition[\"PercentSalaryHike\"], bins = 3)\n",
    "plt.show()"
   ]
  },
  {
   "cell_type": "markdown",
   "metadata": {
    "id": "MZzUiLNUa6aB"
   },
   "source": [
    "6) 기초통계량과 분포를 통해서 파악한 내용을 적어 봅시다.\n",
    "\n",
    "보이는 그대로를 넘어, 비즈니스 관점에서 고민하며 적어 봅시다."
   ]
  },
  {
   "cell_type": "markdown",
   "metadata": {
    "id": "uGrwur8Ta6aB"
   },
   "source": [
    "- 전년 대비 급여 인상률의 평균은 15%이고, 분포를 보았을 때, 왼쪽으로 치우친 것을 보아 대부분의 직원들은 약 15% 안에서 급여 인상이 됐을 것으로 보인다."
   ]
  },
  {
   "cell_type": "markdown",
   "metadata": {
    "id": "ISIpXxtPa6aB"
   },
   "source": [
    "7) 추가 분석해 볼 사항이 있나요?"
   ]
  },
  {
   "cell_type": "markdown",
   "metadata": {
    "id": "sIyEle1-a6aB"
   },
   "source": [
    "- 이직한 사람들의 전년 대비 급여 인상률"
   ]
  },
  {
   "cell_type": "code",
   "execution_count": 25,
   "metadata": {},
   "outputs": [
    {
     "data": {
      "text/html": [
       "<div>\n",
       "<style scoped>\n",
       "    .dataframe tbody tr th:only-of-type {\n",
       "        vertical-align: middle;\n",
       "    }\n",
       "\n",
       "    .dataframe tbody tr th {\n",
       "        vertical-align: top;\n",
       "    }\n",
       "\n",
       "    .dataframe thead th {\n",
       "        text-align: right;\n",
       "    }\n",
       "</style>\n",
       "<table border=\"1\" class=\"dataframe\">\n",
       "  <thead>\n",
       "    <tr style=\"text-align: right;\">\n",
       "      <th></th>\n",
       "      <th>Attrition</th>\n",
       "      <th>Age</th>\n",
       "      <th>BusinessTravel</th>\n",
       "      <th>Department</th>\n",
       "      <th>DistanceFromHome</th>\n",
       "      <th>EmployeeNumber</th>\n",
       "      <th>Gender</th>\n",
       "      <th>JobSatisfaction</th>\n",
       "      <th>MaritalStatus</th>\n",
       "      <th>MonthlyIncome</th>\n",
       "      <th>OverTime</th>\n",
       "      <th>PercentSalaryHike</th>\n",
       "      <th>RelationshipSatisfaction</th>\n",
       "      <th>StockOptionLevel</th>\n",
       "      <th>TotalWorkingYears</th>\n",
       "      <th>WorkLifeBalance</th>\n",
       "    </tr>\n",
       "  </thead>\n",
       "  <tbody>\n",
       "    <tr>\n",
       "      <th>5</th>\n",
       "      <td>Yes</td>\n",
       "      <td>22</td>\n",
       "      <td>Travel_Frequently</td>\n",
       "      <td>Research &amp; Development</td>\n",
       "      <td>4.0</td>\n",
       "      <td>593</td>\n",
       "      <td>Male</td>\n",
       "      <td>3</td>\n",
       "      <td>Single</td>\n",
       "      <td>3894</td>\n",
       "      <td>No</td>\n",
       "      <td>16</td>\n",
       "      <td>3</td>\n",
       "      <td>0</td>\n",
       "      <td>4</td>\n",
       "      <td>3</td>\n",
       "    </tr>\n",
       "    <tr>\n",
       "      <th>10</th>\n",
       "      <td>Yes</td>\n",
       "      <td>24</td>\n",
       "      <td>Travel_Rarely</td>\n",
       "      <td>Sales</td>\n",
       "      <td>3.0</td>\n",
       "      <td>720</td>\n",
       "      <td>Female</td>\n",
       "      <td>3</td>\n",
       "      <td>Single</td>\n",
       "      <td>4577</td>\n",
       "      <td>No</td>\n",
       "      <td>14</td>\n",
       "      <td>1</td>\n",
       "      <td>0</td>\n",
       "      <td>4</td>\n",
       "      <td>3</td>\n",
       "    </tr>\n",
       "    <tr>\n",
       "      <th>12</th>\n",
       "      <td>Yes</td>\n",
       "      <td>33</td>\n",
       "      <td>Travel_Rarely</td>\n",
       "      <td>Research &amp; Development</td>\n",
       "      <td>15.0</td>\n",
       "      <td>582</td>\n",
       "      <td>Male</td>\n",
       "      <td>3</td>\n",
       "      <td>Married</td>\n",
       "      <td>13610</td>\n",
       "      <td>Yes</td>\n",
       "      <td>12</td>\n",
       "      <td>4</td>\n",
       "      <td>0</td>\n",
       "      <td>15</td>\n",
       "      <td>4</td>\n",
       "    </tr>\n",
       "    <tr>\n",
       "      <th>18</th>\n",
       "      <td>Yes</td>\n",
       "      <td>58</td>\n",
       "      <td>Travel_Frequently</td>\n",
       "      <td>Research &amp; Development</td>\n",
       "      <td>2.0</td>\n",
       "      <td>918</td>\n",
       "      <td>Male</td>\n",
       "      <td>4</td>\n",
       "      <td>Divorced</td>\n",
       "      <td>2380</td>\n",
       "      <td>Yes</td>\n",
       "      <td>14</td>\n",
       "      <td>4</td>\n",
       "      <td>1</td>\n",
       "      <td>3</td>\n",
       "      <td>2</td>\n",
       "    </tr>\n",
       "    <tr>\n",
       "      <th>22</th>\n",
       "      <td>Yes</td>\n",
       "      <td>32</td>\n",
       "      <td>Travel_Rarely</td>\n",
       "      <td>Research &amp; Development</td>\n",
       "      <td>7.0</td>\n",
       "      <td>1309</td>\n",
       "      <td>Male</td>\n",
       "      <td>3</td>\n",
       "      <td>Married</td>\n",
       "      <td>4883</td>\n",
       "      <td>No</td>\n",
       "      <td>18</td>\n",
       "      <td>1</td>\n",
       "      <td>1</td>\n",
       "      <td>10</td>\n",
       "      <td>3</td>\n",
       "    </tr>\n",
       "  </tbody>\n",
       "</table>\n",
       "</div>"
      ],
      "text/plain": [
       "   Attrition  Age     BusinessTravel              Department  \\\n",
       "5        Yes   22  Travel_Frequently  Research & Development   \n",
       "10       Yes   24      Travel_Rarely                   Sales   \n",
       "12       Yes   33      Travel_Rarely  Research & Development   \n",
       "18       Yes   58  Travel_Frequently  Research & Development   \n",
       "22       Yes   32      Travel_Rarely  Research & Development   \n",
       "\n",
       "    DistanceFromHome  EmployeeNumber  Gender  JobSatisfaction MaritalStatus  \\\n",
       "5                4.0             593    Male                3        Single   \n",
       "10               3.0             720  Female                3        Single   \n",
       "12              15.0             582    Male                3       Married   \n",
       "18               2.0             918    Male                4      Divorced   \n",
       "22               7.0            1309    Male                3       Married   \n",
       "\n",
       "    MonthlyIncome OverTime  PercentSalaryHike  RelationshipSatisfaction  \\\n",
       "5            3894       No                 16                         3   \n",
       "10           4577       No                 14                         1   \n",
       "12          13610      Yes                 12                         4   \n",
       "18           2380      Yes                 14                         4   \n",
       "22           4883       No                 18                         1   \n",
       "\n",
       "    StockOptionLevel  TotalWorkingYears  WorkLifeBalance  \n",
       "5                  0                  4                3  \n",
       "10                 0                  4                3  \n",
       "12                 0                 15                4  \n",
       "18                 1                  3                2  \n",
       "22                 1                 10                3  "
      ]
     },
     "execution_count": 25,
     "metadata": {},
     "output_type": "execute_result"
    }
   ],
   "source": [
    "sub_df = attrition.loc[attrition[\"Attrition\"] == 'Yes']\n",
    "sub_df.head()"
   ]
  },
  {
   "cell_type": "code",
   "execution_count": 26,
   "metadata": {},
   "outputs": [
    {
     "data": {
      "text/plain": [
       "count    200.000000\n",
       "mean      15.265000\n",
       "std        3.823332\n",
       "min       11.000000\n",
       "25%       12.000000\n",
       "50%       14.000000\n",
       "75%       18.000000\n",
       "max       25.000000\n",
       "Name: PercentSalaryHike, dtype: float64"
      ]
     },
     "execution_count": 26,
     "metadata": {},
     "output_type": "execute_result"
    }
   ],
   "source": [
    "sub_df[\"PercentSalaryHike\"].describe()"
   ]
  },
  {
   "cell_type": "code",
   "execution_count": 27,
   "metadata": {},
   "outputs": [
    {
     "data": {
      "image/png": "[encoded data removed]",
      "text/plain": [
       "<Figure size 720x720 with 4 Axes>"
      ]
     },
     "metadata": {
      "needs_background": "light"
     },
     "output_type": "display_data"
    }
   ],
   "source": [
    "plt.figure(figsize=(10,10))\n",
    "\n",
    "plt.subplot(2,2,1)\n",
    "pd.Series(sub_df[\"PercentSalaryHike\"]).plot(kind='kde')\n",
    "\n",
    "plt.subplot(2,2,2)\n",
    "plt.hist(sub_df[\"PercentSalaryHike\"], bins= 3)\n",
    "\n",
    "plt.subplot(2,2,3)\n",
    "plt.boxplot(sub_df[\"PercentSalaryHike\"], vert = False)\n",
    "\n",
    "plt.subplot(2,2,4)\n",
    "plt.violinplot(sub_df[\"PercentSalaryHike\"], vert= False)\n",
    "\n",
    "plt.suptitle('PercentSalaryHike Distribution')\n",
    "plt.show()"
   ]
  },
  {
   "cell_type": "markdown",
   "metadata": {},
   "source": [
    "- 마찬가지로 이직한 직원의 전년 대비 급여 인상률 또한 15% 안에서 가장 많이 분포하고 있는 것으로 보인다.\n",
    "- 대부분의 이직한 직원들의 높은 급여 인상률을 받지 못한 것으로 유추할 수도 있지만, 평균적으로 높은 급여를 받는 직원이 많지 않기 때문에 다른 요소도 고려해봐야할 것 같다."
   ]
  },
  {
   "cell_type": "code",
   "execution_count": null,
   "metadata": {},
   "outputs": [],
   "source": []
  },
  {
   "cell_type": "markdown",
   "metadata": {
    "id": "vjV82BY0ndIy"
   },
   "source": [
    "### ⑤ TotalWorkingYears"
   ]
  },
  {
   "cell_type": "markdown",
   "metadata": {
    "id": "Q9OItSE7a9Ih"
   },
   "source": [
    "1) 변수의 비즈니스 의미"
   ]
  },
  {
   "cell_type": "markdown",
   "metadata": {
    "id": "ndOl8xR7a9Ih"
   },
   "source": [
    "- 총 경력 연수"
   ]
  },
  {
   "cell_type": "markdown",
   "metadata": {
    "id": "wFkgMsuba9Ih"
   },
   "source": [
    "2) 숫자, 범주?"
   ]
  },
  {
   "cell_type": "markdown",
   "metadata": {
    "id": "NepnmnJMa9Ih"
   },
   "source": [
    "- 숫자"
   ]
  },
  {
   "cell_type": "markdown",
   "metadata": {
    "id": "uI2vG1TbffQ9"
   },
   "source": [
    "3) NaN 존재 유무 및 조치방안"
   ]
  },
  {
   "cell_type": "code",
   "execution_count": 28,
   "metadata": {
    "id": "czEUYtfaa9Ih"
   },
   "outputs": [
    {
     "data": {
      "text/plain": [
       "0"
      ]
     },
     "execution_count": 28,
     "metadata": {},
     "output_type": "execute_result"
    }
   ],
   "source": [
    "attrition[\"TotalWorkingYears\"].isna().sum()"
   ]
  },
  {
   "cell_type": "markdown",
   "metadata": {
    "id": "lpeKC2zIa9Ih"
   },
   "source": [
    "4) 기초통계량(수치화)"
   ]
  },
  {
   "cell_type": "code",
   "execution_count": 29,
   "metadata": {
    "id": "F9RqLWmoa9Ii"
   },
   "outputs": [
    {
     "data": {
      "text/plain": [
       "count    1250.00000\n",
       "mean       11.33920\n",
       "std         7.79687\n",
       "min         0.00000\n",
       "25%         6.00000\n",
       "50%        10.00000\n",
       "75%        15.00000\n",
       "max        40.00000\n",
       "Name: TotalWorkingYears, dtype: float64"
      ]
     },
     "execution_count": 29,
     "metadata": {},
     "output_type": "execute_result"
    }
   ],
   "source": [
    "attrition[\"TotalWorkingYears\"].describe()"
   ]
  },
  {
   "cell_type": "markdown",
   "metadata": {
    "id": "_C7dYJWEa9Ii"
   },
   "source": [
    "5) 분포 확인(시각화)"
   ]
  },
  {
   "cell_type": "code",
   "execution_count": 30,
   "metadata": {
    "id": "CUc9PJQAa9Ii"
   },
   "outputs": [
    {
     "data": {
      "image/png": "[encoded data removed]",
      "text/plain": [
       "<Figure size 432x288 with 1 Axes>"
      ]
     },
     "metadata": {
      "needs_background": "light"
     },
     "output_type": "display_data"
    }
   ],
   "source": [
    "plt.hist(attrition[\"TotalWorkingYears\"])\n",
    "plt.show()"
   ]
  },
  {
   "cell_type": "markdown",
   "metadata": {
    "id": "_9J66Gnya9Ii"
   },
   "source": [
    "6) 기초통계량과 분포를 통해서 파악한 내용을 적어 봅시다.\n",
    "\n",
    "보이는 그대로를 넘어, 비즈니스 관점에서 고민하며 적어 봅시다."
   ]
  },
  {
   "cell_type": "markdown",
   "metadata": {
    "id": "z8TXXNrya9Ii"
   },
   "source": [
    "- 10~15년차 경력을 가진 직원이 가장 많다.\n",
    "- 75% 이상이 15년차인 것과, 분포를 봤을때 왼쪽으로 치우친 것으로 보아, 전반적으로 경력이 쌓일 수록 직원 수가 줄어드는 것을 알 수 있다."
   ]
  },
  {
   "cell_type": "markdown",
   "metadata": {
    "id": "AIsaM47ta9Ii"
   },
   "source": [
    "7) 추가 분석해 볼 사항이 있나요?"
   ]
  },
  {
   "cell_type": "markdown",
   "metadata": {
    "id": "rqWOcWU0a9Ii"
   },
   "source": [
    "- 이직한 직원의 총 경력 연수 비율"
   ]
  },
  {
   "cell_type": "code",
   "execution_count": 31,
   "metadata": {},
   "outputs": [
    {
     "data": {
      "text/html": [
       "<div>\n",
       "<style scoped>\n",
       "    .dataframe tbody tr th:only-of-type {\n",
       "        vertical-align: middle;\n",
       "    }\n",
       "\n",
       "    .dataframe tbody tr th {\n",
       "        vertical-align: top;\n",
       "    }\n",
       "\n",
       "    .dataframe thead th {\n",
       "        text-align: right;\n",
       "    }\n",
       "</style>\n",
       "<table border=\"1\" class=\"dataframe\">\n",
       "  <thead>\n",
       "    <tr style=\"text-align: right;\">\n",
       "      <th></th>\n",
       "      <th>Attrition</th>\n",
       "      <th>Age</th>\n",
       "      <th>BusinessTravel</th>\n",
       "      <th>Department</th>\n",
       "      <th>DistanceFromHome</th>\n",
       "      <th>EmployeeNumber</th>\n",
       "      <th>Gender</th>\n",
       "      <th>JobSatisfaction</th>\n",
       "      <th>MaritalStatus</th>\n",
       "      <th>MonthlyIncome</th>\n",
       "      <th>OverTime</th>\n",
       "      <th>PercentSalaryHike</th>\n",
       "      <th>RelationshipSatisfaction</th>\n",
       "      <th>StockOptionLevel</th>\n",
       "      <th>TotalWorkingYears</th>\n",
       "      <th>WorkLifeBalance</th>\n",
       "    </tr>\n",
       "  </thead>\n",
       "  <tbody>\n",
       "    <tr>\n",
       "      <th>5</th>\n",
       "      <td>Yes</td>\n",
       "      <td>22</td>\n",
       "      <td>Travel_Frequently</td>\n",
       "      <td>Research &amp; Development</td>\n",
       "      <td>4.0</td>\n",
       "      <td>593</td>\n",
       "      <td>Male</td>\n",
       "      <td>3</td>\n",
       "      <td>Single</td>\n",
       "      <td>3894</td>\n",
       "      <td>No</td>\n",
       "      <td>16</td>\n",
       "      <td>3</td>\n",
       "      <td>0</td>\n",
       "      <td>4</td>\n",
       "      <td>3</td>\n",
       "    </tr>\n",
       "    <tr>\n",
       "      <th>10</th>\n",
       "      <td>Yes</td>\n",
       "      <td>24</td>\n",
       "      <td>Travel_Rarely</td>\n",
       "      <td>Sales</td>\n",
       "      <td>3.0</td>\n",
       "      <td>720</td>\n",
       "      <td>Female</td>\n",
       "      <td>3</td>\n",
       "      <td>Single</td>\n",
       "      <td>4577</td>\n",
       "      <td>No</td>\n",
       "      <td>14</td>\n",
       "      <td>1</td>\n",
       "      <td>0</td>\n",
       "      <td>4</td>\n",
       "      <td>3</td>\n",
       "    </tr>\n",
       "    <tr>\n",
       "      <th>12</th>\n",
       "      <td>Yes</td>\n",
       "      <td>33</td>\n",
       "      <td>Travel_Rarely</td>\n",
       "      <td>Research &amp; Development</td>\n",
       "      <td>15.0</td>\n",
       "      <td>582</td>\n",
       "      <td>Male</td>\n",
       "      <td>3</td>\n",
       "      <td>Married</td>\n",
       "      <td>13610</td>\n",
       "      <td>Yes</td>\n",
       "      <td>12</td>\n",
       "      <td>4</td>\n",
       "      <td>0</td>\n",
       "      <td>15</td>\n",
       "      <td>4</td>\n",
       "    </tr>\n",
       "    <tr>\n",
       "      <th>18</th>\n",
       "      <td>Yes</td>\n",
       "      <td>58</td>\n",
       "      <td>Travel_Frequently</td>\n",
       "      <td>Research &amp; Development</td>\n",
       "      <td>2.0</td>\n",
       "      <td>918</td>\n",
       "      <td>Male</td>\n",
       "      <td>4</td>\n",
       "      <td>Divorced</td>\n",
       "      <td>2380</td>\n",
       "      <td>Yes</td>\n",
       "      <td>14</td>\n",
       "      <td>4</td>\n",
       "      <td>1</td>\n",
       "      <td>3</td>\n",
       "      <td>2</td>\n",
       "    </tr>\n",
       "    <tr>\n",
       "      <th>22</th>\n",
       "      <td>Yes</td>\n",
       "      <td>32</td>\n",
       "      <td>Travel_Rarely</td>\n",
       "      <td>Research &amp; Development</td>\n",
       "      <td>7.0</td>\n",
       "      <td>1309</td>\n",
       "      <td>Male</td>\n",
       "      <td>3</td>\n",
       "      <td>Married</td>\n",
       "      <td>4883</td>\n",
       "      <td>No</td>\n",
       "      <td>18</td>\n",
       "      <td>1</td>\n",
       "      <td>1</td>\n",
       "      <td>10</td>\n",
       "      <td>3</td>\n",
       "    </tr>\n",
       "  </tbody>\n",
       "</table>\n",
       "</div>"
      ],
      "text/plain": [
       "   Attrition  Age     BusinessTravel              Department  \\\n",
       "5        Yes   22  Travel_Frequently  Research & Development   \n",
       "10       Yes   24      Travel_Rarely                   Sales   \n",
       "12       Yes   33      Travel_Rarely  Research & Development   \n",
       "18       Yes   58  Travel_Frequently  Research & Development   \n",
       "22       Yes   32      Travel_Rarely  Research & Development   \n",
       "\n",
       "    DistanceFromHome  EmployeeNumber  Gender  JobSatisfaction MaritalStatus  \\\n",
       "5                4.0             593    Male                3        Single   \n",
       "10               3.0             720  Female                3        Single   \n",
       "12              15.0             582    Male                3       Married   \n",
       "18               2.0             918    Male                4      Divorced   \n",
       "22               7.0            1309    Male                3       Married   \n",
       "\n",
       "    MonthlyIncome OverTime  PercentSalaryHike  RelationshipSatisfaction  \\\n",
       "5            3894       No                 16                         3   \n",
       "10           4577       No                 14                         1   \n",
       "12          13610      Yes                 12                         4   \n",
       "18           2380      Yes                 14                         4   \n",
       "22           4883       No                 18                         1   \n",
       "\n",
       "    StockOptionLevel  TotalWorkingYears  WorkLifeBalance  \n",
       "5                  0                  4                3  \n",
       "10                 0                  4                3  \n",
       "12                 0                 15                4  \n",
       "18                 1                  3                2  \n",
       "22                 1                 10                3  "
      ]
     },
     "execution_count": 31,
     "metadata": {},
     "output_type": "execute_result"
    }
   ],
   "source": [
    "sub_df = attrition.loc[attrition[\"Attrition\"] == 'Yes']\n",
    "sub_df.head()"
   ]
  },
  {
   "cell_type": "code",
   "execution_count": 32,
   "metadata": {},
   "outputs": [
    {
     "data": {
      "text/plain": [
       "count    200.00000\n",
       "mean       8.03500\n",
       "std        6.87825\n",
       "min        0.00000\n",
       "25%        3.00000\n",
       "50%        7.00000\n",
       "75%       10.00000\n",
       "max       40.00000\n",
       "Name: TotalWorkingYears, dtype: float64"
      ]
     },
     "execution_count": 32,
     "metadata": {},
     "output_type": "execute_result"
    }
   ],
   "source": [
    "sub_df[\"TotalWorkingYears\"].describe()"
   ]
  },
  {
   "cell_type": "code",
   "execution_count": 33,
   "metadata": {},
   "outputs": [
    {
     "data": {
      "image/png": "[encoded data removed]",
      "text/plain": [
       "<Figure size 720x720 with 4 Axes>"
      ]
     },
     "metadata": {
      "needs_background": "light"
     },
     "output_type": "display_data"
    }
   ],
   "source": [
    "plt.figure(figsize=(10,10))\n",
    "\n",
    "plt.subplot(2,2,1)\n",
    "pd.Series(sub_df[\"TotalWorkingYears\"]).plot(kind='kde')\n",
    "\n",
    "plt.subplot(2,2,2)\n",
    "plt.hist(sub_df[\"TotalWorkingYears\"], bins= 3)\n",
    "\n",
    "plt.subplot(2,2,3)\n",
    "plt.boxplot(sub_df[\"TotalWorkingYears\"], vert = False)\n",
    "\n",
    "plt.subplot(2,2,4)\n",
    "plt.violinplot(sub_df[\"TotalWorkingYears\"], vert= False)\n",
    "\n",
    "plt.suptitle('TotalWorkingYears Distribution')\n",
    "plt.show()"
   ]
  },
  {
   "cell_type": "markdown",
   "metadata": {},
   "source": [
    "- 이직한 사람들의 평균 경력 연수가 8년인 것으로 보아, 평균 경력 연수가 10년 이하인 사람들이 이직하는 사람들이 많다.\n",
    "- 경력 연수가 높지 않은 청년들이 많이 이직하는 것으로 유추할 수 있다."
   ]
  },
  {
   "cell_type": "markdown",
   "metadata": {
    "id": "5ZbpQQrXPdOm"
   },
   "source": [
    "## 범주형 변수"
   ]
  },
  {
   "cell_type": "markdown",
   "metadata": {
    "id": "kqX5E-ksv4Bl"
   },
   "source": [
    "### ① Attrition"
   ]
  },
  {
   "cell_type": "code",
   "execution_count": 34,
   "metadata": {
    "id": "jF4sAsmtOZbs"
   },
   "outputs": [],
   "source": [
    "var = 'Attrition'"
   ]
  },
  {
   "cell_type": "markdown",
   "metadata": {
    "id": "3BvxFp7SI8Gl"
   },
   "source": [
    "1) 변수의 비즈니스 의미"
   ]
  },
  {
   "cell_type": "markdown",
   "metadata": {
    "id": "T6vUp9AsOQ0b"
   },
   "source": [
    "> 직원 이직여부"
   ]
  },
  {
   "cell_type": "markdown",
   "metadata": {
    "id": "hAaTYkgRI8Gl"
   },
   "source": [
    "2) 숫자, 범주?"
   ]
  },
  {
   "cell_type": "code",
   "execution_count": 35,
   "metadata": {
    "id": "FdFChl3ZI8Gm"
   },
   "outputs": [
    {
     "data": {
      "text/plain": [
       "array(['No', 'Yes'], dtype=object)"
      ]
     },
     "execution_count": 35,
     "metadata": {},
     "output_type": "execute_result"
    }
   ],
   "source": [
    "attrition[var].unique()"
   ]
  },
  {
   "cell_type": "markdown",
   "metadata": {
    "id": "nh7qf5FkOUL8"
   },
   "source": [
    "> * 범주형 데이터\n",
    "* 범주 종류 Yes , No"
   ]
  },
  {
   "cell_type": "markdown",
   "metadata": {
    "id": "jhav8qjXfh87"
   },
   "source": [
    "3) NaN 존재 유무 및 조치방안"
   ]
  },
  {
   "cell_type": "code",
   "execution_count": 36,
   "metadata": {
    "colab": {
     "base_uri": "https://localhost:8080/"
    },
    "executionInfo": {
     "elapsed": 17,
     "status": "ok",
     "timestamp": 1644492137142,
     "user": {
      "displayName": "한기영",
      "photoUrl": "https://lh3.googleusercontent.com/a/default-user=s64",
      "userId": "13049187003176135487"
     },
     "user_tz": -540
    },
    "id": "NQnsGdwII8Gm",
    "outputId": "2af42277-a348-46b6-af8c-5ff0690eeff6"
   },
   "outputs": [
    {
     "data": {
      "text/plain": [
       "0"
      ]
     },
     "execution_count": 36,
     "metadata": {},
     "output_type": "execute_result"
    }
   ],
   "source": [
    "attrition[var].isna().sum()"
   ]
  },
  {
   "cell_type": "markdown",
   "metadata": {
    "id": "yppcedb_O55k"
   },
   "source": [
    "> * NA 없음\n",
    "* 당연히 Target이기에 NA가 있으면 안됨!\n"
   ]
  },
  {
   "cell_type": "markdown",
   "metadata": {
    "id": "h3-WFHZHbEZZ"
   },
   "source": [
    "4) 가변수화 필요 여부"
   ]
  },
  {
   "cell_type": "markdown",
   "metadata": {
    "id": "Glmk3vDrbEZb"
   },
   "source": [
    "> * Yes , No로 되어 있음. \n",
    "* 1, 0으로 변환해야 함."
   ]
  },
  {
   "cell_type": "code",
   "execution_count": 37,
   "metadata": {
    "id": "gKnbb-6YgGok"
   },
   "outputs": [],
   "source": [
    "# 변환 코드\n",
    "# attrtion['Attrition'] = np.where(attrtion['Attrition'] == 'Yes', 1, 0)"
   ]
  },
  {
   "cell_type": "markdown",
   "metadata": {
    "id": "CO8V_hU8I8Gm"
   },
   "source": [
    "5) 기초통계량(수치화)"
   ]
  },
  {
   "cell_type": "code",
   "execution_count": 38,
   "metadata": {
    "id": "M3t_nbXuI8Gm"
   },
   "outputs": [
    {
     "name": "stdout",
     "output_type": "stream",
     "text": [
      "No     1050\n",
      "Yes     200\n",
      "Name: Attrition, dtype: int64\n",
      "No     0.84\n",
      "Yes    0.16\n",
      "Name: Attrition, dtype: float64\n"
     ]
    }
   ],
   "source": [
    "print(attrition[var].value_counts())\n",
    "print(attrition[var].value_counts()/ len(attrition[var]))"
   ]
  },
  {
   "cell_type": "markdown",
   "metadata": {
    "id": "L3WLlKxxI8Gn"
   },
   "source": [
    "6) 분포 확인(시각화)"
   ]
  },
  {
   "cell_type": "code",
   "execution_count": 39,
   "metadata": {
    "id": "Ll3FsEqbI8Gn"
   },
   "outputs": [
    {
     "name": "stderr",
     "output_type": "stream",
     "text": [
      "C:\\Users\\User\\anaconda3\\lib\\site-packages\\seaborn\\_decorators.py:36: FutureWarning: Pass the following variable as a keyword arg: x. From version 0.12, the only valid positional argument will be `data`, and passing other arguments without an explicit keyword will result in an error or misinterpretation.\n",
      "  warnings.warn(\n"
     ]
    },
    {
     "data": {
      "image/png": "[encoded data removed]",
      "text/plain": [
       "<Figure size 432x288 with 1 Axes>"
      ]
     },
     "metadata": {
      "needs_background": "light"
     },
     "output_type": "display_data"
    }
   ],
   "source": [
    "sns.countplot(attrition[var])\n",
    "plt.show()"
   ]
  },
  {
   "cell_type": "markdown",
   "metadata": {
    "id": "LvHI3ZL8I8Gn"
   },
   "source": [
    "7) 기초통계량과 분포를 통해서 파악한 내용을 적어 봅시다.\n",
    "\n",
    "보이는 그대로를 넘어, 비즈니스 관점에서 고민하며 적어 봅시다."
   ]
  },
  {
   "cell_type": "markdown",
   "metadata": {
    "id": "fK9zr5FGPm1E"
   },
   "source": [
    "> * 전체 1196명 직원\n",
    "* 이직자 : 195명, 이직율 : 0.163\n",
    "* 이직율이 16.3% 는 적정한가? 동종 업계 수준은? 전년대비?"
   ]
  },
  {
   "cell_type": "markdown",
   "metadata": {
    "id": "ZLyfuGt3I8Gn"
   },
   "source": [
    "8) 추가 분석해 볼 사항이 있나요?"
   ]
  },
  {
   "cell_type": "markdown",
   "metadata": {
    "id": "UqE4dpzEQBBM"
   },
   "source": [
    "> * Attribute가 Target 이므로, feature들과 Target 과의 관계를 살펴보게 될 것.\n",
    "* 그러므로 추가 분석하고자 하는 사항은 feature들을 살펴볼 때 도출하게 될 것이라 생각됨."
   ]
  },
  {
   "cell_type": "markdown",
   "metadata": {
    "id": "2N1hgVF6v4Bt"
   },
   "source": [
    "### ② OverTime\t"
   ]
  },
  {
   "cell_type": "markdown",
   "metadata": {
    "id": "K3y9NkZTmTG8"
   },
   "source": [
    "1) 변수의 비즈니스 의미"
   ]
  },
  {
   "cell_type": "markdown",
   "metadata": {
    "id": "XZjpSnoTb_d3"
   },
   "source": [
    "- 야근여부"
   ]
  },
  {
   "cell_type": "markdown",
   "metadata": {
    "id": "bXwpXivlmTG9"
   },
   "source": [
    "2) 숫자, 범주?"
   ]
  },
  {
   "cell_type": "code",
   "execution_count": 40,
   "metadata": {},
   "outputs": [
    {
     "data": {
      "text/plain": [
       "array(['No', 'Yes'], dtype=object)"
      ]
     },
     "execution_count": 40,
     "metadata": {},
     "output_type": "execute_result"
    }
   ],
   "source": [
    "attrition[\"OverTime\"].unique()"
   ]
  },
  {
   "cell_type": "markdown",
   "metadata": {
    "id": "0CXMwEgsmTG9"
   },
   "source": [
    "- 범주"
   ]
  },
  {
   "cell_type": "markdown",
   "metadata": {
    "id": "Vl9wetubf0D7"
   },
   "source": [
    "3) NaN 존재 유무 및 조치방안"
   ]
  },
  {
   "cell_type": "code",
   "execution_count": 41,
   "metadata": {
    "id": "faeBKQI0mTG-"
   },
   "outputs": [
    {
     "data": {
      "text/plain": [
       "0"
      ]
     },
     "execution_count": 41,
     "metadata": {},
     "output_type": "execute_result"
    }
   ],
   "source": [
    "attrition[\"OverTime\"].isna().sum()"
   ]
  },
  {
   "cell_type": "markdown",
   "metadata": {
    "id": "OnBaUd-sbxJc"
   },
   "source": [
    "4) 가변수화 필요 여부"
   ]
  },
  {
   "cell_type": "markdown",
   "metadata": {
    "id": "76wKnWQpb7oP"
   },
   "source": [
    "- Yes, No 이기 때문에 필요"
   ]
  },
  {
   "cell_type": "markdown",
   "metadata": {
    "id": "XjrsG5ovbxJc"
   },
   "source": [
    "5) 기초통계량(수치화)"
   ]
  },
  {
   "cell_type": "code",
   "execution_count": 42,
   "metadata": {
    "id": "WrhNpGFObxJd"
   },
   "outputs": [
    {
     "name": "stdout",
     "output_type": "stream",
     "text": [
      "No     896\n",
      "Yes    354\n",
      "Name: OverTime, dtype: int64\n",
      "No     0.7168\n",
      "Yes    0.2832\n",
      "Name: OverTime, dtype: float64\n"
     ]
    }
   ],
   "source": [
    "print(attrition[\"OverTime\"].value_counts())\n",
    "print(attrition[\"OverTime\"].value_counts()/ len(attrition[\"OverTime\"]))"
   ]
  },
  {
   "cell_type": "markdown",
   "metadata": {
    "id": "MB4Gq6KQbxJd"
   },
   "source": [
    "6) 분포 확인(시각화)"
   ]
  },
  {
   "cell_type": "code",
   "execution_count": 43,
   "metadata": {
    "id": "FZwtUC-4bxJd"
   },
   "outputs": [
    {
     "data": {
      "image/png": "[encoded data removed]",
      "text/plain": [
       "<Figure size 432x288 with 1 Axes>"
      ]
     },
     "metadata": {
      "needs_background": "light"
     },
     "output_type": "display_data"
    }
   ],
   "source": [
    "plt.hist(attrition[\"OverTime\"])\n",
    "\n",
    "plt.show()"
   ]
  },
  {
   "cell_type": "markdown",
   "metadata": {
    "id": "nP-N09cpbxJd"
   },
   "source": [
    "7) 기초통계량과 분포를 통해서 파악한 내용을 적어 봅시다.\n",
    "\n",
    "보이는 그대로를 넘어, 비즈니스 관점에서 고민하며 적어 봅시다."
   ]
  },
  {
   "cell_type": "markdown",
   "metadata": {
    "id": "TkE_F3j9b3aQ"
   },
   "source": [
    "- 야근하는 사람보다 야근하지 않는 사람들이 2배 이상이다."
   ]
  },
  {
   "cell_type": "markdown",
   "metadata": {
    "id": "VvYw3xF4bxJd"
   },
   "source": [
    "8) 추가 분석해 볼 사항이 있나요?"
   ]
  },
  {
   "cell_type": "markdown",
   "metadata": {
    "id": "10nzcQ6Hb4gN"
   },
   "source": [
    "- 이직한 사람들의 야근 비율"
   ]
  },
  {
   "cell_type": "code",
   "execution_count": 44,
   "metadata": {},
   "outputs": [
    {
     "data": {
      "text/html": [
       "<div>\n",
       "<style scoped>\n",
       "    .dataframe tbody tr th:only-of-type {\n",
       "        vertical-align: middle;\n",
       "    }\n",
       "\n",
       "    .dataframe tbody tr th {\n",
       "        vertical-align: top;\n",
       "    }\n",
       "\n",
       "    .dataframe thead th {\n",
       "        text-align: right;\n",
       "    }\n",
       "</style>\n",
       "<table border=\"1\" class=\"dataframe\">\n",
       "  <thead>\n",
       "    <tr style=\"text-align: right;\">\n",
       "      <th></th>\n",
       "      <th>Attrition</th>\n",
       "      <th>Age</th>\n",
       "      <th>BusinessTravel</th>\n",
       "      <th>Department</th>\n",
       "      <th>DistanceFromHome</th>\n",
       "      <th>EmployeeNumber</th>\n",
       "      <th>Gender</th>\n",
       "      <th>JobSatisfaction</th>\n",
       "      <th>MaritalStatus</th>\n",
       "      <th>MonthlyIncome</th>\n",
       "      <th>OverTime</th>\n",
       "      <th>PercentSalaryHike</th>\n",
       "      <th>RelationshipSatisfaction</th>\n",
       "      <th>StockOptionLevel</th>\n",
       "      <th>TotalWorkingYears</th>\n",
       "      <th>WorkLifeBalance</th>\n",
       "    </tr>\n",
       "  </thead>\n",
       "  <tbody>\n",
       "    <tr>\n",
       "      <th>5</th>\n",
       "      <td>Yes</td>\n",
       "      <td>22</td>\n",
       "      <td>Travel_Frequently</td>\n",
       "      <td>Research &amp; Development</td>\n",
       "      <td>4.0</td>\n",
       "      <td>593</td>\n",
       "      <td>Male</td>\n",
       "      <td>3</td>\n",
       "      <td>Single</td>\n",
       "      <td>3894</td>\n",
       "      <td>No</td>\n",
       "      <td>16</td>\n",
       "      <td>3</td>\n",
       "      <td>0</td>\n",
       "      <td>4</td>\n",
       "      <td>3</td>\n",
       "    </tr>\n",
       "    <tr>\n",
       "      <th>10</th>\n",
       "      <td>Yes</td>\n",
       "      <td>24</td>\n",
       "      <td>Travel_Rarely</td>\n",
       "      <td>Sales</td>\n",
       "      <td>3.0</td>\n",
       "      <td>720</td>\n",
       "      <td>Female</td>\n",
       "      <td>3</td>\n",
       "      <td>Single</td>\n",
       "      <td>4577</td>\n",
       "      <td>No</td>\n",
       "      <td>14</td>\n",
       "      <td>1</td>\n",
       "      <td>0</td>\n",
       "      <td>4</td>\n",
       "      <td>3</td>\n",
       "    </tr>\n",
       "    <tr>\n",
       "      <th>12</th>\n",
       "      <td>Yes</td>\n",
       "      <td>33</td>\n",
       "      <td>Travel_Rarely</td>\n",
       "      <td>Research &amp; Development</td>\n",
       "      <td>15.0</td>\n",
       "      <td>582</td>\n",
       "      <td>Male</td>\n",
       "      <td>3</td>\n",
       "      <td>Married</td>\n",
       "      <td>13610</td>\n",
       "      <td>Yes</td>\n",
       "      <td>12</td>\n",
       "      <td>4</td>\n",
       "      <td>0</td>\n",
       "      <td>15</td>\n",
       "      <td>4</td>\n",
       "    </tr>\n",
       "    <tr>\n",
       "      <th>18</th>\n",
       "      <td>Yes</td>\n",
       "      <td>58</td>\n",
       "      <td>Travel_Frequently</td>\n",
       "      <td>Research &amp; Development</td>\n",
       "      <td>2.0</td>\n",
       "      <td>918</td>\n",
       "      <td>Male</td>\n",
       "      <td>4</td>\n",
       "      <td>Divorced</td>\n",
       "      <td>2380</td>\n",
       "      <td>Yes</td>\n",
       "      <td>14</td>\n",
       "      <td>4</td>\n",
       "      <td>1</td>\n",
       "      <td>3</td>\n",
       "      <td>2</td>\n",
       "    </tr>\n",
       "    <tr>\n",
       "      <th>22</th>\n",
       "      <td>Yes</td>\n",
       "      <td>32</td>\n",
       "      <td>Travel_Rarely</td>\n",
       "      <td>Research &amp; Development</td>\n",
       "      <td>7.0</td>\n",
       "      <td>1309</td>\n",
       "      <td>Male</td>\n",
       "      <td>3</td>\n",
       "      <td>Married</td>\n",
       "      <td>4883</td>\n",
       "      <td>No</td>\n",
       "      <td>18</td>\n",
       "      <td>1</td>\n",
       "      <td>1</td>\n",
       "      <td>10</td>\n",
       "      <td>3</td>\n",
       "    </tr>\n",
       "  </tbody>\n",
       "</table>\n",
       "</div>"
      ],
      "text/plain": [
       "   Attrition  Age     BusinessTravel              Department  \\\n",
       "5        Yes   22  Travel_Frequently  Research & Development   \n",
       "10       Yes   24      Travel_Rarely                   Sales   \n",
       "12       Yes   33      Travel_Rarely  Research & Development   \n",
       "18       Yes   58  Travel_Frequently  Research & Development   \n",
       "22       Yes   32      Travel_Rarely  Research & Development   \n",
       "\n",
       "    DistanceFromHome  EmployeeNumber  Gender  JobSatisfaction MaritalStatus  \\\n",
       "5                4.0             593    Male                3        Single   \n",
       "10               3.0             720  Female                3        Single   \n",
       "12              15.0             582    Male                3       Married   \n",
       "18               2.0             918    Male                4      Divorced   \n",
       "22               7.0            1309    Male                3       Married   \n",
       "\n",
       "    MonthlyIncome OverTime  PercentSalaryHike  RelationshipSatisfaction  \\\n",
       "5            3894       No                 16                         3   \n",
       "10           4577       No                 14                         1   \n",
       "12          13610      Yes                 12                         4   \n",
       "18           2380      Yes                 14                         4   \n",
       "22           4883       No                 18                         1   \n",
       "\n",
       "    StockOptionLevel  TotalWorkingYears  WorkLifeBalance  \n",
       "5                  0                  4                3  \n",
       "10                 0                  4                3  \n",
       "12                 0                 15                4  \n",
       "18                 1                  3                2  \n",
       "22                 1                 10                3  "
      ]
     },
     "execution_count": 44,
     "metadata": {},
     "output_type": "execute_result"
    }
   ],
   "source": [
    "sub_df = attrition.loc[attrition[\"Attrition\"] == 'Yes']\n",
    "sub_df.head()"
   ]
  },
  {
   "cell_type": "code",
   "execution_count": 45,
   "metadata": {},
   "outputs": [
    {
     "name": "stdout",
     "output_type": "stream",
     "text": [
      "Yes    107\n",
      "No      93\n",
      "Name: OverTime, dtype: int64\n",
      "Yes    0.535\n",
      "No     0.465\n",
      "Name: OverTime, dtype: float64\n"
     ]
    }
   ],
   "source": [
    "print(sub_df[\"OverTime\"].value_counts())\n",
    "print(sub_df[\"OverTime\"].value_counts()/ len(sub_df[\"OverTime\"]))"
   ]
  },
  {
   "cell_type": "code",
   "execution_count": 46,
   "metadata": {},
   "outputs": [
    {
     "data": {
      "image/png": "[encoded data removed]",
      "text/plain": [
       "<Figure size 432x288 with 1 Axes>"
      ]
     },
     "metadata": {
      "needs_background": "light"
     },
     "output_type": "display_data"
    }
   ],
   "source": [
    "plt.hist(sub_df[\"OverTime\"], bins= 6)\n",
    "plt.title('OverTime Distribution')\n",
    "plt.show()"
   ]
  },
  {
   "cell_type": "markdown",
   "metadata": {},
   "source": [
    "- 모든 직원들의 야근 비율에서는 야근 하지 않는 사람들이 야근 하는 사람보다 2배 이상으로 많았다면, 이직한 사람들의 야근 비율은 거의 50%인 것으로 보아 이직 원인에 야근 여부가 중요한 요소라고 유추할 수 있다."
   ]
  },
  {
   "cell_type": "code",
   "execution_count": null,
   "metadata": {},
   "outputs": [],
   "source": []
  },
  {
   "cell_type": "markdown",
   "metadata": {
    "id": "ehnCxKg0v4Bt"
   },
   "source": [
    "### ③ MaritalStatus"
   ]
  },
  {
   "cell_type": "markdown",
   "metadata": {
    "id": "eQpGkZFFcBwA"
   },
   "source": [
    "1) 변수의 비즈니스 의미"
   ]
  },
  {
   "cell_type": "markdown",
   "metadata": {
    "id": "b7giGYR1cBwA"
   },
   "source": [
    "- 결혼상태"
   ]
  },
  {
   "cell_type": "markdown",
   "metadata": {
    "id": "oLEZaWh8cBwA"
   },
   "source": [
    "2) 숫자, 범주?"
   ]
  },
  {
   "cell_type": "code",
   "execution_count": 47,
   "metadata": {
    "id": "fh92qSN-cBwA"
   },
   "outputs": [
    {
     "data": {
      "text/plain": [
       "array(['Married', 'Single', 'Divorced'], dtype=object)"
      ]
     },
     "execution_count": 47,
     "metadata": {},
     "output_type": "execute_result"
    }
   ],
   "source": [
    "attrition[\"MaritalStatus\"].unique()"
   ]
  },
  {
   "cell_type": "markdown",
   "metadata": {
    "id": "7T1584q4cBwA"
   },
   "source": [
    "- 범주"
   ]
  },
  {
   "cell_type": "markdown",
   "metadata": {
    "id": "Emexu9Osf1Fx"
   },
   "source": [
    "3) NaN 존재 유무 및 조치방안"
   ]
  },
  {
   "cell_type": "code",
   "execution_count": 48,
   "metadata": {
    "id": "bo6YMYJCcBwA"
   },
   "outputs": [
    {
     "data": {
      "text/plain": [
       "0"
      ]
     },
     "execution_count": 48,
     "metadata": {},
     "output_type": "execute_result"
    }
   ],
   "source": [
    "attrition[\"OverTime\"].isna().sum()"
   ]
  },
  {
   "cell_type": "markdown",
   "metadata": {
    "id": "G6COZOx1cBwA"
   },
   "source": [
    "4) 가변수화 필요 여부"
   ]
  },
  {
   "cell_type": "markdown",
   "metadata": {
    "id": "bJeT3THGcBwB"
   },
   "source": [
    "- 필요"
   ]
  },
  {
   "cell_type": "markdown",
   "metadata": {
    "id": "zTs01z1BcBwB"
   },
   "source": [
    "5) 기초통계량(수치화)"
   ]
  },
  {
   "cell_type": "code",
   "execution_count": 49,
   "metadata": {
    "id": "IAODVERucBwB"
   },
   "outputs": [
    {
     "name": "stdout",
     "output_type": "stream",
     "text": [
      "Married     570\n",
      "Single      404\n",
      "Divorced    276\n",
      "Name: MaritalStatus, dtype: int64\n",
      "Married     0.4560\n",
      "Single      0.3232\n",
      "Divorced    0.2208\n",
      "Name: MaritalStatus, dtype: float64\n"
     ]
    }
   ],
   "source": [
    "print(attrition[\"MaritalStatus\"].value_counts())\n",
    "print(attrition[\"MaritalStatus\"].value_counts()/ len(attrition[\"MaritalStatus\"]))"
   ]
  },
  {
   "cell_type": "markdown",
   "metadata": {
    "id": "fRqGU6D1cBwB"
   },
   "source": [
    "6) 분포 확인(시각화)"
   ]
  },
  {
   "cell_type": "code",
   "execution_count": 50,
   "metadata": {
    "id": "c9c9OvrUcBwB"
   },
   "outputs": [
    {
     "data": {
      "image/png": "[encoded data removed]",
      "text/plain": [
       "<Figure size 432x288 with 1 Axes>"
      ]
     },
     "metadata": {
      "needs_background": "light"
     },
     "output_type": "display_data"
    }
   ],
   "source": [
    "plt.hist(attrition[\"MaritalStatus\"])\n",
    "\n",
    "plt.show()"
   ]
  },
  {
   "cell_type": "markdown",
   "metadata": {
    "id": "3Kb5FtPscBwB"
   },
   "source": [
    "7) 기초통계량과 분포를 통해서 파악한 내용을 적어 봅시다.\n",
    "\n",
    "보이는 그대로를 넘어, 비즈니스 관점에서 고민하며 적어 봅시다."
   ]
  },
  {
   "cell_type": "markdown",
   "metadata": {
    "id": "DrMNC21hcBwB"
   },
   "source": [
    "- 결혼 > 미혼 > 이혼 순으로 많다."
   ]
  },
  {
   "cell_type": "markdown",
   "metadata": {
    "id": "DSelws1HcBwB"
   },
   "source": [
    "8) 추가 분석해 볼 사항이 있나요?"
   ]
  },
  {
   "cell_type": "markdown",
   "metadata": {
    "id": "bzGW8dEtcBwB"
   },
   "source": [
    "- 이직한 사람들의 결혼 여부 상태"
   ]
  },
  {
   "cell_type": "code",
   "execution_count": 51,
   "metadata": {},
   "outputs": [
    {
     "data": {
      "text/html": [
       "<div>\n",
       "<style scoped>\n",
       "    .dataframe tbody tr th:only-of-type {\n",
       "        vertical-align: middle;\n",
       "    }\n",
       "\n",
       "    .dataframe tbody tr th {\n",
       "        vertical-align: top;\n",
       "    }\n",
       "\n",
       "    .dataframe thead th {\n",
       "        text-align: right;\n",
       "    }\n",
       "</style>\n",
       "<table border=\"1\" class=\"dataframe\">\n",
       "  <thead>\n",
       "    <tr style=\"text-align: right;\">\n",
       "      <th></th>\n",
       "      <th>Attrition</th>\n",
       "      <th>Age</th>\n",
       "      <th>BusinessTravel</th>\n",
       "      <th>Department</th>\n",
       "      <th>DistanceFromHome</th>\n",
       "      <th>EmployeeNumber</th>\n",
       "      <th>Gender</th>\n",
       "      <th>JobSatisfaction</th>\n",
       "      <th>MaritalStatus</th>\n",
       "      <th>MonthlyIncome</th>\n",
       "      <th>OverTime</th>\n",
       "      <th>PercentSalaryHike</th>\n",
       "      <th>RelationshipSatisfaction</th>\n",
       "      <th>StockOptionLevel</th>\n",
       "      <th>TotalWorkingYears</th>\n",
       "      <th>WorkLifeBalance</th>\n",
       "    </tr>\n",
       "  </thead>\n",
       "  <tbody>\n",
       "    <tr>\n",
       "      <th>5</th>\n",
       "      <td>Yes</td>\n",
       "      <td>22</td>\n",
       "      <td>Travel_Frequently</td>\n",
       "      <td>Research &amp; Development</td>\n",
       "      <td>4.0</td>\n",
       "      <td>593</td>\n",
       "      <td>Male</td>\n",
       "      <td>3</td>\n",
       "      <td>Single</td>\n",
       "      <td>3894</td>\n",
       "      <td>No</td>\n",
       "      <td>16</td>\n",
       "      <td>3</td>\n",
       "      <td>0</td>\n",
       "      <td>4</td>\n",
       "      <td>3</td>\n",
       "    </tr>\n",
       "    <tr>\n",
       "      <th>10</th>\n",
       "      <td>Yes</td>\n",
       "      <td>24</td>\n",
       "      <td>Travel_Rarely</td>\n",
       "      <td>Sales</td>\n",
       "      <td>3.0</td>\n",
       "      <td>720</td>\n",
       "      <td>Female</td>\n",
       "      <td>3</td>\n",
       "      <td>Single</td>\n",
       "      <td>4577</td>\n",
       "      <td>No</td>\n",
       "      <td>14</td>\n",
       "      <td>1</td>\n",
       "      <td>0</td>\n",
       "      <td>4</td>\n",
       "      <td>3</td>\n",
       "    </tr>\n",
       "    <tr>\n",
       "      <th>12</th>\n",
       "      <td>Yes</td>\n",
       "      <td>33</td>\n",
       "      <td>Travel_Rarely</td>\n",
       "      <td>Research &amp; Development</td>\n",
       "      <td>15.0</td>\n",
       "      <td>582</td>\n",
       "      <td>Male</td>\n",
       "      <td>3</td>\n",
       "      <td>Married</td>\n",
       "      <td>13610</td>\n",
       "      <td>Yes</td>\n",
       "      <td>12</td>\n",
       "      <td>4</td>\n",
       "      <td>0</td>\n",
       "      <td>15</td>\n",
       "      <td>4</td>\n",
       "    </tr>\n",
       "    <tr>\n",
       "      <th>18</th>\n",
       "      <td>Yes</td>\n",
       "      <td>58</td>\n",
       "      <td>Travel_Frequently</td>\n",
       "      <td>Research &amp; Development</td>\n",
       "      <td>2.0</td>\n",
       "      <td>918</td>\n",
       "      <td>Male</td>\n",
       "      <td>4</td>\n",
       "      <td>Divorced</td>\n",
       "      <td>2380</td>\n",
       "      <td>Yes</td>\n",
       "      <td>14</td>\n",
       "      <td>4</td>\n",
       "      <td>1</td>\n",
       "      <td>3</td>\n",
       "      <td>2</td>\n",
       "    </tr>\n",
       "    <tr>\n",
       "      <th>22</th>\n",
       "      <td>Yes</td>\n",
       "      <td>32</td>\n",
       "      <td>Travel_Rarely</td>\n",
       "      <td>Research &amp; Development</td>\n",
       "      <td>7.0</td>\n",
       "      <td>1309</td>\n",
       "      <td>Male</td>\n",
       "      <td>3</td>\n",
       "      <td>Married</td>\n",
       "      <td>4883</td>\n",
       "      <td>No</td>\n",
       "      <td>18</td>\n",
       "      <td>1</td>\n",
       "      <td>1</td>\n",
       "      <td>10</td>\n",
       "      <td>3</td>\n",
       "    </tr>\n",
       "  </tbody>\n",
       "</table>\n",
       "</div>"
      ],
      "text/plain": [
       "   Attrition  Age     BusinessTravel              Department  \\\n",
       "5        Yes   22  Travel_Frequently  Research & Development   \n",
       "10       Yes   24      Travel_Rarely                   Sales   \n",
       "12       Yes   33      Travel_Rarely  Research & Development   \n",
       "18       Yes   58  Travel_Frequently  Research & Development   \n",
       "22       Yes   32      Travel_Rarely  Research & Development   \n",
       "\n",
       "    DistanceFromHome  EmployeeNumber  Gender  JobSatisfaction MaritalStatus  \\\n",
       "5                4.0             593    Male                3        Single   \n",
       "10               3.0             720  Female                3        Single   \n",
       "12              15.0             582    Male                3       Married   \n",
       "18               2.0             918    Male                4      Divorced   \n",
       "22               7.0            1309    Male                3       Married   \n",
       "\n",
       "    MonthlyIncome OverTime  PercentSalaryHike  RelationshipSatisfaction  \\\n",
       "5            3894       No                 16                         3   \n",
       "10           4577       No                 14                         1   \n",
       "12          13610      Yes                 12                         4   \n",
       "18           2380      Yes                 14                         4   \n",
       "22           4883       No                 18                         1   \n",
       "\n",
       "    StockOptionLevel  TotalWorkingYears  WorkLifeBalance  \n",
       "5                  0                  4                3  \n",
       "10                 0                  4                3  \n",
       "12                 0                 15                4  \n",
       "18                 1                  3                2  \n",
       "22                 1                 10                3  "
      ]
     },
     "execution_count": 51,
     "metadata": {},
     "output_type": "execute_result"
    }
   ],
   "source": [
    "sub_df = attrition.loc[attrition[\"Attrition\"] == 'Yes']\n",
    "sub_df.head()"
   ]
  },
  {
   "cell_type": "code",
   "execution_count": 52,
   "metadata": {},
   "outputs": [
    {
     "name": "stdout",
     "output_type": "stream",
     "text": [
      "Single      108\n",
      "Married      69\n",
      "Divorced     23\n",
      "Name: MaritalStatus, dtype: int64\n",
      "Single      0.540\n",
      "Married     0.345\n",
      "Divorced    0.115\n",
      "Name: MaritalStatus, dtype: float64\n"
     ]
    }
   ],
   "source": [
    "print(sub_df[\"MaritalStatus\"].value_counts())\n",
    "print(sub_df[\"MaritalStatus\"].value_counts()/ len(sub_df[\"MaritalStatus\"]))"
   ]
  },
  {
   "cell_type": "code",
   "execution_count": 53,
   "metadata": {},
   "outputs": [
    {
     "data": {
      "image/png": "[encoded data removed]",
      "text/plain": [
       "<Figure size 432x288 with 1 Axes>"
      ]
     },
     "metadata": {
      "needs_background": "light"
     },
     "output_type": "display_data"
    }
   ],
   "source": [
    "plt.hist(sub_df[\"MaritalStatus\"], bins= 6)\n",
    "plt.title('MaritalStatus Distribution')\n",
    "plt.show()"
   ]
  },
  {
   "cell_type": "markdown",
   "metadata": {},
   "source": [
    "- 미혼 > 결혼 > 이혼 순으로 많다.\n",
    "- 이직한 사람들은 미혼이 50% 이상인 것으로 보아 미혼인 사람들이 이직 하는 비율이 높을 것이라고 생각한다."
   ]
  },
  {
   "cell_type": "markdown",
   "metadata": {
    "id": "HqMdYVJxv4Bu"
   },
   "source": [
    "### ④ JobSatisfaction"
   ]
  },
  {
   "cell_type": "markdown",
   "metadata": {
    "id": "temZlJu4cGHQ"
   },
   "source": [
    "1) 변수의 비즈니스 의미"
   ]
  },
  {
   "cell_type": "markdown",
   "metadata": {
    "id": "O8_Z3WR7cGHQ"
   },
   "source": [
    "- 직무 만족도"
   ]
  },
  {
   "cell_type": "markdown",
   "metadata": {
    "id": "fuuhsktlcGHQ"
   },
   "source": [
    "2) 숫자, 범주?"
   ]
  },
  {
   "cell_type": "code",
   "execution_count": 54,
   "metadata": {
    "id": "4L2tXC5ncGHQ"
   },
   "outputs": [
    {
     "data": {
      "text/plain": [
       "array([3, 4, 1, 2], dtype=int64)"
      ]
     },
     "execution_count": 54,
     "metadata": {},
     "output_type": "execute_result"
    }
   ],
   "source": [
    "attrition[\"JobSatisfaction\"].unique()"
   ]
  },
  {
   "cell_type": "markdown",
   "metadata": {
    "id": "VZpkLSevcGHQ"
   },
   "source": [
    "- 범주"
   ]
  },
  {
   "cell_type": "markdown",
   "metadata": {
    "id": "gHn3VvxVf2GR"
   },
   "source": [
    "3) NaN 존재 유무 및 조치방안"
   ]
  },
  {
   "cell_type": "code",
   "execution_count": 55,
   "metadata": {
    "id": "-bVDHHwgcGHQ"
   },
   "outputs": [
    {
     "data": {
      "text/plain": [
       "0"
      ]
     },
     "execution_count": 55,
     "metadata": {},
     "output_type": "execute_result"
    }
   ],
   "source": [
    "attrition[\"JobSatisfaction\"].isna().sum()"
   ]
  },
  {
   "cell_type": "markdown",
   "metadata": {
    "id": "y7afj2h4cGHQ"
   },
   "source": [
    "4) 가변수화 필요 여부"
   ]
  },
  {
   "cell_type": "markdown",
   "metadata": {
    "id": "zKwoQKT0cGHQ"
   },
   "source": [
    "- 필요없다"
   ]
  },
  {
   "cell_type": "markdown",
   "metadata": {
    "id": "uIfl2qpGcGHQ"
   },
   "source": [
    "5) 기초통계량(수치화)"
   ]
  },
  {
   "cell_type": "code",
   "execution_count": 56,
   "metadata": {
    "id": "mbPvBXeTcGHR"
   },
   "outputs": [
    {
     "name": "stdout",
     "output_type": "stream",
     "text": [
      "4    397\n",
      "3    368\n",
      "1    250\n",
      "2    235\n",
      "Name: JobSatisfaction, dtype: int64\n",
      "4    0.3176\n",
      "3    0.2944\n",
      "1    0.2000\n",
      "2    0.1880\n",
      "Name: JobSatisfaction, dtype: float64\n"
     ]
    }
   ],
   "source": [
    "print(attrition[\"JobSatisfaction\"].value_counts())\n",
    "print(attrition[\"JobSatisfaction\"].value_counts()/ len(attrition[\"JobSatisfaction\"]))"
   ]
  },
  {
   "cell_type": "markdown",
   "metadata": {
    "id": "-7rZvYr3cGHR"
   },
   "source": [
    "6) 분포 확인(시각화)"
   ]
  },
  {
   "cell_type": "code",
   "execution_count": 57,
   "metadata": {
    "id": "ejzanjdscGHR"
   },
   "outputs": [
    {
     "data": {
      "image/png": "[encoded data removed]",
      "text/plain": [
       "<Figure size 432x288 with 1 Axes>"
      ]
     },
     "metadata": {
      "needs_background": "light"
     },
     "output_type": "display_data"
    }
   ],
   "source": [
    "plt.hist(attrition[\"JobSatisfaction\"])\n",
    "\n",
    "plt.show()"
   ]
  },
  {
   "cell_type": "markdown",
   "metadata": {
    "id": "RGuBwPTbcGHR"
   },
   "source": [
    "7) 기초통계량과 분포를 통해서 파악한 내용을 적어 봅시다.\n",
    "\n",
    "보이는 그대로를 넘어, 비즈니스 관점에서 고민하며 적어 봅시다."
   ]
  },
  {
   "cell_type": "markdown",
   "metadata": {
    "id": "n9SwK4azcGHR"
   },
   "source": [
    "- 3~4 점을 준 직원이 약 50% 인 것으로 보아 직원의 직무 만족도가 나쁜편은 아닌 것 같다."
   ]
  },
  {
   "cell_type": "markdown",
   "metadata": {
    "id": "ESaXEdHRcGHR"
   },
   "source": [
    "8) 추가 분석해 볼 사항이 있나요?"
   ]
  },
  {
   "cell_type": "markdown",
   "metadata": {
    "id": "hSPxRx1YcGHR"
   },
   "source": [
    "- 이직한 사람들의 직무 만족도"
   ]
  },
  {
   "cell_type": "code",
   "execution_count": 58,
   "metadata": {},
   "outputs": [
    {
     "data": {
      "text/html": [
       "<div>\n",
       "<style scoped>\n",
       "    .dataframe tbody tr th:only-of-type {\n",
       "        vertical-align: middle;\n",
       "    }\n",
       "\n",
       "    .dataframe tbody tr th {\n",
       "        vertical-align: top;\n",
       "    }\n",
       "\n",
       "    .dataframe thead th {\n",
       "        text-align: right;\n",
       "    }\n",
       "</style>\n",
       "<table border=\"1\" class=\"dataframe\">\n",
       "  <thead>\n",
       "    <tr style=\"text-align: right;\">\n",
       "      <th></th>\n",
       "      <th>Attrition</th>\n",
       "      <th>Age</th>\n",
       "      <th>BusinessTravel</th>\n",
       "      <th>Department</th>\n",
       "      <th>DistanceFromHome</th>\n",
       "      <th>EmployeeNumber</th>\n",
       "      <th>Gender</th>\n",
       "      <th>JobSatisfaction</th>\n",
       "      <th>MaritalStatus</th>\n",
       "      <th>MonthlyIncome</th>\n",
       "      <th>OverTime</th>\n",
       "      <th>PercentSalaryHike</th>\n",
       "      <th>RelationshipSatisfaction</th>\n",
       "      <th>StockOptionLevel</th>\n",
       "      <th>TotalWorkingYears</th>\n",
       "      <th>WorkLifeBalance</th>\n",
       "    </tr>\n",
       "  </thead>\n",
       "  <tbody>\n",
       "    <tr>\n",
       "      <th>5</th>\n",
       "      <td>Yes</td>\n",
       "      <td>22</td>\n",
       "      <td>Travel_Frequently</td>\n",
       "      <td>Research &amp; Development</td>\n",
       "      <td>4.0</td>\n",
       "      <td>593</td>\n",
       "      <td>Male</td>\n",
       "      <td>3</td>\n",
       "      <td>Single</td>\n",
       "      <td>3894</td>\n",
       "      <td>No</td>\n",
       "      <td>16</td>\n",
       "      <td>3</td>\n",
       "      <td>0</td>\n",
       "      <td>4</td>\n",
       "      <td>3</td>\n",
       "    </tr>\n",
       "    <tr>\n",
       "      <th>10</th>\n",
       "      <td>Yes</td>\n",
       "      <td>24</td>\n",
       "      <td>Travel_Rarely</td>\n",
       "      <td>Sales</td>\n",
       "      <td>3.0</td>\n",
       "      <td>720</td>\n",
       "      <td>Female</td>\n",
       "      <td>3</td>\n",
       "      <td>Single</td>\n",
       "      <td>4577</td>\n",
       "      <td>No</td>\n",
       "      <td>14</td>\n",
       "      <td>1</td>\n",
       "      <td>0</td>\n",
       "      <td>4</td>\n",
       "      <td>3</td>\n",
       "    </tr>\n",
       "    <tr>\n",
       "      <th>12</th>\n",
       "      <td>Yes</td>\n",
       "      <td>33</td>\n",
       "      <td>Travel_Rarely</td>\n",
       "      <td>Research &amp; Development</td>\n",
       "      <td>15.0</td>\n",
       "      <td>582</td>\n",
       "      <td>Male</td>\n",
       "      <td>3</td>\n",
       "      <td>Married</td>\n",
       "      <td>13610</td>\n",
       "      <td>Yes</td>\n",
       "      <td>12</td>\n",
       "      <td>4</td>\n",
       "      <td>0</td>\n",
       "      <td>15</td>\n",
       "      <td>4</td>\n",
       "    </tr>\n",
       "    <tr>\n",
       "      <th>18</th>\n",
       "      <td>Yes</td>\n",
       "      <td>58</td>\n",
       "      <td>Travel_Frequently</td>\n",
       "      <td>Research &amp; Development</td>\n",
       "      <td>2.0</td>\n",
       "      <td>918</td>\n",
       "      <td>Male</td>\n",
       "      <td>4</td>\n",
       "      <td>Divorced</td>\n",
       "      <td>2380</td>\n",
       "      <td>Yes</td>\n",
       "      <td>14</td>\n",
       "      <td>4</td>\n",
       "      <td>1</td>\n",
       "      <td>3</td>\n",
       "      <td>2</td>\n",
       "    </tr>\n",
       "    <tr>\n",
       "      <th>22</th>\n",
       "      <td>Yes</td>\n",
       "      <td>32</td>\n",
       "      <td>Travel_Rarely</td>\n",
       "      <td>Research &amp; Development</td>\n",
       "      <td>7.0</td>\n",
       "      <td>1309</td>\n",
       "      <td>Male</td>\n",
       "      <td>3</td>\n",
       "      <td>Married</td>\n",
       "      <td>4883</td>\n",
       "      <td>No</td>\n",
       "      <td>18</td>\n",
       "      <td>1</td>\n",
       "      <td>1</td>\n",
       "      <td>10</td>\n",
       "      <td>3</td>\n",
       "    </tr>\n",
       "  </tbody>\n",
       "</table>\n",
       "</div>"
      ],
      "text/plain": [
       "   Attrition  Age     BusinessTravel              Department  \\\n",
       "5        Yes   22  Travel_Frequently  Research & Development   \n",
       "10       Yes   24      Travel_Rarely                   Sales   \n",
       "12       Yes   33      Travel_Rarely  Research & Development   \n",
       "18       Yes   58  Travel_Frequently  Research & Development   \n",
       "22       Yes   32      Travel_Rarely  Research & Development   \n",
       "\n",
       "    DistanceFromHome  EmployeeNumber  Gender  JobSatisfaction MaritalStatus  \\\n",
       "5                4.0             593    Male                3        Single   \n",
       "10               3.0             720  Female                3        Single   \n",
       "12              15.0             582    Male                3       Married   \n",
       "18               2.0             918    Male                4      Divorced   \n",
       "22               7.0            1309    Male                3       Married   \n",
       "\n",
       "    MonthlyIncome OverTime  PercentSalaryHike  RelationshipSatisfaction  \\\n",
       "5            3894       No                 16                         3   \n",
       "10           4577       No                 14                         1   \n",
       "12          13610      Yes                 12                         4   \n",
       "18           2380      Yes                 14                         4   \n",
       "22           4883       No                 18                         1   \n",
       "\n",
       "    StockOptionLevel  TotalWorkingYears  WorkLifeBalance  \n",
       "5                  0                  4                3  \n",
       "10                 0                  4                3  \n",
       "12                 0                 15                4  \n",
       "18                 1                  3                2  \n",
       "22                 1                 10                3  "
      ]
     },
     "execution_count": 58,
     "metadata": {},
     "output_type": "execute_result"
    }
   ],
   "source": [
    "sub_df = attrition.loc[attrition[\"Attrition\"] == 'Yes']\n",
    "sub_df.head()"
   ]
  },
  {
   "cell_type": "code",
   "execution_count": 59,
   "metadata": {},
   "outputs": [
    {
     "name": "stdout",
     "output_type": "stream",
     "text": [
      "3    60\n",
      "1    53\n",
      "4    48\n",
      "2    39\n",
      "Name: JobSatisfaction, dtype: int64\n",
      "3    0.300\n",
      "1    0.265\n",
      "4    0.240\n",
      "2    0.195\n",
      "Name: JobSatisfaction, dtype: float64\n"
     ]
    }
   ],
   "source": [
    "print(sub_df[\"JobSatisfaction\"].value_counts())\n",
    "print(sub_df[\"JobSatisfaction\"].value_counts()/ len(sub_df[\"JobSatisfaction\"]))"
   ]
  },
  {
   "cell_type": "code",
   "execution_count": 60,
   "metadata": {},
   "outputs": [
    {
     "data": {
      "image/png": "[encoded data removed]",
      "text/plain": [
       "<Figure size 432x288 with 1 Axes>"
      ]
     },
     "metadata": {
      "needs_background": "light"
     },
     "output_type": "display_data"
    }
   ],
   "source": [
    "plt.hist(sub_df[\"JobSatisfaction\"])\n",
    "plt.title('JobSatisfaction Distribution')\n",
    "plt.show()"
   ]
  },
  {
   "cell_type": "markdown",
   "metadata": {},
   "source": [
    "- 이직한 사람들의 직무 만족도도 3~4점이 약 50%로 높은 비율을 가지고 있는 편이지만, 1점으로 평가한 비율이 이전에 모든 직원의 직무 만족도에서이 1점 비율보다 상당히 많이 증가한 것으로 보인다.\n",
    "- 1점으로 평가한 직원이 확실히 상대적으로 높아진 것으로 보아 이직 여부와 연관이 있는 요소라고 생각한다."
   ]
  }
 ],
 "metadata": {
  "colab": {
   "collapsed_sections": [],
   "name": "06과 단변량분석 확인사항_종합실습.ipynb",
   "provenance": [],
   "toc_visible": true
  },
  "kernelspec": {
   "display_name": "Python 3",
   "language": "python",
   "name": "python3"
  },
  "language_info": {
   "codemirror_mode": {
    "name": "ipython",
    "version": 3
   },
   "file_extension": ".py",
   "mimetype": "text/x-python",
   "name": "python",
   "nbconvert_exporter": "python",
   "pygments_lexer": "ipython3",
   "version": "3.8.8"
  }
 },
 "nbformat": 4,
 "nbformat_minor": 1
}
